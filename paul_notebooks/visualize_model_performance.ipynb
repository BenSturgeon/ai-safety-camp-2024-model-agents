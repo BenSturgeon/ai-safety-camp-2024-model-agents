{
 "cells": [
  {
   "cell_type": "code",
   "execution_count": 1,
   "metadata": {},
   "outputs": [
    {
     "name": "stdout",
     "output_type": "stream",
     "text": [
      "building procgen...done\n"
     ]
    }
   ],
   "source": [
    "from src.utils import heist\n",
    "from src.utils import helpers\n",
    "import torch.distributions\n",
    "import torch\n",
    "\n",
    "import gym\n",
    "import random\n",
    "import numpy as np\n",
    "from helpers import generate_action, load_model\n",
    "from procgen import ProcgenGym3Env\n",
    "import imageio\n",
    "import matplotlib.pyplot as plt\n",
    "import typing\n",
    "import math\n",
    "\n",
    "from procgen import ProcgenGym3Env\n",
    "import struct\n",
    "import typing\n",
    "from typing import Tuple, Dict, Callable, List, Optional\n",
    "from dataclasses import dataclass\n",
    "from src.policies_modified import ImpalaCNN\n",
    "from procgen_tools.procgen_wrappers import VecExtractDictObs, TransposeFrame, ScaledFloatFrame\n",
    "\n",
    "from gym3 import ToBaselinesVecEnv\n",
    "import seaborn as sns\n",
    "\n",
    "\n",
    "%load_ext autoreload\n",
    "%autoreload 2"
   ]
  },
  {
   "cell_type": "code",
   "execution_count": 21,
   "metadata": {},
   "outputs": [],
   "source": [
    "difficulty = 'hard'\n",
    "model = helpers.load_model(model_path=f\"../model_{difficulty}.pt\")\n"
   ]
  },
  {
   "cell_type": "code",
   "execution_count": 23,
   "metadata": {},
   "outputs": [
    {
     "name": "stdout",
     "output_type": "stream",
     "text": [
      "Episode 1 finished with total reward: [10.]\n",
      "Episode 2 finished with total reward: [10.]\n",
      "Episode 3 finished with total reward: [10.]\n",
      "Episode 4 finished with total reward: [10.]\n",
      "Episode 5 finished with total reward: [0.]\n",
      "Episode 6 finished with total reward: [10.]\n",
      "Episode 7 finished with total reward: [10.]\n",
      "Episode 8 finished with total reward: [10.]\n",
      "Episode 9 finished with total reward: [0.]\n",
      "Episode 10 finished with total reward: [10.]\n"
     ]
    }
   ],
   "source": [
    "save_gif_option = True  \n",
    "for episode in range(10):\n",
    "    venv = heist.create_venv(1,0,0,1,difficulty)\n",
    "    total_reward, frames, observations = helpers.run_episode_and_save_as_gif(venv, model, filepath=f'gifs/{difficulty}_episode_{episode}.gif', save_gif=save_gif_option, episode_timeout=400, is_procgen_env=True)\n",
    "    print(f\"Episode {episode} finished with total reward: {total_reward}\")"
   ]
  }
 ],
 "metadata": {
  "kernelspec": {
   "display_name": "procgen",
   "language": "python",
   "name": "python3"
  },
  "language_info": {
   "codemirror_mode": {
    "name": "ipython",
    "version": 3
   },
   "file_extension": ".py",
   "mimetype": "text/x-python",
   "name": "python",
   "nbconvert_exporter": "python",
   "pygments_lexer": "ipython3",
   "version": "3.8.19"
  }
 },
 "nbformat": 4,
 "nbformat_minor": 2
}
