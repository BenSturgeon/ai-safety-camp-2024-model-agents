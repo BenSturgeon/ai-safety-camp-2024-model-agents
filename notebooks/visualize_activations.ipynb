{
 "cells": [
  {
   "cell_type": "code",
   "execution_count": 1,
   "metadata": {},
   "outputs": [
    {
     "name": "stdout",
     "output_type": "stream",
     "text": [
      "building procgen...done\n"
     ]
    }
   ],
   "source": [
    "import sys\n",
    "import os\n",
    "import torch.distributions\n",
    "import torch\n",
    "import gym\n",
    "import random\n",
    "import numpy as np\n",
    "from procgen import ProcgenGym3Env\n",
    "import imageio\n",
    "import matplotlib.pyplot as plt\n",
    "import typing\n",
    "import math\n",
    "from collections import defaultdict\n",
    "from typing import Tuple, Dict, Callable, List, Optional\n",
    "from dataclasses import dataclass\n",
    "# from src.policies_modified import ImpalaCNN\n",
    "from procgen_tools.procgen_wrappers import VecExtractDictObs, TransposeFrame, ScaledFloatFrame\n",
    "from gym3 import ToBaselinesVecEnv\n",
    "import seaborn as sns\n",
    "\n",
    "# Import custom modules\n",
    "import heist\n",
    "import helpers\n",
    "from helpers import generate_action, load_model\n",
    "\n",
    "# Reload modules automatically\n",
    "%load_ext autoreload\n",
    "%autoreload 2\n"
   ]
  },
  {
   "cell_type": "code",
   "execution_count": 2,
   "metadata": {},
   "outputs": [],
   "source": [
    "# Load model and setup environment\n",
    "difficulty = 'hard'\n",
    "model = helpers.load_model(model_path=f\"../model_{difficulty}.pt\")\n",
    "model_activations = helpers.ModelActivations(model)\n",
    "layer_paths = helpers.get_model_layer_names(model)"
   ]
  },
  {
   "cell_type": "code",
   "execution_count": null,
   "metadata": {},
   "outputs": [],
   "source": [
    "# Main workflow example: Remove entities and plot differences\n",
    "venv = heist.create_venv(1, 15, 0, 0, difficulty)\n",
    "state = heist.state_from_venv(venv, 0)\n",
    "\n",
    "# Reset environment and remove entities\n",
    "obs_list, frames_list = helpers.make_mazes_with_entities_removed(venv, [[\"all\"], [\"player\", \"gem\"], [\"blue_key\", \"green_key\", \"red_key\"], [\"blue_lock\", \"green_lock\", \"red_lock\"]])\n",
    "\n",
    "# Plot mazes\n",
    "helpers.plot_multiple_observations(frames_list)\n",
    "\n",
    "# Run model and calculate activations\n",
    "activations_list = helpers.calc_activations_for_obs_list(model_activations, obs_list, layer_paths)\n",
    "objective_vectors = helpers.create_objective_vectors(model_activations, layer_paths, num_samples = 16)\n",
    "\n",
    "# Calculate weighted activations\n",
    "weighted_activations = helpers.calc_weighted_activations(activations_list[:2])\n",
    "\n",
    "# Visualize activations\n",
    "helpers.plot_activations_for_layers_rb_max(objective_vectors['gem'], None, None, 1)\n",
    "\n"
   ]
  }
 ],
 "metadata": {
  "kernelspec": {
   "display_name": "procgen",
   "language": "python",
   "name": "python3"
  },
  "language_info": {
   "codemirror_mode": {
    "name": "ipython",
    "version": 3
   },
   "file_extension": ".py",
   "mimetype": "text/x-python",
   "name": "python",
   "nbconvert_exporter": "python",
   "pygments_lexer": "ipython3",
   "version": "3.8.19"
  }
 },
 "nbformat": 4,
 "nbformat_minor": 2
}
