{
 "cells": [
  {
   "cell_type": "code",
   "execution_count": 52,
   "metadata": {
    "colab": {
     "base_uri": "https://localhost:8080/"
    },
    "id": "5U_qG6sqZic_",
    "outputId": "3f039755-88bb-4d3e-a27a-d5ec4ab9844e"
   },
   "outputs": [
    {
     "name": "stdout",
     "output_type": "stream",
     "text": [
      "Requirement already satisfied: procgen in /opt/conda/lib/python3.10/site-packages (0.10.7)\n",
      "Requirement already satisfied: gym<1.0.0,>=0.15.0 in /opt/conda/lib/python3.10/site-packages (from procgen) (0.26.2)\n",
      "Requirement already satisfied: filelock<4.0.0,>=3.0.0 in /opt/conda/lib/python3.10/site-packages (from procgen) (3.9.0)\n",
      "Requirement already satisfied: gym3<1.0.0,>=0.3.3 in /opt/conda/lib/python3.10/site-packages (from procgen) (0.3.3)\n",
      "Requirement already satisfied: numpy<2.0.0,>=1.17.0 in /opt/conda/lib/python3.10/site-packages (from procgen) (1.24.3)\n",
      "Requirement already satisfied: gym-notices>=0.0.4 in /opt/conda/lib/python3.10/site-packages (from gym<1.0.0,>=0.15.0->procgen) (0.0.8)\n",
      "Requirement already satisfied: cloudpickle>=1.2.0 in /opt/conda/lib/python3.10/site-packages (from gym<1.0.0,>=0.15.0->procgen) (3.0.0)\n",
      "Requirement already satisfied: moderngl<6.0.0,>=5.5.4 in /opt/conda/lib/python3.10/site-packages (from gym3<1.0.0,>=0.3.3->procgen) (5.10.0)\n",
      "Requirement already satisfied: cffi<2.0.0,>=1.13.0 in /opt/conda/lib/python3.10/site-packages (from gym3<1.0.0,>=0.3.3->procgen) (1.15.1)\n",
      "Requirement already satisfied: imageio-ffmpeg<0.4.0,>=0.3.0 in /opt/conda/lib/python3.10/site-packages (from gym3<1.0.0,>=0.3.3->procgen) (0.3.0)\n",
      "Requirement already satisfied: glfw<2.0.0,>=1.8.6 in /opt/conda/lib/python3.10/site-packages (from gym3<1.0.0,>=0.3.3->procgen) (1.12.0)\n",
      "Requirement already satisfied: imageio<3.0.0,>=2.6.0 in /opt/conda/lib/python3.10/site-packages (from gym3<1.0.0,>=0.3.3->procgen) (2.34.0)\n",
      "Requirement already satisfied: pycparser in /opt/conda/lib/python3.10/site-packages (from cffi<2.0.0,>=1.13.0->gym3<1.0.0,>=0.3.3->procgen) (2.21)\n",
      "Requirement already satisfied: pillow>=8.3.2 in /opt/conda/lib/python3.10/site-packages (from imageio<3.0.0,>=2.6.0->gym3<1.0.0,>=0.3.3->procgen) (9.4.0)\n",
      "Requirement already satisfied: glcontext<3,>=2.5.0 in /opt/conda/lib/python3.10/site-packages (from moderngl<6.0.0,>=5.5.4->gym3<1.0.0,>=0.3.3->procgen) (2.5.0)\n",
      "\u001b[33mWARNING: Running pip as the 'root' user can result in broken permissions and conflicting behaviour with the system package manager. It is recommended to use a virtual environment instead: https://pip.pypa.io/warnings/venv\u001b[0m\u001b[33m\n",
      "\u001b[0mRequirement already satisfied: plotly in /opt/conda/lib/python3.10/site-packages (5.19.0)\n",
      "Requirement already satisfied: tenacity>=6.2.0 in /opt/conda/lib/python3.10/site-packages (from plotly) (8.2.3)\n",
      "Requirement already satisfied: packaging in /opt/conda/lib/python3.10/site-packages (from plotly) (23.0)\n",
      "\u001b[33mWARNING: Running pip as the 'root' user can result in broken permissions and conflicting behaviour with the system package manager. It is recommended to use a virtual environment instead: https://pip.pypa.io/warnings/venv\u001b[0m\u001b[33m\n",
      "\u001b[0mRequirement already satisfied: notebook>=5.3 in /opt/conda/lib/python3.10/site-packages (7.0.6)\n",
      "Requirement already satisfied: ipywidgets>=7.2 in /opt/conda/lib/python3.10/site-packages (7.8.1)\n",
      "Requirement already satisfied: tornado>=6.2.0 in /opt/conda/lib/python3.10/site-packages (from notebook>=5.3) (6.4)\n",
      "Requirement already satisfied: jupyter-server<3,>=2.4.0 in /opt/conda/lib/python3.10/site-packages (from notebook>=5.3) (2.12.1)\n",
      "Requirement already satisfied: notebook-shim<0.3,>=0.2 in /opt/conda/lib/python3.10/site-packages (from notebook>=5.3) (0.2.3)\n",
      "Requirement already satisfied: jupyterlab<5,>=4.0.2 in /opt/conda/lib/python3.10/site-packages (from notebook>=5.3) (4.0.9)\n",
      "Requirement already satisfied: jupyterlab-server<3,>=2.22.1 in /opt/conda/lib/python3.10/site-packages (from notebook>=5.3) (2.24.0)\n",
      "Requirement already satisfied: comm>=0.1.3 in /opt/conda/lib/python3.10/site-packages (from ipywidgets>=7.2) (0.2.0)\n",
      "Requirement already satisfied: widgetsnbextension~=3.6.6 in /opt/conda/lib/python3.10/site-packages (from ipywidgets>=7.2) (3.6.6)\n",
      "Requirement already satisfied: traitlets>=4.3.1 in /opt/conda/lib/python3.10/site-packages (from ipywidgets>=7.2) (5.7.1)\n",
      "Requirement already satisfied: ipython-genutils~=0.2.0 in /opt/conda/lib/python3.10/site-packages (from ipywidgets>=7.2) (0.2.0)\n",
      "Requirement already satisfied: jupyterlab-widgets<3,>=1.0.0 in /opt/conda/lib/python3.10/site-packages (from ipywidgets>=7.2) (1.1.7)\n",
      "Requirement already satisfied: ipython>=4.0.0 in /opt/conda/lib/python3.10/site-packages (from ipywidgets>=7.2) (8.12.0)\n",
      "Requirement already satisfied: pexpect>4.3 in /opt/conda/lib/python3.10/site-packages (from ipython>=4.0.0->ipywidgets>=7.2) (4.8.0)\n",
      "Requirement already satisfied: decorator in /opt/conda/lib/python3.10/site-packages (from ipython>=4.0.0->ipywidgets>=7.2) (4.4.2)\n",
      "Requirement already satisfied: stack-data in /opt/conda/lib/python3.10/site-packages (from ipython>=4.0.0->ipywidgets>=7.2) (0.2.0)\n",
      "Requirement already satisfied: prompt-toolkit!=3.0.37,<3.1.0,>=3.0.30 in /opt/conda/lib/python3.10/site-packages (from ipython>=4.0.0->ipywidgets>=7.2) (3.0.36)\n",
      "Requirement already satisfied: pygments>=2.4.0 in /opt/conda/lib/python3.10/site-packages (from ipython>=4.0.0->ipywidgets>=7.2) (2.15.1)\n",
      "Requirement already satisfied: matplotlib-inline in /opt/conda/lib/python3.10/site-packages (from ipython>=4.0.0->ipywidgets>=7.2) (0.1.6)\n",
      "Requirement already satisfied: backcall in /opt/conda/lib/python3.10/site-packages (from ipython>=4.0.0->ipywidgets>=7.2) (0.2.0)\n",
      "Requirement already satisfied: pickleshare in /opt/conda/lib/python3.10/site-packages (from ipython>=4.0.0->ipywidgets>=7.2) (0.7.5)\n",
      "Requirement already satisfied: jedi>=0.16 in /opt/conda/lib/python3.10/site-packages (from ipython>=4.0.0->ipywidgets>=7.2) (0.18.1)\n",
      "Requirement already satisfied: pyzmq>=24 in /opt/conda/lib/python3.10/site-packages (from jupyter-server<3,>=2.4.0->notebook>=5.3) (25.1.2)\n",
      "Requirement already satisfied: prometheus-client in /opt/conda/lib/python3.10/site-packages (from jupyter-server<3,>=2.4.0->notebook>=5.3) (0.19.0)\n",
      "Requirement already satisfied: nbconvert>=6.4.4 in /opt/conda/lib/python3.10/site-packages (from jupyter-server<3,>=2.4.0->notebook>=5.3) (6.5.4)\n",
      "Requirement already satisfied: jupyter-core!=5.0.*,>=4.12 in /opt/conda/lib/python3.10/site-packages (from jupyter-server<3,>=2.4.0->notebook>=5.3) (5.5.0)\n",
      "Requirement already satisfied: nbformat>=5.3.0 in /opt/conda/lib/python3.10/site-packages (from jupyter-server<3,>=2.4.0->notebook>=5.3) (5.9.2)\n",
      "Requirement already satisfied: terminado>=0.8.3 in /opt/conda/lib/python3.10/site-packages (from jupyter-server<3,>=2.4.0->notebook>=5.3) (0.18.0)\n",
      "Requirement already satisfied: jupyter-server-terminals in /opt/conda/lib/python3.10/site-packages (from jupyter-server<3,>=2.4.0->notebook>=5.3) (0.5.0)\n",
      "Requirement already satisfied: jupyter-client>=7.4.4 in /opt/conda/lib/python3.10/site-packages (from jupyter-server<3,>=2.4.0->notebook>=5.3) (8.6.0)\n",
      "Requirement already satisfied: overrides in /opt/conda/lib/python3.10/site-packages (from jupyter-server<3,>=2.4.0->notebook>=5.3) (7.4.0)\n",
      "Requirement already satisfied: anyio>=3.1.0 in /opt/conda/lib/python3.10/site-packages (from jupyter-server<3,>=2.4.0->notebook>=5.3) (4.2.0)\n",
      "Requirement already satisfied: send2trash>=1.8.2 in /opt/conda/lib/python3.10/site-packages (from jupyter-server<3,>=2.4.0->notebook>=5.3) (1.8.2)\n",
      "Requirement already satisfied: websocket-client in /opt/conda/lib/python3.10/site-packages (from jupyter-server<3,>=2.4.0->notebook>=5.3) (1.7.0)\n",
      "Requirement already satisfied: packaging in /opt/conda/lib/python3.10/site-packages (from jupyter-server<3,>=2.4.0->notebook>=5.3) (23.0)\n",
      "Requirement already satisfied: argon2-cffi in /opt/conda/lib/python3.10/site-packages (from jupyter-server<3,>=2.4.0->notebook>=5.3) (23.1.0)\n",
      "Requirement already satisfied: jinja2 in /opt/conda/lib/python3.10/site-packages (from jupyter-server<3,>=2.4.0->notebook>=5.3) (3.1.2)\n",
      "Requirement already satisfied: jupyter-events>=0.9.0 in /opt/conda/lib/python3.10/site-packages (from jupyter-server<3,>=2.4.0->notebook>=5.3) (0.9.0)\n",
      "Requirement already satisfied: jupyter-lsp>=2.0.0 in /opt/conda/lib/python3.10/site-packages (from jupyterlab<5,>=4.0.2->notebook>=5.3) (2.2.1)\n",
      "Requirement already satisfied: async-lru>=1.0.0 in /opt/conda/lib/python3.10/site-packages (from jupyterlab<5,>=4.0.2->notebook>=5.3) (2.0.4)\n",
      "Requirement already satisfied: tomli in /opt/conda/lib/python3.10/site-packages (from jupyterlab<5,>=4.0.2->notebook>=5.3) (2.0.1)\n",
      "Requirement already satisfied: ipykernel in /opt/conda/lib/python3.10/site-packages (from jupyterlab<5,>=4.0.2->notebook>=5.3) (6.27.1)\n",
      "Requirement already satisfied: babel>=2.10 in /opt/conda/lib/python3.10/site-packages (from jupyterlab-server<3,>=2.22.1->notebook>=5.3) (2.14.0)\n",
      "Requirement already satisfied: requests>=2.28 in /opt/conda/lib/python3.10/site-packages (from jupyterlab-server<3,>=2.22.1->notebook>=5.3) (2.28.2)\n",
      "Requirement already satisfied: json5>=0.9.0 in /opt/conda/lib/python3.10/site-packages (from jupyterlab-server<3,>=2.22.1->notebook>=5.3) (0.9.14)\n",
      "Requirement already satisfied: jsonschema>=4.17.3 in /opt/conda/lib/python3.10/site-packages (from jupyterlab-server<3,>=2.22.1->notebook>=5.3) (4.20.0)\n",
      "Requirement already satisfied: idna>=2.8 in /opt/conda/lib/python3.10/site-packages (from anyio>=3.1.0->jupyter-server<3,>=2.4.0->notebook>=5.3) (3.4)\n",
      "Requirement already satisfied: typing-extensions>=4.1 in /opt/conda/lib/python3.10/site-packages (from anyio>=3.1.0->jupyter-server<3,>=2.4.0->notebook>=5.3) (4.5.0)\n",
      "Requirement already satisfied: exceptiongroup>=1.0.2 in /opt/conda/lib/python3.10/site-packages (from anyio>=3.1.0->jupyter-server<3,>=2.4.0->notebook>=5.3) (1.1.1)\n",
      "Requirement already satisfied: sniffio>=1.1 in /opt/conda/lib/python3.10/site-packages (from anyio>=3.1.0->jupyter-server<3,>=2.4.0->notebook>=5.3) (1.3.0)\n",
      "Requirement already satisfied: parso<0.9.0,>=0.8.0 in /opt/conda/lib/python3.10/site-packages (from jedi>=0.16->ipython>=4.0.0->ipywidgets>=7.2) (0.8.3)\n",
      "Requirement already satisfied: MarkupSafe>=2.0 in /opt/conda/lib/python3.10/site-packages (from jinja2->jupyter-server<3,>=2.4.0->notebook>=5.3) (2.1.1)\n",
      "Requirement already satisfied: jsonschema-specifications>=2023.03.6 in /opt/conda/lib/python3.10/site-packages (from jsonschema>=4.17.3->jupyterlab-server<3,>=2.22.1->notebook>=5.3) (2023.11.2)\n",
      "Requirement already satisfied: referencing>=0.28.4 in /opt/conda/lib/python3.10/site-packages (from jsonschema>=4.17.3->jupyterlab-server<3,>=2.22.1->notebook>=5.3) (0.32.0)\n",
      "Requirement already satisfied: attrs>=22.2.0 in /opt/conda/lib/python3.10/site-packages (from jsonschema>=4.17.3->jupyterlab-server<3,>=2.22.1->notebook>=5.3) (23.1.0)\n",
      "Requirement already satisfied: rpds-py>=0.7.1 in /opt/conda/lib/python3.10/site-packages (from jsonschema>=4.17.3->jupyterlab-server<3,>=2.22.1->notebook>=5.3) (0.14.1)\n",
      "Requirement already satisfied: python-dateutil>=2.8.2 in /opt/conda/lib/python3.10/site-packages (from jupyter-client>=7.4.4->jupyter-server<3,>=2.4.0->notebook>=5.3) (2.8.2)\n",
      "Requirement already satisfied: platformdirs>=2.5 in /opt/conda/lib/python3.10/site-packages (from jupyter-core!=5.0.*,>=4.12->jupyter-server<3,>=2.4.0->notebook>=5.3) (4.1.0)\n",
      "Requirement already satisfied: rfc3339-validator in /opt/conda/lib/python3.10/site-packages (from jupyter-events>=0.9.0->jupyter-server<3,>=2.4.0->notebook>=5.3) (0.1.4)\n",
      "Requirement already satisfied: rfc3986-validator>=0.1.1 in /opt/conda/lib/python3.10/site-packages (from jupyter-events>=0.9.0->jupyter-server<3,>=2.4.0->notebook>=5.3) (0.1.1)\n",
      "Requirement already satisfied: pyyaml>=5.3 in /opt/conda/lib/python3.10/site-packages (from jupyter-events>=0.9.0->jupyter-server<3,>=2.4.0->notebook>=5.3) (6.0)\n",
      "Requirement already satisfied: python-json-logger>=2.0.4 in /opt/conda/lib/python3.10/site-packages (from jupyter-events>=0.9.0->jupyter-server<3,>=2.4.0->notebook>=5.3) (2.0.7)\n",
      "Requirement already satisfied: jupyterlab-pygments in /opt/conda/lib/python3.10/site-packages (from nbconvert>=6.4.4->jupyter-server<3,>=2.4.0->notebook>=5.3) (0.3.0)\n",
      "Requirement already satisfied: pandocfilters>=1.4.1 in /opt/conda/lib/python3.10/site-packages (from nbconvert>=6.4.4->jupyter-server<3,>=2.4.0->notebook>=5.3) (1.5.0)\n",
      "Requirement already satisfied: defusedxml in /opt/conda/lib/python3.10/site-packages (from nbconvert>=6.4.4->jupyter-server<3,>=2.4.0->notebook>=5.3) (0.7.1)\n",
      "Requirement already satisfied: tinycss2 in /opt/conda/lib/python3.10/site-packages (from nbconvert>=6.4.4->jupyter-server<3,>=2.4.0->notebook>=5.3) (1.2.1)\n",
      "Requirement already satisfied: lxml in /opt/conda/lib/python3.10/site-packages (from nbconvert>=6.4.4->jupyter-server<3,>=2.4.0->notebook>=5.3) (5.1.0)\n",
      "Requirement already satisfied: entrypoints>=0.2.2 in /opt/conda/lib/python3.10/site-packages (from nbconvert>=6.4.4->jupyter-server<3,>=2.4.0->notebook>=5.3) (0.4)\n",
      "Requirement already satisfied: mistune<2,>=0.8.1 in /opt/conda/lib/python3.10/site-packages (from nbconvert>=6.4.4->jupyter-server<3,>=2.4.0->notebook>=5.3) (0.8.4)\n",
      "Requirement already satisfied: beautifulsoup4 in /opt/conda/lib/python3.10/site-packages (from nbconvert>=6.4.4->jupyter-server<3,>=2.4.0->notebook>=5.3) (4.12.2)\n",
      "Requirement already satisfied: bleach in /opt/conda/lib/python3.10/site-packages (from nbconvert>=6.4.4->jupyter-server<3,>=2.4.0->notebook>=5.3) (6.1.0)\n",
      "Requirement already satisfied: nbclient>=0.5.0 in /opt/conda/lib/python3.10/site-packages (from nbconvert>=6.4.4->jupyter-server<3,>=2.4.0->notebook>=5.3) (0.9.0)\n",
      "Requirement already satisfied: fastjsonschema in /opt/conda/lib/python3.10/site-packages (from nbformat>=5.3.0->jupyter-server<3,>=2.4.0->notebook>=5.3) (2.19.0)\n",
      "Requirement already satisfied: ptyprocess>=0.5 in /opt/conda/lib/python3.10/site-packages (from pexpect>4.3->ipython>=4.0.0->ipywidgets>=7.2) (0.7.0)\n",
      "Requirement already satisfied: wcwidth in /opt/conda/lib/python3.10/site-packages (from prompt-toolkit!=3.0.37,<3.1.0,>=3.0.30->ipython>=4.0.0->ipywidgets>=7.2) (0.2.5)\n",
      "Requirement already satisfied: charset-normalizer<4,>=2 in /opt/conda/lib/python3.10/site-packages (from requests>=2.28->jupyterlab-server<3,>=2.22.1->notebook>=5.3) (2.0.4)\n",
      "Requirement already satisfied: urllib3<1.27,>=1.21.1 in /opt/conda/lib/python3.10/site-packages (from requests>=2.28->jupyterlab-server<3,>=2.22.1->notebook>=5.3) (1.26.15)\n",
      "Requirement already satisfied: certifi>=2017.4.17 in /opt/conda/lib/python3.10/site-packages (from requests>=2.28->jupyterlab-server<3,>=2.22.1->notebook>=5.3) (2023.5.7)\n",
      "Requirement already satisfied: argon2-cffi-bindings in /opt/conda/lib/python3.10/site-packages (from argon2-cffi->jupyter-server<3,>=2.4.0->notebook>=5.3) (21.2.0)\n",
      "Requirement already satisfied: psutil in /opt/conda/lib/python3.10/site-packages (from ipykernel->jupyterlab<5,>=4.0.2->notebook>=5.3) (5.9.0)\n",
      "Requirement already satisfied: nest-asyncio in /opt/conda/lib/python3.10/site-packages (from ipykernel->jupyterlab<5,>=4.0.2->notebook>=5.3) (1.5.8)\n",
      "Requirement already satisfied: debugpy>=1.6.5 in /opt/conda/lib/python3.10/site-packages (from ipykernel->jupyterlab<5,>=4.0.2->notebook>=5.3) (1.8.0)\n",
      "Requirement already satisfied: executing in /opt/conda/lib/python3.10/site-packages (from stack-data->ipython>=4.0.0->ipywidgets>=7.2) (0.8.3)\n",
      "Requirement already satisfied: asttokens in /opt/conda/lib/python3.10/site-packages (from stack-data->ipython>=4.0.0->ipywidgets>=7.2) (2.0.5)\n",
      "Requirement already satisfied: pure-eval in /opt/conda/lib/python3.10/site-packages (from stack-data->ipython>=4.0.0->ipywidgets>=7.2) (0.2.2)\n",
      "Requirement already satisfied: webcolors>=1.11 in /opt/conda/lib/python3.10/site-packages (from jsonschema>=4.17.3->jupyterlab-server<3,>=2.22.1->notebook>=5.3) (1.13)\n",
      "Requirement already satisfied: isoduration in /opt/conda/lib/python3.10/site-packages (from jsonschema>=4.17.3->jupyterlab-server<3,>=2.22.1->notebook>=5.3) (20.11.0)\n",
      "Requirement already satisfied: uri-template in /opt/conda/lib/python3.10/site-packages (from jsonschema>=4.17.3->jupyterlab-server<3,>=2.22.1->notebook>=5.3) (1.3.0)\n",
      "Requirement already satisfied: fqdn in /opt/conda/lib/python3.10/site-packages (from jsonschema>=4.17.3->jupyterlab-server<3,>=2.22.1->notebook>=5.3) (1.5.1)\n",
      "Requirement already satisfied: jsonpointer>1.13 in /opt/conda/lib/python3.10/site-packages (from jsonschema>=4.17.3->jupyterlab-server<3,>=2.22.1->notebook>=5.3) (2.1)\n",
      "Requirement already satisfied: six>=1.5 in /opt/conda/lib/python3.10/site-packages (from python-dateutil>=2.8.2->jupyter-client>=7.4.4->jupyter-server<3,>=2.4.0->notebook>=5.3) (1.16.0)\n",
      "Requirement already satisfied: cffi>=1.0.1 in /opt/conda/lib/python3.10/site-packages (from argon2-cffi-bindings->argon2-cffi->jupyter-server<3,>=2.4.0->notebook>=5.3) (1.15.1)\n",
      "Requirement already satisfied: soupsieve>1.2 in /opt/conda/lib/python3.10/site-packages (from beautifulsoup4->nbconvert>=6.4.4->jupyter-server<3,>=2.4.0->notebook>=5.3) (2.4)\n",
      "Requirement already satisfied: webencodings in /opt/conda/lib/python3.10/site-packages (from bleach->nbconvert>=6.4.4->jupyter-server<3,>=2.4.0->notebook>=5.3) (0.5.1)\n",
      "Requirement already satisfied: pycparser in /opt/conda/lib/python3.10/site-packages (from cffi>=1.0.1->argon2-cffi-bindings->argon2-cffi->jupyter-server<3,>=2.4.0->notebook>=5.3) (2.21)\n",
      "Requirement already satisfied: arrow>=0.15.0 in /opt/conda/lib/python3.10/site-packages (from isoduration->jsonschema>=4.17.3->jupyterlab-server<3,>=2.22.1->notebook>=5.3) (1.3.0)\n",
      "Requirement already satisfied: types-python-dateutil>=2.8.10 in /opt/conda/lib/python3.10/site-packages (from arrow>=0.15.0->isoduration->jsonschema>=4.17.3->jupyterlab-server<3,>=2.22.1->notebook>=5.3) (2.8.19.14)\n",
      "\u001b[33mWARNING: Running pip as the 'root' user can result in broken permissions and conflicting behaviour with the system package manager. It is recommended to use a virtual environment instead: https://pip.pypa.io/warnings/venv\u001b[0m\u001b[33m\n",
      "\u001b[0m"
     ]
    }
   ],
   "source": [
    "!pip install procgen\n",
    "!pip install plotly\n",
    "!pip install \"notebook>=5.3\" \"ipywidgets>=7.2\"\n"
   ]
  },
  {
   "cell_type": "code",
   "execution_count": 43,
   "metadata": {},
   "outputs": [],
   "source": [
    "import plotly.io as pio\n",
    "pio.renderers.default = 'notebook_connected'"
   ]
  },
  {
   "cell_type": "code",
   "execution_count": 2,
   "metadata": {
    "colab": {
     "base_uri": "https://localhost:8080/",
     "height": 1000
    },
    "id": "tVl27aIfZtEU",
    "outputId": "08ba2cab-989d-4d10-a154-fe9c5823cd57"
   },
   "outputs": [
    {
     "name": "stdout",
     "output_type": "stream",
     "text": [
      "Collecting git+https://github.com/UlisseMini/procgen-tools.git\n",
      "  Cloning https://github.com/UlisseMini/procgen-tools.git to /tmp/pip-req-build-j6ka69g0\n",
      "  Running command git clone --filter=blob:none --quiet https://github.com/UlisseMini/procgen-tools.git /tmp/pip-req-build-j6ka69g0\n",
      "  Resolved https://github.com/UlisseMini/procgen-tools.git to commit dc2243c99110aca92687cdf566daafcfbe7067a0\n",
      "  Preparing metadata (setup.py) ... \u001b[?25ldone\n",
      "\u001b[?25hRequirement already satisfied: gym==0.26.* in /opt/conda/lib/python3.10/site-packages (from procgen-tools==0.1.1) (0.26.2)\n",
      "Requirement already satisfied: gym3==0.3.3 in /opt/conda/lib/python3.10/site-packages (from procgen-tools==0.1.1) (0.3.3)\n",
      "Requirement already satisfied: numpy>=1.22.1 in /opt/conda/lib/python3.10/site-packages (from procgen-tools==0.1.1) (1.24.3)\n",
      "Requirement already satisfied: torch>=1.13.1 in /opt/conda/lib/python3.10/site-packages (from procgen-tools==0.1.1) (2.0.1)\n",
      "Requirement already satisfied: matplotlib==3.3.2 in /opt/conda/lib/python3.10/site-packages (from procgen-tools==0.1.1) (3.3.2)\n",
      "Requirement already satisfied: tqdm==4.64.1 in /opt/conda/lib/python3.10/site-packages (from procgen-tools==0.1.1) (4.64.1)\n",
      "Requirement already satisfied: ipywidgets==7.* in /opt/conda/lib/python3.10/site-packages (from procgen-tools==0.1.1) (7.8.1)\n",
      "Requirement already satisfied: procgen==0.10.7 in /opt/conda/lib/python3.10/site-packages (from procgen-tools==0.1.1) (0.10.7)\n",
      "Requirement already satisfied: bidict>=0.22.0 in /opt/conda/lib/python3.10/site-packages (from procgen-tools==0.1.1) (0.23.1)\n",
      "Requirement already satisfied: requests==2.28.* in /opt/conda/lib/python3.10/site-packages (from procgen-tools==0.1.1) (2.28.2)\n",
      "Requirement already satisfied: pandas>=1.5.3 in /opt/conda/lib/python3.10/site-packages (from procgen-tools==0.1.1) (2.2.0)\n",
      "Requirement already satisfied: circrl>=0.4.0 in /opt/conda/lib/python3.10/site-packages (from procgen-tools==0.1.1) (1.0.0)\n",
      "Requirement already satisfied: plotly>=5.13.0 in /opt/conda/lib/python3.10/site-packages (from procgen-tools==0.1.1) (5.19.0)\n",
      "Requirement already satisfied: networkx>=3.0 in /opt/conda/lib/python3.10/site-packages (from procgen-tools==0.1.1) (3.1)\n",
      "Requirement already satisfied: scipy==1.10.0 in /opt/conda/lib/python3.10/site-packages (from procgen-tools==0.1.1) (1.10.0)\n",
      "Requirement already satisfied: mistune==0.8.4 in /opt/conda/lib/python3.10/site-packages (from procgen-tools==0.1.1) (0.8.4)\n",
      "Requirement already satisfied: captum>=0.6.0 in /opt/conda/lib/python3.10/site-packages (from procgen-tools==0.1.1) (0.7.0)\n",
      "Requirement already satisfied: kaleido>=0.2.1 in /opt/conda/lib/python3.10/site-packages (from procgen-tools==0.1.1) (0.2.1)\n",
      "Requirement already satisfied: funcy>=1.18 in /opt/conda/lib/python3.10/site-packages (from procgen-tools==0.1.1) (2.0)\n",
      "Requirement already satisfied: gym-notices>=0.0.4 in /opt/conda/lib/python3.10/site-packages (from gym==0.26.*->procgen-tools==0.1.1) (0.0.8)\n",
      "Requirement already satisfied: cloudpickle>=1.2.0 in /opt/conda/lib/python3.10/site-packages (from gym==0.26.*->procgen-tools==0.1.1) (3.0.0)\n",
      "Requirement already satisfied: imageio-ffmpeg<0.4.0,>=0.3.0 in /opt/conda/lib/python3.10/site-packages (from gym3==0.3.3->procgen-tools==0.1.1) (0.3.0)\n",
      "Requirement already satisfied: cffi<2.0.0,>=1.13.0 in /opt/conda/lib/python3.10/site-packages (from gym3==0.3.3->procgen-tools==0.1.1) (1.15.1)\n",
      "Requirement already satisfied: moderngl<6.0.0,>=5.5.4 in /opt/conda/lib/python3.10/site-packages (from gym3==0.3.3->procgen-tools==0.1.1) (5.10.0)\n",
      "Requirement already satisfied: glfw<2.0.0,>=1.8.6 in /opt/conda/lib/python3.10/site-packages (from gym3==0.3.3->procgen-tools==0.1.1) (1.12.0)\n",
      "Requirement already satisfied: imageio<3.0.0,>=2.6.0 in /opt/conda/lib/python3.10/site-packages (from gym3==0.3.3->procgen-tools==0.1.1) (2.34.0)\n",
      "Requirement already satisfied: traitlets>=4.3.1 in /opt/conda/lib/python3.10/site-packages (from ipywidgets==7.*->procgen-tools==0.1.1) (5.7.1)\n",
      "Requirement already satisfied: ipython-genutils~=0.2.0 in /opt/conda/lib/python3.10/site-packages (from ipywidgets==7.*->procgen-tools==0.1.1) (0.2.0)\n",
      "Requirement already satisfied: widgetsnbextension~=3.6.6 in /opt/conda/lib/python3.10/site-packages (from ipywidgets==7.*->procgen-tools==0.1.1) (3.6.6)\n",
      "Requirement already satisfied: jupyterlab-widgets<3,>=1.0.0 in /opt/conda/lib/python3.10/site-packages (from ipywidgets==7.*->procgen-tools==0.1.1) (1.1.7)\n",
      "Requirement already satisfied: ipython>=4.0.0 in /opt/conda/lib/python3.10/site-packages (from ipywidgets==7.*->procgen-tools==0.1.1) (8.12.0)\n",
      "Requirement already satisfied: comm>=0.1.3 in /opt/conda/lib/python3.10/site-packages (from ipywidgets==7.*->procgen-tools==0.1.1) (0.2.0)\n",
      "Requirement already satisfied: cycler>=0.10 in /opt/conda/lib/python3.10/site-packages (from matplotlib==3.3.2->procgen-tools==0.1.1) (0.12.1)\n",
      "Requirement already satisfied: pillow>=6.2.0 in /opt/conda/lib/python3.10/site-packages (from matplotlib==3.3.2->procgen-tools==0.1.1) (9.4.0)\n",
      "Requirement already satisfied: certifi>=2020.06.20 in /opt/conda/lib/python3.10/site-packages (from matplotlib==3.3.2->procgen-tools==0.1.1) (2023.5.7)\n",
      "Requirement already satisfied: kiwisolver>=1.0.1 in /opt/conda/lib/python3.10/site-packages (from matplotlib==3.3.2->procgen-tools==0.1.1) (1.4.5)\n",
      "Requirement already satisfied: pyparsing!=2.0.4,!=2.1.2,!=2.1.6,>=2.0.3 in /opt/conda/lib/python3.10/site-packages (from matplotlib==3.3.2->procgen-tools==0.1.1) (3.1.1)\n",
      "Requirement already satisfied: python-dateutil>=2.1 in /opt/conda/lib/python3.10/site-packages (from matplotlib==3.3.2->procgen-tools==0.1.1) (2.8.2)\n",
      "Requirement already satisfied: filelock<4.0.0,>=3.0.0 in /opt/conda/lib/python3.10/site-packages (from procgen==0.10.7->procgen-tools==0.1.1) (3.9.0)\n",
      "Requirement already satisfied: urllib3<1.27,>=1.21.1 in /opt/conda/lib/python3.10/site-packages (from requests==2.28.*->procgen-tools==0.1.1) (1.26.15)\n",
      "Requirement already satisfied: idna<4,>=2.5 in /opt/conda/lib/python3.10/site-packages (from requests==2.28.*->procgen-tools==0.1.1) (3.4)\n",
      "Requirement already satisfied: charset-normalizer<4,>=2 in /opt/conda/lib/python3.10/site-packages (from requests==2.28.*->procgen-tools==0.1.1) (2.0.4)\n",
      "Requirement already satisfied: moviepy>=1.0.3 in /opt/conda/lib/python3.10/site-packages (from circrl>=0.4.0->procgen-tools==0.1.1) (1.0.3)\n",
      "Requirement already satisfied: xarray>=2022.12.0 in /opt/conda/lib/python3.10/site-packages (from circrl>=0.4.0->procgen-tools==0.1.1) (2024.2.0)\n",
      "Requirement already satisfied: einops>=0.6.0 in /opt/conda/lib/python3.10/site-packages (from circrl>=0.4.0->procgen-tools==0.1.1) (0.7.0)\n",
      "Requirement already satisfied: blosc>=1.11.1 in /opt/conda/lib/python3.10/site-packages (from circrl>=0.4.0->procgen-tools==0.1.1) (1.11.1)\n",
      "Requirement already satisfied: scikit-learn>=1.2.1 in /opt/conda/lib/python3.10/site-packages (from circrl>=0.4.0->procgen-tools==0.1.1) (1.4.1.post1)\n",
      "Requirement already satisfied: holoviews>=1.15.2 in /opt/conda/lib/python3.10/site-packages (from circrl>=0.4.0->procgen-tools==0.1.1) (1.18.3)\n",
      "Requirement already satisfied: hvplot>=0.8.1 in /opt/conda/lib/python3.10/site-packages (from circrl>=0.4.0->procgen-tools==0.1.1) (0.9.2)\n",
      "Requirement already satisfied: pytz>=2020.1 in /opt/conda/lib/python3.10/site-packages (from pandas>=1.5.3->procgen-tools==0.1.1) (2022.7)\n",
      "Requirement already satisfied: tzdata>=2022.7 in /opt/conda/lib/python3.10/site-packages (from pandas>=1.5.3->procgen-tools==0.1.1) (2024.1)\n",
      "Requirement already satisfied: packaging in /opt/conda/lib/python3.10/site-packages (from plotly>=5.13.0->procgen-tools==0.1.1) (23.0)\n",
      "Requirement already satisfied: tenacity>=6.2.0 in /opt/conda/lib/python3.10/site-packages (from plotly>=5.13.0->procgen-tools==0.1.1) (8.2.3)\n",
      "Requirement already satisfied: typing-extensions in /opt/conda/lib/python3.10/site-packages (from torch>=1.13.1->procgen-tools==0.1.1) (4.5.0)\n",
      "Requirement already satisfied: sympy in /opt/conda/lib/python3.10/site-packages (from torch>=1.13.1->procgen-tools==0.1.1) (1.12)\n",
      "Requirement already satisfied: jinja2 in /opt/conda/lib/python3.10/site-packages (from torch>=1.13.1->procgen-tools==0.1.1) (3.1.2)\n",
      "Requirement already satisfied: pycparser in /opt/conda/lib/python3.10/site-packages (from cffi<2.0.0,>=1.13.0->gym3==0.3.3->procgen-tools==0.1.1) (2.21)\n",
      "Requirement already satisfied: panel>=1.0 in /opt/conda/lib/python3.10/site-packages (from holoviews>=1.15.2->circrl>=0.4.0->procgen-tools==0.1.1) (1.3.8)\n",
      "Requirement already satisfied: pyviz-comms>=0.7.4 in /opt/conda/lib/python3.10/site-packages (from holoviews>=1.15.2->circrl>=0.4.0->procgen-tools==0.1.1) (3.0.1)\n",
      "Requirement already satisfied: colorcet in /opt/conda/lib/python3.10/site-packages (from holoviews>=1.15.2->circrl>=0.4.0->procgen-tools==0.1.1) (3.0.1)\n",
      "Requirement already satisfied: param<3.0,>=1.12.0 in /opt/conda/lib/python3.10/site-packages (from holoviews>=1.15.2->circrl>=0.4.0->procgen-tools==0.1.1) (2.0.2)\n",
      "Requirement already satisfied: bokeh>=1.0.0 in /opt/conda/lib/python3.10/site-packages (from hvplot>=0.8.1->circrl>=0.4.0->procgen-tools==0.1.1) (3.3.4)\n",
      "Requirement already satisfied: stack-data in /opt/conda/lib/python3.10/site-packages (from ipython>=4.0.0->ipywidgets==7.*->procgen-tools==0.1.1) (0.2.0)\n",
      "Requirement already satisfied: matplotlib-inline in /opt/conda/lib/python3.10/site-packages (from ipython>=4.0.0->ipywidgets==7.*->procgen-tools==0.1.1) (0.1.6)\n",
      "Requirement already satisfied: backcall in /opt/conda/lib/python3.10/site-packages (from ipython>=4.0.0->ipywidgets==7.*->procgen-tools==0.1.1) (0.2.0)\n",
      "Requirement already satisfied: pexpect>4.3 in /opt/conda/lib/python3.10/site-packages (from ipython>=4.0.0->ipywidgets==7.*->procgen-tools==0.1.1) (4.8.0)\n",
      "Requirement already satisfied: pygments>=2.4.0 in /opt/conda/lib/python3.10/site-packages (from ipython>=4.0.0->ipywidgets==7.*->procgen-tools==0.1.1) (2.15.1)\n",
      "Requirement already satisfied: prompt-toolkit!=3.0.37,<3.1.0,>=3.0.30 in /opt/conda/lib/python3.10/site-packages (from ipython>=4.0.0->ipywidgets==7.*->procgen-tools==0.1.1) (3.0.36)\n",
      "Requirement already satisfied: decorator in /opt/conda/lib/python3.10/site-packages (from ipython>=4.0.0->ipywidgets==7.*->procgen-tools==0.1.1) (4.4.2)\n",
      "Requirement already satisfied: jedi>=0.16 in /opt/conda/lib/python3.10/site-packages (from ipython>=4.0.0->ipywidgets==7.*->procgen-tools==0.1.1) (0.18.1)\n",
      "Requirement already satisfied: pickleshare in /opt/conda/lib/python3.10/site-packages (from ipython>=4.0.0->ipywidgets==7.*->procgen-tools==0.1.1) (0.7.5)\n",
      "Requirement already satisfied: glcontext<3,>=2.5.0 in /opt/conda/lib/python3.10/site-packages (from moderngl<6.0.0,>=5.5.4->gym3==0.3.3->procgen-tools==0.1.1) (2.5.0)\n",
      "Requirement already satisfied: proglog<=1.0.0 in /opt/conda/lib/python3.10/site-packages (from moviepy>=1.0.3->circrl>=0.4.0->procgen-tools==0.1.1) (0.1.10)\n",
      "Requirement already satisfied: six>=1.5 in /opt/conda/lib/python3.10/site-packages (from python-dateutil>=2.1->matplotlib==3.3.2->procgen-tools==0.1.1) (1.16.0)\n",
      "Requirement already satisfied: joblib>=1.2.0 in /opt/conda/lib/python3.10/site-packages (from scikit-learn>=1.2.1->circrl>=0.4.0->procgen-tools==0.1.1) (1.3.2)\n",
      "Requirement already satisfied: threadpoolctl>=2.0.0 in /opt/conda/lib/python3.10/site-packages (from scikit-learn>=1.2.1->circrl>=0.4.0->procgen-tools==0.1.1) (3.3.0)\n",
      "Requirement already satisfied: notebook>=4.4.1 in /opt/conda/lib/python3.10/site-packages (from widgetsnbextension~=3.6.6->ipywidgets==7.*->procgen-tools==0.1.1) (7.0.6)\n",
      "Requirement already satisfied: MarkupSafe>=2.0 in /opt/conda/lib/python3.10/site-packages (from jinja2->torch>=1.13.1->procgen-tools==0.1.1) (2.1.1)\n",
      "Requirement already satisfied: mpmath>=0.19 in /opt/conda/lib/python3.10/site-packages (from sympy->torch>=1.13.1->procgen-tools==0.1.1) (1.3.0)\n",
      "Requirement already satisfied: tornado>=5.1 in /opt/conda/lib/python3.10/site-packages (from bokeh>=1.0.0->hvplot>=0.8.1->circrl>=0.4.0->procgen-tools==0.1.1) (6.4)\n",
      "Requirement already satisfied: PyYAML>=3.10 in /opt/conda/lib/python3.10/site-packages (from bokeh>=1.0.0->hvplot>=0.8.1->circrl>=0.4.0->procgen-tools==0.1.1) (6.0)\n",
      "Requirement already satisfied: xyzservices>=2021.09.1 in /opt/conda/lib/python3.10/site-packages (from bokeh>=1.0.0->hvplot>=0.8.1->circrl>=0.4.0->procgen-tools==0.1.1) (2023.10.1)\n",
      "Requirement already satisfied: contourpy>=1 in /opt/conda/lib/python3.10/site-packages (from bokeh>=1.0.0->hvplot>=0.8.1->circrl>=0.4.0->procgen-tools==0.1.1) (1.2.0)\n",
      "Requirement already satisfied: pyct>=0.4.4 in /opt/conda/lib/python3.10/site-packages (from colorcet->holoviews>=1.15.2->circrl>=0.4.0->procgen-tools==0.1.1) (0.5.0)\n",
      "Requirement already satisfied: parso<0.9.0,>=0.8.0 in /opt/conda/lib/python3.10/site-packages (from jedi>=0.16->ipython>=4.0.0->ipywidgets==7.*->procgen-tools==0.1.1) (0.8.3)\n",
      "Requirement already satisfied: jupyterlab-server<3,>=2.22.1 in /opt/conda/lib/python3.10/site-packages (from notebook>=4.4.1->widgetsnbextension~=3.6.6->ipywidgets==7.*->procgen-tools==0.1.1) (2.24.0)\n",
      "Requirement already satisfied: jupyterlab<5,>=4.0.2 in /opt/conda/lib/python3.10/site-packages (from notebook>=4.4.1->widgetsnbextension~=3.6.6->ipywidgets==7.*->procgen-tools==0.1.1) (4.0.9)\n",
      "Requirement already satisfied: notebook-shim<0.3,>=0.2 in /opt/conda/lib/python3.10/site-packages (from notebook>=4.4.1->widgetsnbextension~=3.6.6->ipywidgets==7.*->procgen-tools==0.1.1) (0.2.3)\n",
      "Requirement already satisfied: jupyter-server<3,>=2.4.0 in /opt/conda/lib/python3.10/site-packages (from notebook>=4.4.1->widgetsnbextension~=3.6.6->ipywidgets==7.*->procgen-tools==0.1.1) (2.12.1)\n",
      "Requirement already satisfied: markdown in /opt/conda/lib/python3.10/site-packages (from panel>=1.0->holoviews>=1.15.2->circrl>=0.4.0->procgen-tools==0.1.1) (3.5.2)\n",
      "Requirement already satisfied: linkify-it-py in /opt/conda/lib/python3.10/site-packages (from panel>=1.0->holoviews>=1.15.2->circrl>=0.4.0->procgen-tools==0.1.1) (2.0.3)\n",
      "Requirement already satisfied: bleach in /opt/conda/lib/python3.10/site-packages (from panel>=1.0->holoviews>=1.15.2->circrl>=0.4.0->procgen-tools==0.1.1) (6.1.0)\n",
      "Requirement already satisfied: mdit-py-plugins in /opt/conda/lib/python3.10/site-packages (from panel>=1.0->holoviews>=1.15.2->circrl>=0.4.0->procgen-tools==0.1.1) (0.4.0)\n",
      "Requirement already satisfied: markdown-it-py in /opt/conda/lib/python3.10/site-packages (from panel>=1.0->holoviews>=1.15.2->circrl>=0.4.0->procgen-tools==0.1.1) (3.0.0)\n",
      "Requirement already satisfied: ptyprocess>=0.5 in /opt/conda/lib/python3.10/site-packages (from pexpect>4.3->ipython>=4.0.0->ipywidgets==7.*->procgen-tools==0.1.1) (0.7.0)\n",
      "Requirement already satisfied: wcwidth in /opt/conda/lib/python3.10/site-packages (from prompt-toolkit!=3.0.37,<3.1.0,>=3.0.30->ipython>=4.0.0->ipywidgets==7.*->procgen-tools==0.1.1) (0.2.5)\n",
      "Requirement already satisfied: pure-eval in /opt/conda/lib/python3.10/site-packages (from stack-data->ipython>=4.0.0->ipywidgets==7.*->procgen-tools==0.1.1) (0.2.2)\n",
      "Requirement already satisfied: executing in /opt/conda/lib/python3.10/site-packages (from stack-data->ipython>=4.0.0->ipywidgets==7.*->procgen-tools==0.1.1) (0.8.3)\n",
      "Requirement already satisfied: asttokens in /opt/conda/lib/python3.10/site-packages (from stack-data->ipython>=4.0.0->ipywidgets==7.*->procgen-tools==0.1.1) (2.0.5)\n",
      "Requirement already satisfied: jupyter-core!=5.0.*,>=4.12 in /opt/conda/lib/python3.10/site-packages (from jupyter-server<3,>=2.4.0->notebook>=4.4.1->widgetsnbextension~=3.6.6->ipywidgets==7.*->procgen-tools==0.1.1) (5.5.0)\n",
      "Requirement already satisfied: send2trash>=1.8.2 in /opt/conda/lib/python3.10/site-packages (from jupyter-server<3,>=2.4.0->notebook>=4.4.1->widgetsnbextension~=3.6.6->ipywidgets==7.*->procgen-tools==0.1.1) (1.8.2)\n",
      "Requirement already satisfied: jupyter-client>=7.4.4 in /opt/conda/lib/python3.10/site-packages (from jupyter-server<3,>=2.4.0->notebook>=4.4.1->widgetsnbextension~=3.6.6->ipywidgets==7.*->procgen-tools==0.1.1) (8.6.0)\n",
      "Requirement already satisfied: argon2-cffi in /opt/conda/lib/python3.10/site-packages (from jupyter-server<3,>=2.4.0->notebook>=4.4.1->widgetsnbextension~=3.6.6->ipywidgets==7.*->procgen-tools==0.1.1) (23.1.0)\n",
      "Requirement already satisfied: anyio>=3.1.0 in /opt/conda/lib/python3.10/site-packages (from jupyter-server<3,>=2.4.0->notebook>=4.4.1->widgetsnbextension~=3.6.6->ipywidgets==7.*->procgen-tools==0.1.1) (4.2.0)\n",
      "Requirement already satisfied: terminado>=0.8.3 in /opt/conda/lib/python3.10/site-packages (from jupyter-server<3,>=2.4.0->notebook>=4.4.1->widgetsnbextension~=3.6.6->ipywidgets==7.*->procgen-tools==0.1.1) (0.18.0)\n",
      "Requirement already satisfied: pyzmq>=24 in /opt/conda/lib/python3.10/site-packages (from jupyter-server<3,>=2.4.0->notebook>=4.4.1->widgetsnbextension~=3.6.6->ipywidgets==7.*->procgen-tools==0.1.1) (25.1.2)\n",
      "Requirement already satisfied: prometheus-client in /opt/conda/lib/python3.10/site-packages (from jupyter-server<3,>=2.4.0->notebook>=4.4.1->widgetsnbextension~=3.6.6->ipywidgets==7.*->procgen-tools==0.1.1) (0.19.0)\n",
      "Requirement already satisfied: nbformat>=5.3.0 in /opt/conda/lib/python3.10/site-packages (from jupyter-server<3,>=2.4.0->notebook>=4.4.1->widgetsnbextension~=3.6.6->ipywidgets==7.*->procgen-tools==0.1.1) (5.9.2)\n",
      "Requirement already satisfied: websocket-client in /opt/conda/lib/python3.10/site-packages (from jupyter-server<3,>=2.4.0->notebook>=4.4.1->widgetsnbextension~=3.6.6->ipywidgets==7.*->procgen-tools==0.1.1) (1.7.0)\n",
      "Requirement already satisfied: overrides in /opt/conda/lib/python3.10/site-packages (from jupyter-server<3,>=2.4.0->notebook>=4.4.1->widgetsnbextension~=3.6.6->ipywidgets==7.*->procgen-tools==0.1.1) (7.4.0)\n",
      "Requirement already satisfied: jupyter-server-terminals in /opt/conda/lib/python3.10/site-packages (from jupyter-server<3,>=2.4.0->notebook>=4.4.1->widgetsnbextension~=3.6.6->ipywidgets==7.*->procgen-tools==0.1.1) (0.5.0)\n",
      "Requirement already satisfied: nbconvert>=6.4.4 in /opt/conda/lib/python3.10/site-packages (from jupyter-server<3,>=2.4.0->notebook>=4.4.1->widgetsnbextension~=3.6.6->ipywidgets==7.*->procgen-tools==0.1.1) (6.5.4)\n",
      "Requirement already satisfied: jupyter-events>=0.9.0 in /opt/conda/lib/python3.10/site-packages (from jupyter-server<3,>=2.4.0->notebook>=4.4.1->widgetsnbextension~=3.6.6->ipywidgets==7.*->procgen-tools==0.1.1) (0.9.0)\n",
      "Requirement already satisfied: async-lru>=1.0.0 in /opt/conda/lib/python3.10/site-packages (from jupyterlab<5,>=4.0.2->notebook>=4.4.1->widgetsnbextension~=3.6.6->ipywidgets==7.*->procgen-tools==0.1.1) (2.0.4)\n",
      "Requirement already satisfied: ipykernel in /opt/conda/lib/python3.10/site-packages (from jupyterlab<5,>=4.0.2->notebook>=4.4.1->widgetsnbextension~=3.6.6->ipywidgets==7.*->procgen-tools==0.1.1) (6.27.1)\n",
      "Requirement already satisfied: jupyter-lsp>=2.0.0 in /opt/conda/lib/python3.10/site-packages (from jupyterlab<5,>=4.0.2->notebook>=4.4.1->widgetsnbextension~=3.6.6->ipywidgets==7.*->procgen-tools==0.1.1) (2.2.1)\n",
      "Requirement already satisfied: tomli in /opt/conda/lib/python3.10/site-packages (from jupyterlab<5,>=4.0.2->notebook>=4.4.1->widgetsnbextension~=3.6.6->ipywidgets==7.*->procgen-tools==0.1.1) (2.0.1)\n",
      "Requirement already satisfied: jsonschema>=4.17.3 in /opt/conda/lib/python3.10/site-packages (from jupyterlab-server<3,>=2.22.1->notebook>=4.4.1->widgetsnbextension~=3.6.6->ipywidgets==7.*->procgen-tools==0.1.1) (4.20.0)\n",
      "Requirement already satisfied: json5>=0.9.0 in /opt/conda/lib/python3.10/site-packages (from jupyterlab-server<3,>=2.22.1->notebook>=4.4.1->widgetsnbextension~=3.6.6->ipywidgets==7.*->procgen-tools==0.1.1) (0.9.14)\n",
      "Requirement already satisfied: babel>=2.10 in /opt/conda/lib/python3.10/site-packages (from jupyterlab-server<3,>=2.22.1->notebook>=4.4.1->widgetsnbextension~=3.6.6->ipywidgets==7.*->procgen-tools==0.1.1) (2.14.0)\n",
      "Requirement already satisfied: webencodings in /opt/conda/lib/python3.10/site-packages (from bleach->panel>=1.0->holoviews>=1.15.2->circrl>=0.4.0->procgen-tools==0.1.1) (0.5.1)\n",
      "Requirement already satisfied: uc-micro-py in /opt/conda/lib/python3.10/site-packages (from linkify-it-py->panel>=1.0->holoviews>=1.15.2->circrl>=0.4.0->procgen-tools==0.1.1) (1.0.3)\n",
      "Requirement already satisfied: mdurl~=0.1 in /opt/conda/lib/python3.10/site-packages (from markdown-it-py->panel>=1.0->holoviews>=1.15.2->circrl>=0.4.0->procgen-tools==0.1.1) (0.1.2)\n",
      "Requirement already satisfied: exceptiongroup>=1.0.2 in /opt/conda/lib/python3.10/site-packages (from anyio>=3.1.0->jupyter-server<3,>=2.4.0->notebook>=4.4.1->widgetsnbextension~=3.6.6->ipywidgets==7.*->procgen-tools==0.1.1) (1.1.1)\n",
      "Requirement already satisfied: sniffio>=1.1 in /opt/conda/lib/python3.10/site-packages (from anyio>=3.1.0->jupyter-server<3,>=2.4.0->notebook>=4.4.1->widgetsnbextension~=3.6.6->ipywidgets==7.*->procgen-tools==0.1.1) (1.3.0)\n",
      "Requirement already satisfied: jsonschema-specifications>=2023.03.6 in /opt/conda/lib/python3.10/site-packages (from jsonschema>=4.17.3->jupyterlab-server<3,>=2.22.1->notebook>=4.4.1->widgetsnbextension~=3.6.6->ipywidgets==7.*->procgen-tools==0.1.1) (2023.11.2)\n",
      "Requirement already satisfied: referencing>=0.28.4 in /opt/conda/lib/python3.10/site-packages (from jsonschema>=4.17.3->jupyterlab-server<3,>=2.22.1->notebook>=4.4.1->widgetsnbextension~=3.6.6->ipywidgets==7.*->procgen-tools==0.1.1) (0.32.0)\n",
      "Requirement already satisfied: rpds-py>=0.7.1 in /opt/conda/lib/python3.10/site-packages (from jsonschema>=4.17.3->jupyterlab-server<3,>=2.22.1->notebook>=4.4.1->widgetsnbextension~=3.6.6->ipywidgets==7.*->procgen-tools==0.1.1) (0.14.1)\n",
      "Requirement already satisfied: attrs>=22.2.0 in /opt/conda/lib/python3.10/site-packages (from jsonschema>=4.17.3->jupyterlab-server<3,>=2.22.1->notebook>=4.4.1->widgetsnbextension~=3.6.6->ipywidgets==7.*->procgen-tools==0.1.1) (23.1.0)\n",
      "Requirement already satisfied: platformdirs>=2.5 in /opt/conda/lib/python3.10/site-packages (from jupyter-core!=5.0.*,>=4.12->jupyter-server<3,>=2.4.0->notebook>=4.4.1->widgetsnbextension~=3.6.6->ipywidgets==7.*->procgen-tools==0.1.1) (4.1.0)\n",
      "Requirement already satisfied: rfc3339-validator in /opt/conda/lib/python3.10/site-packages (from jupyter-events>=0.9.0->jupyter-server<3,>=2.4.0->notebook>=4.4.1->widgetsnbextension~=3.6.6->ipywidgets==7.*->procgen-tools==0.1.1) (0.1.4)\n",
      "Requirement already satisfied: rfc3986-validator>=0.1.1 in /opt/conda/lib/python3.10/site-packages (from jupyter-events>=0.9.0->jupyter-server<3,>=2.4.0->notebook>=4.4.1->widgetsnbextension~=3.6.6->ipywidgets==7.*->procgen-tools==0.1.1) (0.1.1)\n",
      "Requirement already satisfied: python-json-logger>=2.0.4 in /opt/conda/lib/python3.10/site-packages (from jupyter-events>=0.9.0->jupyter-server<3,>=2.4.0->notebook>=4.4.1->widgetsnbextension~=3.6.6->ipywidgets==7.*->procgen-tools==0.1.1) (2.0.7)\n",
      "Requirement already satisfied: pandocfilters>=1.4.1 in /opt/conda/lib/python3.10/site-packages (from nbconvert>=6.4.4->jupyter-server<3,>=2.4.0->notebook>=4.4.1->widgetsnbextension~=3.6.6->ipywidgets==7.*->procgen-tools==0.1.1) (1.5.0)\n",
      "Requirement already satisfied: beautifulsoup4 in /opt/conda/lib/python3.10/site-packages (from nbconvert>=6.4.4->jupyter-server<3,>=2.4.0->notebook>=4.4.1->widgetsnbextension~=3.6.6->ipywidgets==7.*->procgen-tools==0.1.1) (4.12.2)\n",
      "Requirement already satisfied: jupyterlab-pygments in /opt/conda/lib/python3.10/site-packages (from nbconvert>=6.4.4->jupyter-server<3,>=2.4.0->notebook>=4.4.1->widgetsnbextension~=3.6.6->ipywidgets==7.*->procgen-tools==0.1.1) (0.3.0)\n",
      "Requirement already satisfied: lxml in /opt/conda/lib/python3.10/site-packages (from nbconvert>=6.4.4->jupyter-server<3,>=2.4.0->notebook>=4.4.1->widgetsnbextension~=3.6.6->ipywidgets==7.*->procgen-tools==0.1.1) (5.1.0)\n",
      "Requirement already satisfied: tinycss2 in /opt/conda/lib/python3.10/site-packages (from nbconvert>=6.4.4->jupyter-server<3,>=2.4.0->notebook>=4.4.1->widgetsnbextension~=3.6.6->ipywidgets==7.*->procgen-tools==0.1.1) (1.2.1)\n",
      "Requirement already satisfied: entrypoints>=0.2.2 in /opt/conda/lib/python3.10/site-packages (from nbconvert>=6.4.4->jupyter-server<3,>=2.4.0->notebook>=4.4.1->widgetsnbextension~=3.6.6->ipywidgets==7.*->procgen-tools==0.1.1) (0.4)\n",
      "Requirement already satisfied: defusedxml in /opt/conda/lib/python3.10/site-packages (from nbconvert>=6.4.4->jupyter-server<3,>=2.4.0->notebook>=4.4.1->widgetsnbextension~=3.6.6->ipywidgets==7.*->procgen-tools==0.1.1) (0.7.1)\n",
      "Requirement already satisfied: nbclient>=0.5.0 in /opt/conda/lib/python3.10/site-packages (from nbconvert>=6.4.4->jupyter-server<3,>=2.4.0->notebook>=4.4.1->widgetsnbextension~=3.6.6->ipywidgets==7.*->procgen-tools==0.1.1) (0.9.0)\n",
      "Requirement already satisfied: fastjsonschema in /opt/conda/lib/python3.10/site-packages (from nbformat>=5.3.0->jupyter-server<3,>=2.4.0->notebook>=4.4.1->widgetsnbextension~=3.6.6->ipywidgets==7.*->procgen-tools==0.1.1) (2.19.0)\n",
      "Requirement already satisfied: argon2-cffi-bindings in /opt/conda/lib/python3.10/site-packages (from argon2-cffi->jupyter-server<3,>=2.4.0->notebook>=4.4.1->widgetsnbextension~=3.6.6->ipywidgets==7.*->procgen-tools==0.1.1) (21.2.0)\n",
      "Requirement already satisfied: nest-asyncio in /opt/conda/lib/python3.10/site-packages (from ipykernel->jupyterlab<5,>=4.0.2->notebook>=4.4.1->widgetsnbextension~=3.6.6->ipywidgets==7.*->procgen-tools==0.1.1) (1.5.8)\n",
      "Requirement already satisfied: debugpy>=1.6.5 in /opt/conda/lib/python3.10/site-packages (from ipykernel->jupyterlab<5,>=4.0.2->notebook>=4.4.1->widgetsnbextension~=3.6.6->ipywidgets==7.*->procgen-tools==0.1.1) (1.8.0)\n",
      "Requirement already satisfied: psutil in /opt/conda/lib/python3.10/site-packages (from ipykernel->jupyterlab<5,>=4.0.2->notebook>=4.4.1->widgetsnbextension~=3.6.6->ipywidgets==7.*->procgen-tools==0.1.1) (5.9.0)\n",
      "Requirement already satisfied: uri-template in /opt/conda/lib/python3.10/site-packages (from jsonschema>=4.17.3->jupyterlab-server<3,>=2.22.1->notebook>=4.4.1->widgetsnbextension~=3.6.6->ipywidgets==7.*->procgen-tools==0.1.1) (1.3.0)\n",
      "Requirement already satisfied: fqdn in /opt/conda/lib/python3.10/site-packages (from jsonschema>=4.17.3->jupyterlab-server<3,>=2.22.1->notebook>=4.4.1->widgetsnbextension~=3.6.6->ipywidgets==7.*->procgen-tools==0.1.1) (1.5.1)\n",
      "Requirement already satisfied: webcolors>=1.11 in /opt/conda/lib/python3.10/site-packages (from jsonschema>=4.17.3->jupyterlab-server<3,>=2.22.1->notebook>=4.4.1->widgetsnbextension~=3.6.6->ipywidgets==7.*->procgen-tools==0.1.1) (1.13)\n",
      "Requirement already satisfied: jsonpointer>1.13 in /opt/conda/lib/python3.10/site-packages (from jsonschema>=4.17.3->jupyterlab-server<3,>=2.22.1->notebook>=4.4.1->widgetsnbextension~=3.6.6->ipywidgets==7.*->procgen-tools==0.1.1) (2.1)\n",
      "Requirement already satisfied: isoduration in /opt/conda/lib/python3.10/site-packages (from jsonschema>=4.17.3->jupyterlab-server<3,>=2.22.1->notebook>=4.4.1->widgetsnbextension~=3.6.6->ipywidgets==7.*->procgen-tools==0.1.1) (20.11.0)\n",
      "Requirement already satisfied: soupsieve>1.2 in /opt/conda/lib/python3.10/site-packages (from beautifulsoup4->nbconvert>=6.4.4->jupyter-server<3,>=2.4.0->notebook>=4.4.1->widgetsnbextension~=3.6.6->ipywidgets==7.*->procgen-tools==0.1.1) (2.4)\n",
      "Requirement already satisfied: arrow>=0.15.0 in /opt/conda/lib/python3.10/site-packages (from isoduration->jsonschema>=4.17.3->jupyterlab-server<3,>=2.22.1->notebook>=4.4.1->widgetsnbextension~=3.6.6->ipywidgets==7.*->procgen-tools==0.1.1) (1.3.0)\n",
      "Requirement already satisfied: types-python-dateutil>=2.8.10 in /opt/conda/lib/python3.10/site-packages (from arrow>=0.15.0->isoduration->jsonschema>=4.17.3->jupyterlab-server<3,>=2.22.1->notebook>=4.4.1->widgetsnbextension~=3.6.6->ipywidgets==7.*->procgen-tools==0.1.1) (2.8.19.14)\n",
      "\u001b[33mWARNING: Running pip as the 'root' user can result in broken permissions and conflicting behaviour with the system package manager. It is recommended to use a virtual environment instead: https://pip.pypa.io/warnings/venv\u001b[0m\u001b[33m\n",
      "\u001b[0m"
     ]
    }
   ],
   "source": [
    "!pip install git+https://github.com/UlisseMini/procgen-tools.git\n"
   ]
  },
  {
   "cell_type": "code",
   "execution_count": 39,
   "metadata": {
    "id": "trhAbIsQaeJh"
   },
   "outputs": [],
   "source": [
    "#import statements\n",
    "from procgen import ProcgenGym3Env\n",
    "import torch\n",
    "from procgen_tools import maze\n",
    "from procgen_tools.models import load_policy\n",
    "from tqdm import tqdm\n",
    "import numpy as np\n",
    "import pickle\n",
    "from argparse import ArgumentParser\n",
    "import random\n",
    "from procgen_tools.data_utils import Episode\n",
    "import plotly.express as px"
   ]
  },
  {
   "cell_type": "code",
   "execution_count": 40,
   "metadata": {
    "id": "4yFwRZPhaiX5"
   },
   "outputs": [],
   "source": [
    "def create_venv(num_levels = 1, start_level = 0):\n",
    "    venv = ProcgenGym3Env(\n",
    "        num=1,\n",
    "        env_name='maze', num_levels=num_levels, start_level=start_level,\n",
    "        distribution_mode='hard', num_threads=4, render_mode=\"rgb_array\", \n",
    "    )\n",
    "    venv = maze.wrap_venv(venv)\n",
    "    return venv"
   ]
  },
  {
   "cell_type": "code",
   "execution_count": 5,
   "metadata": {
    "id": "CvwY0dWDdB2d"
   },
   "outputs": [
    {
     "name": "stdout",
     "output_type": "stream",
     "text": [
      "GPU is available\n"
     ]
    }
   ],
   "source": [
    "if torch.cuda.is_available():\n",
    "    device = torch.device('cuda')\n",
    "    print(\"GPU is available\")\n",
    "else:\n",
    "    device = torch.device('cpu')\n",
    "    print(\"GPU not available, using CPU instead\")\n",
    "\n",
    "policy = load_policy('model_rand_region_5.pth', action_size=15, device=device)\n",
    "\n",
    "\n",
    "\n",
    "# Extract the model name from the file path for later use in naming the saved data files.\n",
    "model_name = \"maze_example\""
   ]
  },
  {
   "cell_type": "code",
   "execution_count": 6,
   "metadata": {},
   "outputs": [
    {
     "name": "stdout",
     "output_type": "stream",
     "text": [
      "CategoricalPolicy(\n",
      "  (embedder): InterpretableImpalaModel(\n",
      "    (block1): InterpretableImpalaBlock(\n",
      "      (conv): Conv2d(3, 64, kernel_size=(3, 3), stride=(1, 1), padding=(1, 1))\n",
      "      (maxpool): MaxPool2d(kernel_size=3, stride=2, padding=1, dilation=1, ceil_mode=False)\n",
      "      (res1): InterpretableResidualBlock(\n",
      "        (relu1): ReLU()\n",
      "        (conv1): Conv2d(64, 64, kernel_size=(3, 3), stride=(1, 1), padding=(1, 1))\n",
      "        (relu2): ReLU()\n",
      "        (conv2): Conv2d(64, 64, kernel_size=(3, 3), stride=(1, 1), padding=(1, 1))\n",
      "        (resadd): ResidualAdd()\n",
      "      )\n",
      "      (res2): InterpretableResidualBlock(\n",
      "        (relu1): ReLU()\n",
      "        (conv1): Conv2d(64, 64, kernel_size=(3, 3), stride=(1, 1), padding=(1, 1))\n",
      "        (relu2): ReLU()\n",
      "        (conv2): Conv2d(64, 64, kernel_size=(3, 3), stride=(1, 1), padding=(1, 1))\n",
      "        (resadd): ResidualAdd()\n",
      "      )\n",
      "    )\n",
      "    (block2): InterpretableImpalaBlock(\n",
      "      (conv): Conv2d(64, 128, kernel_size=(3, 3), stride=(1, 1), padding=(1, 1))\n",
      "      (maxpool): MaxPool2d(kernel_size=3, stride=2, padding=1, dilation=1, ceil_mode=False)\n",
      "      (res1): InterpretableResidualBlock(\n",
      "        (relu1): ReLU()\n",
      "        (conv1): Conv2d(128, 128, kernel_size=(3, 3), stride=(1, 1), padding=(1, 1))\n",
      "        (relu2): ReLU()\n",
      "        (conv2): Conv2d(128, 128, kernel_size=(3, 3), stride=(1, 1), padding=(1, 1))\n",
      "        (resadd): ResidualAdd()\n",
      "      )\n",
      "      (res2): InterpretableResidualBlock(\n",
      "        (relu1): ReLU()\n",
      "        (conv1): Conv2d(128, 128, kernel_size=(3, 3), stride=(1, 1), padding=(1, 1))\n",
      "        (relu2): ReLU()\n",
      "        (conv2): Conv2d(128, 128, kernel_size=(3, 3), stride=(1, 1), padding=(1, 1))\n",
      "        (resadd): ResidualAdd()\n",
      "      )\n",
      "    )\n",
      "    (block3): InterpretableImpalaBlock(\n",
      "      (conv): Conv2d(128, 128, kernel_size=(3, 3), stride=(1, 1), padding=(1, 1))\n",
      "      (maxpool): MaxPool2d(kernel_size=3, stride=2, padding=1, dilation=1, ceil_mode=False)\n",
      "      (res1): InterpretableResidualBlock(\n",
      "        (relu1): ReLU()\n",
      "        (conv1): Conv2d(128, 128, kernel_size=(3, 3), stride=(1, 1), padding=(1, 1))\n",
      "        (relu2): ReLU()\n",
      "        (conv2): Conv2d(128, 128, kernel_size=(3, 3), stride=(1, 1), padding=(1, 1))\n",
      "        (resadd): ResidualAdd()\n",
      "      )\n",
      "      (res2): InterpretableResidualBlock(\n",
      "        (relu1): ReLU()\n",
      "        (conv1): Conv2d(128, 128, kernel_size=(3, 3), stride=(1, 1), padding=(1, 1))\n",
      "        (relu2): ReLU()\n",
      "        (conv2): Conv2d(128, 128, kernel_size=(3, 3), stride=(1, 1), padding=(1, 1))\n",
      "        (resadd): ResidualAdd()\n",
      "      )\n",
      "    )\n",
      "    (relu3): ReLU()\n",
      "    (flatten): Flatten()\n",
      "    (fc): Linear(in_features=8192, out_features=256, bias=True)\n",
      "    (relufc): ReLU()\n",
      "  )\n",
      "  (fc_policy): Linear(in_features=256, out_features=15, bias=True)\n",
      "  (fc_value): Linear(in_features=256, out_features=1, bias=True)\n",
      ")\n"
     ]
    }
   ],
   "source": [
    "print(policy)"
   ]
  },
  {
   "cell_type": "code",
   "execution_count": 7,
   "metadata": {
    "id": "2JGZuu0mcCmj"
   },
   "outputs": [],
   "source": [
    "from circrl import hooks as cmh\n",
    "from circrl import rollouts as cro"
   ]
  },
  {
   "cell_type": "code",
   "execution_count": 8,
   "metadata": {},
   "outputs": [],
   "source": [
    "# maybe problematic but our model has only key: embedder.block1.res1.resadd without out\n",
    "\n",
    "cache_values = [\n",
    "    'embedder.block1.res1.resadd',\n",
    "    'embedder.block1.res2.resadd',\n",
    "    'embedder.block2.res1.resadd',\n",
    "    'embedder.block2.res2.resadd',\n",
    "    'embedder.block3.res1.resadd',\n",
    "    'embedder.block3.res2.resadd']\n",
    "# Create an instance of HookManager\n",
    "hook_manager = cmh.HookManager(\n",
    "    model=policy,\n",
    "    cache=[\n",
    "    'embedder.block1.res1.resadd',\n",
    "    'embedder.block1.res2.resadd',\n",
    "    'embedder.block2.res1.resadd',\n",
    "    'embedder.block2.res2.resadd',\n",
    "    'embedder.block3.res1.resadd',\n",
    "    'embedder.block3.res2.resadd'],\n",
    "\n",
    ")"
   ]
  },
  {
   "cell_type": "code",
   "execution_count": 9,
   "metadata": {},
   "outputs": [
    {
     "name": "stdout",
     "output_type": "stream",
     "text": [
      "range(0, 6)\n"
     ]
    }
   ],
   "source": [
    "print(range(len(cache_values)))"
   ]
  },
  {
   "cell_type": "markdown",
   "metadata": {},
   "source": [
    "# Looping through the number of episodes and saving state_bytes, obs, cheese_pos and the cached convolutional activations\n"
   ]
  },
  {
   "cell_type": "code",
   "execution_count": 12,
   "metadata": {},
   "outputs": [
    {
     "name": "stderr",
     "output_type": "stream",
     "text": [
      "  1%|          | 1/100 [00:00<00:15,  6.27it/s]"
     ]
    },
    {
     "name": "stdout",
     "output_type": "stream",
     "text": [
      "value of i 0\n",
      "value of i 1\n",
      "value of i 2\n",
      "value of i 3\n",
      "value of i 4\n",
      "value of i 5\n"
     ]
    },
    {
     "name": "stderr",
     "output_type": "stream",
     "text": [
      "  2%|▏         | 2/100 [00:00<00:23,  4.13it/s]"
     ]
    },
    {
     "name": "stdout",
     "output_type": "stream",
     "text": [
      "value of i 0\n",
      "value of i 1\n",
      "value of i 2\n",
      "value of i 3\n",
      "value of i 4\n",
      "value of i 5\n"
     ]
    },
    {
     "name": "stderr",
     "output_type": "stream",
     "text": [
      "  3%|▎         | 3/100 [00:00<00:22,  4.40it/s]"
     ]
    },
    {
     "name": "stdout",
     "output_type": "stream",
     "text": [
      "value of i 0\n",
      "value of i 1\n",
      "value of i 2\n",
      "value of i 3\n",
      "value of i 4\n",
      "value of i 5\n"
     ]
    },
    {
     "name": "stderr",
     "output_type": "stream",
     "text": [
      "  5%|▌         | 5/100 [00:01<00:19,  4.87it/s]"
     ]
    },
    {
     "name": "stdout",
     "output_type": "stream",
     "text": [
      "value of i 0\n",
      "value of i 1\n",
      "value of i 2\n",
      "value of i 3\n",
      "value of i 4\n",
      "value of i 5\n",
      "value of i 0\n",
      "value of i 1\n",
      "value of i 2\n",
      "value of i 3\n",
      "value of i 4\n",
      "value of i 5\n"
     ]
    },
    {
     "name": "stderr",
     "output_type": "stream",
     "text": [
      "  7%|▋         | 7/100 [00:01<00:20,  4.44it/s]"
     ]
    },
    {
     "name": "stdout",
     "output_type": "stream",
     "text": [
      "value of i 0\n",
      "value of i 1\n",
      "value of i 2\n",
      "value of i 3\n",
      "value of i 4\n",
      "value of i 5\n",
      "value of i 0\n",
      "value of i 1\n",
      "value of i 2\n",
      "value of i 3\n",
      "value of i 4\n",
      "value of i 5\n"
     ]
    },
    {
     "name": "stderr",
     "output_type": "stream",
     "text": [
      "  9%|▉         | 9/100 [00:02<00:21,  4.26it/s]"
     ]
    },
    {
     "name": "stdout",
     "output_type": "stream",
     "text": [
      "value of i 0\n",
      "value of i 1\n",
      "value of i 2\n",
      "value of i 3\n",
      "value of i 4\n",
      "value of i 5\n",
      "value of i 0\n",
      "value of i 1\n",
      "value of i 2\n",
      "value of i 3\n",
      "value of i 4\n",
      "value of i 5\n"
     ]
    },
    {
     "name": "stderr",
     "output_type": "stream",
     "text": [
      " 10%|█         | 10/100 [00:02<00:22,  4.04it/s]"
     ]
    },
    {
     "name": "stdout",
     "output_type": "stream",
     "text": [
      "value of i 0\n",
      "value of i 1\n",
      "value of i 2\n",
      "value of i 3\n",
      "value of i 4\n",
      "value of i 5\n"
     ]
    },
    {
     "name": "stderr",
     "output_type": "stream",
     "text": [
      " 11%|█         | 11/100 [00:02<00:23,  3.79it/s]"
     ]
    },
    {
     "name": "stdout",
     "output_type": "stream",
     "text": [
      "value of i 0\n",
      "value of i 1\n",
      "value of i 2\n",
      "value of i 3\n",
      "value of i 4\n",
      "value of i 5\n"
     ]
    },
    {
     "name": "stderr",
     "output_type": "stream",
     "text": [
      " 12%|█▏        | 12/100 [00:02<00:21,  4.07it/s]"
     ]
    },
    {
     "name": "stdout",
     "output_type": "stream",
     "text": [
      "value of i 0\n",
      "value of i 1\n",
      "value of i 2\n",
      "value of i 3\n",
      "value of i 4\n",
      "value of i 5\n"
     ]
    },
    {
     "name": "stderr",
     "output_type": "stream",
     "text": [
      " 13%|█▎        | 13/100 [00:03<00:22,  3.85it/s]"
     ]
    },
    {
     "name": "stdout",
     "output_type": "stream",
     "text": [
      "value of i 0\n",
      "value of i 1\n",
      "value of i 2\n",
      "value of i 3\n",
      "value of i 4\n",
      "value of i 5\n"
     ]
    },
    {
     "name": "stderr",
     "output_type": "stream",
     "text": [
      " 14%|█▍        | 14/100 [00:03<00:21,  4.08it/s]"
     ]
    },
    {
     "name": "stdout",
     "output_type": "stream",
     "text": [
      "value of i 0\n",
      "value of i 1\n",
      "value of i 2\n",
      "value of i 3\n",
      "value of i 4\n",
      "value of i 5\n"
     ]
    },
    {
     "name": "stderr",
     "output_type": "stream",
     "text": [
      " 15%|█▌        | 15/100 [00:03<00:21,  3.87it/s]"
     ]
    },
    {
     "name": "stdout",
     "output_type": "stream",
     "text": [
      "value of i 0\n",
      "value of i 1\n",
      "value of i 2\n",
      "value of i 3\n",
      "value of i 4\n",
      "value of i 5\n"
     ]
    },
    {
     "name": "stderr",
     "output_type": "stream",
     "text": [
      " 16%|█▌        | 16/100 [00:03<00:20,  4.10it/s]"
     ]
    },
    {
     "name": "stdout",
     "output_type": "stream",
     "text": [
      "value of i 0\n",
      "value of i 1\n",
      "value of i 2\n",
      "value of i 3\n",
      "value of i 4\n",
      "value of i 5\n"
     ]
    },
    {
     "name": "stderr",
     "output_type": "stream",
     "text": [
      " 18%|█▊        | 18/100 [00:04<00:19,  4.16it/s]"
     ]
    },
    {
     "name": "stdout",
     "output_type": "stream",
     "text": [
      "value of i 0\n",
      "value of i 1\n",
      "value of i 2\n",
      "value of i 3\n",
      "value of i 4\n",
      "value of i 5\n",
      "value of i 0\n",
      "value of i 1\n",
      "value of i 2\n",
      "value of i 3\n",
      "value of i 4\n",
      "value of i 5\n"
     ]
    },
    {
     "name": "stderr",
     "output_type": "stream",
     "text": [
      " 19%|█▉        | 19/100 [00:04<00:20,  3.87it/s]"
     ]
    },
    {
     "name": "stdout",
     "output_type": "stream",
     "text": [
      "value of i 0\n",
      "value of i 1\n",
      "value of i 2\n",
      "value of i 3\n",
      "value of i 4\n",
      "value of i 5\n"
     ]
    },
    {
     "name": "stderr",
     "output_type": "stream",
     "text": [
      " 20%|██        | 20/100 [00:04<00:19,  4.13it/s]"
     ]
    },
    {
     "name": "stdout",
     "output_type": "stream",
     "text": [
      "value of i 0\n",
      "value of i 1\n",
      "value of i 2\n",
      "value of i 3\n",
      "value of i 4\n",
      "value of i 5\n"
     ]
    },
    {
     "name": "stderr",
     "output_type": "stream",
     "text": [
      " 22%|██▏       | 22/100 [00:05<00:17,  4.58it/s]"
     ]
    },
    {
     "name": "stdout",
     "output_type": "stream",
     "text": [
      "value of i 0\n",
      "value of i 1\n",
      "value of i 2\n",
      "value of i 3\n",
      "value of i 4\n",
      "value of i 5\n",
      "value of i 0\n",
      "value of i 1\n",
      "value of i 2\n",
      "value of i 3\n",
      "value of i 4\n",
      "value of i 5\n"
     ]
    },
    {
     "name": "stderr",
     "output_type": "stream",
     "text": [
      " 23%|██▎       | 23/100 [00:05<00:18,  4.13it/s]"
     ]
    },
    {
     "name": "stdout",
     "output_type": "stream",
     "text": [
      "value of i 0\n",
      "value of i 1\n",
      "value of i 2\n",
      "value of i 3\n",
      "value of i 4\n",
      "value of i 5\n"
     ]
    },
    {
     "name": "stderr",
     "output_type": "stream",
     "text": [
      " 24%|██▍       | 24/100 [00:06<00:23,  3.25it/s]"
     ]
    },
    {
     "name": "stdout",
     "output_type": "stream",
     "text": [
      "value of i 0\n",
      "value of i 1\n",
      "value of i 2\n",
      "value of i 3\n",
      "value of i 4\n",
      "value of i 5\n"
     ]
    },
    {
     "name": "stderr",
     "output_type": "stream",
     "text": [
      " 26%|██▌       | 26/100 [00:06<00:17,  4.32it/s]"
     ]
    },
    {
     "name": "stdout",
     "output_type": "stream",
     "text": [
      "value of i 0\n",
      "value of i 1\n",
      "value of i 2\n",
      "value of i 3\n",
      "value of i 4\n",
      "value of i 5\n",
      "value of i 0\n",
      "value of i 1\n",
      "value of i 2\n",
      "value of i 3\n",
      "value of i 4\n",
      "value of i 5\n"
     ]
    },
    {
     "name": "stderr",
     "output_type": "stream",
     "text": [
      " 27%|██▋       | 27/100 [00:06<00:20,  3.62it/s]"
     ]
    },
    {
     "name": "stdout",
     "output_type": "stream",
     "text": [
      "value of i 0\n",
      "value of i 1\n",
      "value of i 2\n",
      "value of i 3\n",
      "value of i 4\n",
      "value of i 5\n"
     ]
    },
    {
     "name": "stderr",
     "output_type": "stream",
     "text": [
      " 28%|██▊       | 28/100 [00:06<00:18,  3.92it/s]"
     ]
    },
    {
     "name": "stdout",
     "output_type": "stream",
     "text": [
      "value of i 0\n",
      "value of i 1\n",
      "value of i 2\n",
      "value of i 3\n",
      "value of i 4\n",
      "value of i 5\n"
     ]
    },
    {
     "name": "stderr",
     "output_type": "stream",
     "text": [
      " 30%|███       | 30/100 [00:07<00:17,  4.06it/s]"
     ]
    },
    {
     "name": "stdout",
     "output_type": "stream",
     "text": [
      "value of i 0\n",
      "value of i 1\n",
      "value of i 2\n",
      "value of i 3\n",
      "value of i 4\n",
      "value of i 5\n",
      "value of i 0\n",
      "value of i 1\n",
      "value of i 2\n",
      "value of i 3\n",
      "value of i 4\n",
      "value of i 5\n"
     ]
    },
    {
     "name": "stderr",
     "output_type": "stream",
     "text": [
      " 31%|███       | 31/100 [00:07<00:16,  4.17it/s]"
     ]
    },
    {
     "name": "stdout",
     "output_type": "stream",
     "text": [
      "value of i 0\n",
      "value of i 1\n",
      "value of i 2\n",
      "value of i 3\n",
      "value of i 4\n",
      "value of i 5\n"
     ]
    },
    {
     "name": "stderr",
     "output_type": "stream",
     "text": [
      " 32%|███▏      | 32/100 [00:07<00:17,  3.96it/s]"
     ]
    },
    {
     "name": "stdout",
     "output_type": "stream",
     "text": [
      "value of i 0\n",
      "value of i 1\n",
      "value of i 2\n",
      "value of i 3\n",
      "value of i 4\n",
      "value of i 5\n"
     ]
    },
    {
     "name": "stderr",
     "output_type": "stream",
     "text": [
      " 34%|███▍      | 34/100 [00:08<00:14,  4.50it/s]"
     ]
    },
    {
     "name": "stdout",
     "output_type": "stream",
     "text": [
      "value of i 0\n",
      "value of i 1\n",
      "value of i 2\n",
      "value of i 3\n",
      "value of i 4\n",
      "value of i 5\n",
      "value of i 0\n",
      "value of i 1\n",
      "value of i 2\n",
      "value of i 3\n",
      "value of i 4\n",
      "value of i 5\n"
     ]
    },
    {
     "name": "stderr",
     "output_type": "stream",
     "text": [
      " 35%|███▌      | 35/100 [00:08<00:17,  3.72it/s]"
     ]
    },
    {
     "name": "stdout",
     "output_type": "stream",
     "text": [
      "value of i 0\n",
      "value of i 1\n",
      "value of i 2\n",
      "value of i 3\n",
      "value of i 4\n",
      "value of i 5\n"
     ]
    },
    {
     "name": "stderr",
     "output_type": "stream",
     "text": [
      " 36%|███▌      | 36/100 [00:08<00:16,  3.96it/s]"
     ]
    },
    {
     "name": "stdout",
     "output_type": "stream",
     "text": [
      "value of i 0\n",
      "value of i 1\n",
      "value of i 2\n",
      "value of i 3\n",
      "value of i 4\n",
      "value of i 5\n"
     ]
    },
    {
     "name": "stderr",
     "output_type": "stream",
     "text": [
      " 37%|███▋      | 37/100 [00:09<00:16,  3.82it/s]"
     ]
    },
    {
     "name": "stdout",
     "output_type": "stream",
     "text": [
      "value of i 0\n",
      "value of i 1\n",
      "value of i 2\n",
      "value of i 3\n",
      "value of i 4\n",
      "value of i 5\n"
     ]
    },
    {
     "name": "stderr",
     "output_type": "stream",
     "text": [
      " 38%|███▊      | 38/100 [00:09<00:15,  4.03it/s]"
     ]
    },
    {
     "name": "stdout",
     "output_type": "stream",
     "text": [
      "value of i 0\n",
      "value of i 1\n",
      "value of i 2\n",
      "value of i 3\n",
      "value of i 4\n",
      "value of i 5\n"
     ]
    },
    {
     "name": "stderr",
     "output_type": "stream",
     "text": [
      " 40%|████      | 40/100 [00:09<00:14,  4.15it/s]"
     ]
    },
    {
     "name": "stdout",
     "output_type": "stream",
     "text": [
      "value of i 0\n",
      "value of i 1\n",
      "value of i 2\n",
      "value of i 3\n",
      "value of i 4\n",
      "value of i 5\n",
      "value of i 0\n",
      "value of i 1\n",
      "value of i 2\n",
      "value of i 3\n",
      "value of i 4\n",
      "value of i 5\n"
     ]
    },
    {
     "name": "stderr",
     "output_type": "stream",
     "text": [
      " 42%|████▏     | 42/100 [00:10<00:12,  4.64it/s]"
     ]
    },
    {
     "name": "stdout",
     "output_type": "stream",
     "text": [
      "value of i 0\n",
      "value of i 1\n",
      "value of i 2\n",
      "value of i 3\n",
      "value of i 4\n",
      "value of i 5\n",
      "value of i 0\n",
      "value of i 1\n",
      "value of i 2\n",
      "value of i 3\n",
      "value of i 4\n",
      "value of i 5\n"
     ]
    },
    {
     "name": "stderr",
     "output_type": "stream",
     "text": [
      " 43%|████▎     | 43/100 [00:10<00:13,  4.17it/s]"
     ]
    },
    {
     "name": "stdout",
     "output_type": "stream",
     "text": [
      "value of i 0\n",
      "value of i 1\n",
      "value of i 2\n",
      "value of i 3\n",
      "value of i 4\n",
      "value of i 5\n"
     ]
    },
    {
     "name": "stderr",
     "output_type": "stream",
     "text": [
      " 45%|████▌     | 45/100 [00:11<00:12,  4.55it/s]"
     ]
    },
    {
     "name": "stdout",
     "output_type": "stream",
     "text": [
      "value of i 0\n",
      "value of i 1\n",
      "value of i 2\n",
      "value of i 3\n",
      "value of i 4\n",
      "value of i 5\n",
      "value of i 0\n",
      "value of i 1\n",
      "value of i 2\n",
      "value of i 3\n",
      "value of i 4\n",
      "value of i 5\n"
     ]
    },
    {
     "name": "stderr",
     "output_type": "stream",
     "text": [
      " 47%|████▋     | 47/100 [00:11<00:12,  4.41it/s]"
     ]
    },
    {
     "name": "stdout",
     "output_type": "stream",
     "text": [
      "value of i 0\n",
      "value of i 1\n",
      "value of i 2\n",
      "value of i 3\n",
      "value of i 4\n",
      "value of i 5\n",
      "value of i 0\n",
      "value of i 1\n",
      "value of i 2\n",
      "value of i 3\n",
      "value of i 4\n",
      "value of i 5\n"
     ]
    },
    {
     "name": "stderr",
     "output_type": "stream",
     "text": [
      " 48%|████▊     | 48/100 [00:11<00:11,  4.51it/s]"
     ]
    },
    {
     "name": "stdout",
     "output_type": "stream",
     "text": [
      "value of i 0\n",
      "value of i 1\n",
      "value of i 2\n",
      "value of i 3\n",
      "value of i 4\n",
      "value of i 5\n"
     ]
    },
    {
     "name": "stderr",
     "output_type": "stream",
     "text": [
      " 50%|█████     | 50/100 [00:12<00:10,  4.70it/s]"
     ]
    },
    {
     "name": "stdout",
     "output_type": "stream",
     "text": [
      "value of i 0\n",
      "value of i 1\n",
      "value of i 2\n",
      "value of i 3\n",
      "value of i 4\n",
      "value of i 5\n",
      "value of i 0\n",
      "value of i 1\n",
      "value of i 2\n",
      "value of i 3\n",
      "value of i 4\n",
      "value of i 5\n"
     ]
    },
    {
     "name": "stderr",
     "output_type": "stream",
     "text": [
      " 51%|█████     | 51/100 [00:12<00:11,  4.23it/s]"
     ]
    },
    {
     "name": "stdout",
     "output_type": "stream",
     "text": [
      "value of i 0\n",
      "value of i 1\n",
      "value of i 2\n",
      "value of i 3\n",
      "value of i 4\n",
      "value of i 5\n"
     ]
    },
    {
     "name": "stderr",
     "output_type": "stream",
     "text": [
      " 52%|█████▏    | 52/100 [00:12<00:10,  4.39it/s]"
     ]
    },
    {
     "name": "stdout",
     "output_type": "stream",
     "text": [
      "value of i 0\n",
      "value of i 1\n",
      "value of i 2\n",
      "value of i 3\n",
      "value of i 4\n",
      "value of i 5\n"
     ]
    },
    {
     "name": "stderr",
     "output_type": "stream",
     "text": [
      " 53%|█████▎    | 53/100 [00:12<00:11,  4.11it/s]"
     ]
    },
    {
     "name": "stdout",
     "output_type": "stream",
     "text": [
      "value of i 0\n",
      "value of i 1\n",
      "value of i 2\n",
      "value of i 3\n",
      "value of i 4\n",
      "value of i 5\n"
     ]
    },
    {
     "name": "stderr",
     "output_type": "stream",
     "text": [
      " 55%|█████▌    | 55/100 [00:13<00:09,  4.51it/s]"
     ]
    },
    {
     "name": "stdout",
     "output_type": "stream",
     "text": [
      "value of i 0\n",
      "value of i 1\n",
      "value of i 2\n",
      "value of i 3\n",
      "value of i 4\n",
      "value of i 5\n",
      "value of i 0\n",
      "value of i 1\n",
      "value of i 2\n",
      "value of i 3\n",
      "value of i 4\n",
      "value of i 5\n"
     ]
    },
    {
     "name": "stderr",
     "output_type": "stream",
     "text": [
      " 57%|█████▋    | 57/100 [00:13<00:09,  4.70it/s]"
     ]
    },
    {
     "name": "stdout",
     "output_type": "stream",
     "text": [
      "value of i 0\n",
      "value of i 1\n",
      "value of i 2\n",
      "value of i 3\n",
      "value of i 4\n",
      "value of i 5\n",
      "value of i 0\n",
      "value of i 1\n",
      "value of i 2\n",
      "value of i 3\n",
      "value of i 4\n",
      "value of i 5\n"
     ]
    },
    {
     "name": "stderr",
     "output_type": "stream",
     "text": [
      " 59%|█████▉    | 59/100 [00:14<00:08,  4.83it/s]"
     ]
    },
    {
     "name": "stdout",
     "output_type": "stream",
     "text": [
      "value of i 0\n",
      "value of i 1\n",
      "value of i 2\n",
      "value of i 3\n",
      "value of i 4\n",
      "value of i 5\n",
      "value of i 0\n",
      "value of i 1\n",
      "value of i 2\n",
      "value of i 3\n",
      "value of i 4\n",
      "value of i 5\n"
     ]
    },
    {
     "name": "stderr",
     "output_type": "stream",
     "text": [
      " 61%|██████    | 61/100 [00:14<00:10,  3.87it/s]"
     ]
    },
    {
     "name": "stdout",
     "output_type": "stream",
     "text": [
      "value of i 0\n",
      "value of i 1\n",
      "value of i 2\n",
      "value of i 3\n",
      "value of i 4\n",
      "value of i 5\n",
      "value of i 0\n",
      "value of i 1\n",
      "value of i 2\n",
      "value of i 3\n",
      "value of i 4\n",
      "value of i 5\n"
     ]
    },
    {
     "name": "stderr",
     "output_type": "stream",
     "text": [
      " 62%|██████▏   | 62/100 [00:15<00:10,  3.74it/s]"
     ]
    },
    {
     "name": "stdout",
     "output_type": "stream",
     "text": [
      "value of i 0\n",
      "value of i 1\n",
      "value of i 2\n",
      "value of i 3\n",
      "value of i 4\n",
      "value of i 5\n"
     ]
    },
    {
     "name": "stderr",
     "output_type": "stream",
     "text": [
      " 63%|██████▎   | 63/100 [00:15<00:10,  3.63it/s]"
     ]
    },
    {
     "name": "stdout",
     "output_type": "stream",
     "text": [
      "value of i 0\n",
      "value of i 1\n",
      "value of i 2\n",
      "value of i 3\n",
      "value of i 4\n",
      "value of i 5\n"
     ]
    },
    {
     "name": "stderr",
     "output_type": "stream",
     "text": [
      " 64%|██████▍   | 64/100 [00:15<00:09,  3.94it/s]"
     ]
    },
    {
     "name": "stdout",
     "output_type": "stream",
     "text": [
      "value of i 0\n",
      "value of i 1\n",
      "value of i 2\n",
      "value of i 3\n",
      "value of i 4\n",
      "value of i 5\n"
     ]
    },
    {
     "name": "stderr",
     "output_type": "stream",
     "text": [
      " 66%|██████▌   | 66/100 [00:16<00:07,  4.37it/s]"
     ]
    },
    {
     "name": "stdout",
     "output_type": "stream",
     "text": [
      "value of i 0\n",
      "value of i 1\n",
      "value of i 2\n",
      "value of i 3\n",
      "value of i 4\n",
      "value of i 5\n",
      "value of i 0\n",
      "value of i 1\n",
      "value of i 2\n",
      "value of i 3\n",
      "value of i 4\n",
      "value of i 5\n"
     ]
    },
    {
     "name": "stderr",
     "output_type": "stream",
     "text": [
      " 67%|██████▋   | 67/100 [00:16<00:08,  4.07it/s]"
     ]
    },
    {
     "name": "stdout",
     "output_type": "stream",
     "text": [
      "value of i 0\n",
      "value of i 1\n",
      "value of i 2\n",
      "value of i 3\n",
      "value of i 4\n",
      "value of i 5\n"
     ]
    },
    {
     "name": "stderr",
     "output_type": "stream",
     "text": [
      " 68%|██████▊   | 68/100 [00:16<00:07,  4.24it/s]"
     ]
    },
    {
     "name": "stdout",
     "output_type": "stream",
     "text": [
      "value of i 0\n",
      "value of i 1\n",
      "value of i 2\n",
      "value of i 3\n",
      "value of i 4\n",
      "value of i 5\n"
     ]
    },
    {
     "name": "stderr",
     "output_type": "stream",
     "text": [
      " 70%|███████   | 70/100 [00:16<00:06,  4.53it/s]"
     ]
    },
    {
     "name": "stdout",
     "output_type": "stream",
     "text": [
      "value of i 0\n",
      "value of i 1\n",
      "value of i 2\n",
      "value of i 3\n",
      "value of i 4\n",
      "value of i 5\n",
      "value of i 0\n",
      "value of i 1\n",
      "value of i 2\n",
      "value of i 3\n",
      "value of i 4\n",
      "value of i 5\n"
     ]
    },
    {
     "name": "stderr",
     "output_type": "stream",
     "text": [
      " 72%|███████▏  | 72/100 [00:17<00:05,  4.78it/s]"
     ]
    },
    {
     "name": "stdout",
     "output_type": "stream",
     "text": [
      "value of i 0\n",
      "value of i 1\n",
      "value of i 2\n",
      "value of i 3\n",
      "value of i 4\n",
      "value of i 5\n",
      "value of i 0\n",
      "value of i 1\n",
      "value of i 2\n",
      "value of i 3\n",
      "value of i 4\n",
      "value of i 5\n"
     ]
    },
    {
     "name": "stderr",
     "output_type": "stream",
     "text": [
      " 73%|███████▎  | 73/100 [00:17<00:06,  4.29it/s]"
     ]
    },
    {
     "name": "stdout",
     "output_type": "stream",
     "text": [
      "value of i 0\n",
      "value of i 1\n",
      "value of i 2\n",
      "value of i 3\n",
      "value of i 4\n",
      "value of i 5\n"
     ]
    },
    {
     "name": "stderr",
     "output_type": "stream",
     "text": [
      " 74%|███████▍  | 74/100 [00:17<00:06,  3.98it/s]"
     ]
    },
    {
     "name": "stdout",
     "output_type": "stream",
     "text": [
      "value of i 0\n",
      "value of i 1\n",
      "value of i 2\n",
      "value of i 3\n",
      "value of i 4\n",
      "value of i 5\n"
     ]
    },
    {
     "name": "stderr",
     "output_type": "stream",
     "text": [
      " 75%|███████▌  | 75/100 [00:18<00:05,  4.21it/s]"
     ]
    },
    {
     "name": "stdout",
     "output_type": "stream",
     "text": [
      "value of i 0\n",
      "value of i 1\n",
      "value of i 2\n",
      "value of i 3\n",
      "value of i 4\n",
      "value of i 5\n"
     ]
    },
    {
     "name": "stderr",
     "output_type": "stream",
     "text": [
      " 77%|███████▋  | 77/100 [00:18<00:04,  4.68it/s]"
     ]
    },
    {
     "name": "stdout",
     "output_type": "stream",
     "text": [
      "value of i 0\n",
      "value of i 1\n",
      "value of i 2\n",
      "value of i 3\n",
      "value of i 4\n",
      "value of i 5\n",
      "value of i 0\n",
      "value of i 1\n",
      "value of i 2\n",
      "value of i 3\n",
      "value of i 4\n",
      "value of i 5\n"
     ]
    },
    {
     "name": "stderr",
     "output_type": "stream",
     "text": [
      " 78%|███████▊  | 78/100 [00:18<00:05,  4.17it/s]"
     ]
    },
    {
     "name": "stdout",
     "output_type": "stream",
     "text": [
      "value of i 0\n",
      "value of i 1\n",
      "value of i 2\n",
      "value of i 3\n",
      "value of i 4\n",
      "value of i 5\n"
     ]
    },
    {
     "name": "stderr",
     "output_type": "stream",
     "text": [
      " 79%|███████▉  | 79/100 [00:19<00:05,  3.97it/s]"
     ]
    },
    {
     "name": "stdout",
     "output_type": "stream",
     "text": [
      "value of i 0\n",
      "value of i 1\n",
      "value of i 2\n",
      "value of i 3\n",
      "value of i 4\n",
      "value of i 5\n"
     ]
    },
    {
     "name": "stderr",
     "output_type": "stream",
     "text": [
      " 80%|████████  | 80/100 [00:19<00:05,  3.77it/s]"
     ]
    },
    {
     "name": "stdout",
     "output_type": "stream",
     "text": [
      "value of i 0\n",
      "value of i 1\n",
      "value of i 2\n",
      "value of i 3\n",
      "value of i 4\n",
      "value of i 5\n"
     ]
    },
    {
     "name": "stderr",
     "output_type": "stream",
     "text": [
      " 81%|████████  | 81/100 [00:19<00:04,  4.06it/s]"
     ]
    },
    {
     "name": "stdout",
     "output_type": "stream",
     "text": [
      "value of i 0\n",
      "value of i 1\n",
      "value of i 2\n",
      "value of i 3\n",
      "value of i 4\n",
      "value of i 5\n"
     ]
    },
    {
     "name": "stderr",
     "output_type": "stream",
     "text": [
      " 83%|████████▎ | 83/100 [00:20<00:03,  4.57it/s]"
     ]
    },
    {
     "name": "stdout",
     "output_type": "stream",
     "text": [
      "value of i 0\n",
      "value of i 1\n",
      "value of i 2\n",
      "value of i 3\n",
      "value of i 4\n",
      "value of i 5\n",
      "value of i 0\n",
      "value of i 1\n",
      "value of i 2\n",
      "value of i 3\n",
      "value of i 4\n",
      "value of i 5\n"
     ]
    },
    {
     "name": "stderr",
     "output_type": "stream",
     "text": [
      " 84%|████████▍ | 84/100 [00:20<00:03,  4.17it/s]"
     ]
    },
    {
     "name": "stdout",
     "output_type": "stream",
     "text": [
      "value of i 0\n",
      "value of i 1\n",
      "value of i 2\n",
      "value of i 3\n",
      "value of i 4\n",
      "value of i 5\n"
     ]
    },
    {
     "name": "stderr",
     "output_type": "stream",
     "text": [
      " 85%|████████▌ | 85/100 [00:20<00:03,  4.35it/s]"
     ]
    },
    {
     "name": "stdout",
     "output_type": "stream",
     "text": [
      "value of i 0\n",
      "value of i 1\n",
      "value of i 2\n",
      "value of i 3\n",
      "value of i 4\n",
      "value of i 5\n"
     ]
    },
    {
     "name": "stderr",
     "output_type": "stream",
     "text": [
      " 86%|████████▌ | 86/100 [00:20<00:03,  4.05it/s]"
     ]
    },
    {
     "name": "stdout",
     "output_type": "stream",
     "text": [
      "value of i 0\n",
      "value of i 1\n",
      "value of i 2\n",
      "value of i 3\n",
      "value of i 4\n",
      "value of i 5\n"
     ]
    },
    {
     "name": "stderr",
     "output_type": "stream",
     "text": [
      " 87%|████████▋ | 87/100 [00:21<00:03,  4.22it/s]"
     ]
    },
    {
     "name": "stdout",
     "output_type": "stream",
     "text": [
      "value of i 0\n",
      "value of i 1\n",
      "value of i 2\n",
      "value of i 3\n",
      "value of i 4\n",
      "value of i 5\n"
     ]
    },
    {
     "name": "stderr",
     "output_type": "stream",
     "text": [
      " 89%|████████▉ | 89/100 [00:21<00:02,  4.73it/s]"
     ]
    },
    {
     "name": "stdout",
     "output_type": "stream",
     "text": [
      "value of i 0\n",
      "value of i 1\n",
      "value of i 2\n",
      "value of i 3\n",
      "value of i 4\n",
      "value of i 5\n",
      "value of i 0\n",
      "value of i 1\n",
      "value of i 2\n",
      "value of i 3\n",
      "value of i 4\n",
      "value of i 5\n"
     ]
    },
    {
     "name": "stderr",
     "output_type": "stream",
     "text": [
      " 90%|█████████ | 90/100 [00:21<00:02,  4.27it/s]"
     ]
    },
    {
     "name": "stdout",
     "output_type": "stream",
     "text": [
      "value of i 0\n",
      "value of i 1\n",
      "value of i 2\n",
      "value of i 3\n",
      "value of i 4\n",
      "value of i 5\n"
     ]
    },
    {
     "name": "stderr",
     "output_type": "stream",
     "text": [
      " 91%|█████████ | 91/100 [00:21<00:02,  4.38it/s]"
     ]
    },
    {
     "name": "stdout",
     "output_type": "stream",
     "text": [
      "value of i 0\n",
      "value of i 1\n",
      "value of i 2\n",
      "value of i 3\n",
      "value of i 4\n",
      "value of i 5\n"
     ]
    },
    {
     "name": "stderr",
     "output_type": "stream",
     "text": [
      " 92%|█████████▏| 92/100 [00:22<00:01,  4.12it/s]"
     ]
    },
    {
     "name": "stdout",
     "output_type": "stream",
     "text": [
      "value of i 0\n",
      "value of i 1\n",
      "value of i 2\n",
      "value of i 3\n",
      "value of i 4\n",
      "value of i 5\n"
     ]
    },
    {
     "name": "stderr",
     "output_type": "stream",
     "text": [
      " 93%|█████████▎| 93/100 [00:22<00:01,  4.32it/s]"
     ]
    },
    {
     "name": "stdout",
     "output_type": "stream",
     "text": [
      "value of i 0\n",
      "value of i 1\n",
      "value of i 2\n",
      "value of i 3\n",
      "value of i 4\n",
      "value of i 5\n"
     ]
    },
    {
     "name": "stderr",
     "output_type": "stream",
     "text": [
      " 94%|█████████▍| 94/100 [00:22<00:01,  4.47it/s]"
     ]
    },
    {
     "name": "stdout",
     "output_type": "stream",
     "text": [
      "value of i 0\n",
      "value of i 1\n",
      "value of i 2\n",
      "value of i 3\n",
      "value of i 4\n",
      "value of i 5\n"
     ]
    },
    {
     "name": "stderr",
     "output_type": "stream",
     "text": [
      " 95%|█████████▌| 95/100 [00:22<00:01,  4.54it/s]"
     ]
    },
    {
     "name": "stdout",
     "output_type": "stream",
     "text": [
      "value of i 0\n",
      "value of i 1\n",
      "value of i 2\n",
      "value of i 3\n",
      "value of i 4\n",
      "value of i 5\n"
     ]
    },
    {
     "name": "stderr",
     "output_type": "stream",
     "text": [
      " 96%|█████████▌| 96/100 [00:23<00:00,  4.21it/s]"
     ]
    },
    {
     "name": "stdout",
     "output_type": "stream",
     "text": [
      "value of i 0\n",
      "value of i 1\n",
      "value of i 2\n",
      "value of i 3\n",
      "value of i 4\n",
      "value of i 5\n"
     ]
    },
    {
     "name": "stderr",
     "output_type": "stream",
     "text": [
      " 97%|█████████▋| 97/100 [00:23<00:00,  4.31it/s]"
     ]
    },
    {
     "name": "stdout",
     "output_type": "stream",
     "text": [
      "value of i 0\n",
      "value of i 1\n",
      "value of i 2\n",
      "value of i 3\n",
      "value of i 4\n",
      "value of i 5\n"
     ]
    },
    {
     "name": "stderr",
     "output_type": "stream",
     "text": [
      " 98%|█████████▊| 98/100 [00:23<00:00,  4.05it/s]"
     ]
    },
    {
     "name": "stdout",
     "output_type": "stream",
     "text": [
      "value of i 0\n",
      "value of i 1\n",
      "value of i 2\n",
      "value of i 3\n",
      "value of i 4\n",
      "value of i 5\n"
     ]
    },
    {
     "name": "stderr",
     "output_type": "stream",
     "text": [
      " 99%|█████████▉| 99/100 [00:23<00:00,  4.23it/s]"
     ]
    },
    {
     "name": "stdout",
     "output_type": "stream",
     "text": [
      "value of i 0\n",
      "value of i 1\n",
      "value of i 2\n",
      "value of i 3\n",
      "value of i 4\n",
      "value of i 5\n"
     ]
    },
    {
     "name": "stderr",
     "output_type": "stream",
     "text": [
      "100%|██████████| 100/100 [00:24<00:00,  4.14it/s]"
     ]
    },
    {
     "name": "stdout",
     "output_type": "stream",
     "text": [
      "value of i 0\n",
      "value of i 1\n",
      "value of i 2\n",
      "value of i 3\n",
      "value of i 4\n",
      "value of i 5\n"
     ]
    },
    {
     "name": "stderr",
     "output_type": "stream",
     "text": [
      "\n"
     ]
    }
   ],
   "source": [
    "# determinism\n",
    "max_seed = 1000000\n",
    "num_episodes =100\n",
    "argmax = True\n",
    "rng = np.random.default_rng()\n",
    "seeds = rng.choice(max_seed, size=num_episodes, replace=False)\n",
    "num_timesteps = 1  # For example, capture 10 timesteps\n",
    "\n",
    "activations_dict = {f'{i}': [] for i in cache_values}\n",
    "cheese_position_total = []\n",
    "state_bytes_data_array = []\n",
    "obs_data_array = []\n",
    "\n",
    "for seed in tqdm(seeds):\n",
    "    seed = int(seed)\n",
    "    venv = create_venv(start_level=seed)\n",
    "    assert venv.num_envs == 1, 'Only one env supported (for now)'\n",
    "\n",
    "    obs = venv.reset()\n",
    "    info = venv.env.get_info()\n",
    "\n",
    "    #initialising the list of all episodes\n",
    "    all_episodes = []\n",
    "    episode_cheese_positions = []\n",
    "    \n",
    "    for i in range(len(cache_values)):\n",
    "        all_episodes.append([])\n",
    "\n",
    "\n",
    "    policy.eval()\n",
    "    for step in range(num_timesteps):\n",
    "        with hook_manager:\n",
    "            obs_data_array.append(obs)\n",
    "            p, v = policy(torch.FloatTensor(obs))\n",
    "        action = p.probs.argmax(dim=-1).numpy() if argmax else p.sample().numpy()\n",
    "        obs, rew, done, info = venv.step(action)\n",
    "\n",
    "        states_bytes = venv.env.callmethod('get_state')[0]\n",
    "        state_bytes_data_array.append(states_bytes)\n",
    "        \n",
    "        states_vals = maze._parse_maze_state_bytes(states_bytes)\n",
    "        grid = maze.get_grid(states_vals)\n",
    "        cheese_position = maze.get_cheese_pos(grid)[0]\n",
    "\n",
    "        for i in range(len(cache_values)):\n",
    "            all_episodes[i].append(hook_manager.cache_results[list(activations_dict)[i]])\n",
    "        \n",
    "        episode_cheese_positions.append(cheese_position)\n",
    "\n",
    "        if done:\n",
    "            break\n",
    "\n",
    "    i= 0    \n",
    "    for key in activations_dict.keys():\n",
    "        \n",
    "        print(\"value of i\", i)\n",
    "        activations_dict[key].extend(all_episodes[i])   \n",
    "        i += 1\n",
    "    cheese_position_total.extend(episode_cheese_positions)\n",
    "\n",
    "# Convert lists to tensors\n",
    "\n",
    "for key in activations_dict.keys():\n",
    "    activations_dict[key] = torch.stack(activations_dict[key])\n",
    "cheese_positions = torch.tensor(cheese_position_total, dtype=torch.long)\n",
    "\n",
    "# Continue with data preparation and linear probe training as before...\n"
   ]
  },
  {
   "cell_type": "code",
   "execution_count": 14,
   "metadata": {},
   "outputs": [
    {
     "name": "stdout",
     "output_type": "stream",
     "text": [
      "torch.Size([100])\n",
      "100\n",
      "100\n"
     ]
    }
   ],
   "source": [
    "print(cheese_positions.shape)\n",
    "print(len(state_bytes_data_array))\n",
    "print(len(obs_data_array))"
   ]
  },
  {
   "cell_type": "code",
   "execution_count": 15,
   "metadata": {},
   "outputs": [],
   "source": [
    "from circrl import probing as prb"
   ]
  },
  {
   "cell_type": "markdown",
   "metadata": {},
   "source": [
    "# Implementation of Monte's Convolutional Probes "
   ]
  },
  {
   "cell_type": "code",
   "execution_count": 16,
   "metadata": {},
   "outputs": [],
   "source": [
    "import xarray as xr\n",
    "\n",
    "#Monte's method of probing (Not fully understood yet)\n",
    "state_bytes_key = 'dec_state_bytes'\n",
    "def get_obj_loc_targets(data_all, obj_value, state_bytes_key):\n",
    "    '''Get potential probe targets for y,x (row, col) location of an\n",
    "    object, where the object is specified by obj_value as the value\n",
    "    to match on in the maze grid array.'''\n",
    "    pos_arr = maze.get_object_pos_from_seq_of_states(\n",
    "        [state_bytes for state_bytes in data_all], obj_value)\n",
    "    pos = xr.Dataset({\n",
    "        'y': xr.DataArray(pos_arr[:,0], dims=['batch']),\n",
    "        'x': xr.DataArray(pos_arr[:,1], dims=['batch'])}).assign_coords(\n",
    "            {'batch': np.arange(len(data_all))})\n",
    "    return pos\n",
    "\n",
    "# Get the cheese position for all data points\n",
    "cheese_pos = get_obj_loc_targets(state_bytes_data_array, maze.CHEESE, state_bytes_key)"
   ]
  },
  {
   "cell_type": "code",
   "execution_count": 17,
   "metadata": {},
   "outputs": [
    {
     "name": "stdout",
     "output_type": "stream",
     "text": [
      "<xarray.Dataset> Size: 2kB\n",
      "Dimensions:  (batch: 100)\n",
      "Coordinates:\n",
      "  * batch    (batch) int64 800B 0 1 2 3 4 5 6 7 8 ... 91 92 93 94 95 96 97 98 99\n",
      "Data variables:\n",
      "    y        (batch) int64 800B 8 12 13 12 12 11 6 8 9 ... 11 14 15 11 12 5 7 10\n",
      "    x        (batch) int64 800B 16 12 13 14 12 12 2 11 ... 12 18 14 14 10 15 11\n"
     ]
    }
   ],
   "source": [
    "#Let's print out the cheese positions to see what the above method has done\n",
    "print(cheese_pos)"
   ]
  },
  {
   "cell_type": "code",
   "execution_count": 53,
   "metadata": {
    "scrolled": true
   },
   "outputs": [
    {
     "name": "stdout",
     "output_type": "stream",
     "text": [
      "obsv shape 100\n",
      "value shape (100, 1, 64, 32, 32)\n"
     ]
    },
    {
     "name": "stderr",
     "output_type": "stream",
     "text": [
      "100%|██████████| 100/100 [00:00<00:00, 2129.21it/s]\n"
     ]
    },
    {
     "name": "stdout",
     "output_type": "stream",
     "text": [
      "value shape (100, 1, 64, 32, 32)\n"
     ]
    },
    {
     "name": "stderr",
     "output_type": "stream",
     "text": [
      "100%|██████████| 100/100 [00:00<00:00, 2178.19it/s]\n"
     ]
    },
    {
     "name": "stdout",
     "output_type": "stream",
     "text": [
      "value shape (100, 1, 128, 16, 16)\n"
     ]
    },
    {
     "name": "stderr",
     "output_type": "stream",
     "text": [
      "100%|██████████| 100/100 [00:00<00:00, 2166.35it/s]\n"
     ]
    },
    {
     "name": "stdout",
     "output_type": "stream",
     "text": [
      "value shape (100, 1, 128, 16, 16)\n"
     ]
    },
    {
     "name": "stderr",
     "output_type": "stream",
     "text": [
      "100%|██████████| 100/100 [00:00<00:00, 2222.75it/s]\n"
     ]
    },
    {
     "name": "stdout",
     "output_type": "stream",
     "text": [
      "value shape (100, 1, 128, 8, 8)\n"
     ]
    },
    {
     "name": "stderr",
     "output_type": "stream",
     "text": [
      "100%|██████████| 100/100 [00:00<00:00, 2158.34it/s]\n"
     ]
    },
    {
     "name": "stdout",
     "output_type": "stream",
     "text": [
      "value shape (100, 1, 128, 8, 8)\n"
     ]
    },
    {
     "name": "stderr",
     "output_type": "stream",
     "text": [
      "100%|██████████| 100/100 [00:00<00:00, 2150.86it/s]\n"
     ]
    },
    {
     "data": {
      "text/html": [
       "<div>                            <div id=\"66ad2887-ef9f-4598-a66a-b2fc2eeff7e9\" class=\"plotly-graph-div\" style=\"height:525px; width:100%;\"></div>            <script type=\"text/javascript\">                require([\"plotly\"], function(Plotly) {                    window.PLOTLYENV=window.PLOTLYENV || {};                                    if (document.getElementById(\"66ad2887-ef9f-4598-a66a-b2fc2eeff7e9\")) {                    Plotly.newPlot(                        \"66ad2887-ef9f-4598-a66a-b2fc2eeff7e9\",                        [{\"customdata\":[[15],[47],[62],[50],[0],[63],[11],[16],[40],[6],[48],[7],[20],[36],[41],[2],[3],[12],[21],[61],[52],[53],[60],[56],[38],[29],[32],[24],[28],[49],[22],[27],[5],[51],[18],[10],[31],[1],[8],[13],[54],[26],[4],[17],[33],[34],[58],[35],[45],[14],[57],[23],[46],[37],[43],[42],[44],[55],[25],[59],[9],[30],[19],[39]],\"hovertemplate\":\"layer=embedder.block1.res1.resadd\\u003cbr\\u003erank=%{x}\\u003cbr\\u003ef-score=%{y}\\u003cbr\\u003echannel=%{customdata[0]}\\u003cextra\\u003e\\u003c\\u002fextra\\u003e\",\"legendgroup\":\"embedder.block1.res1.resadd\",\"line\":{\"color\":\"#636efa\",\"dash\":\"solid\"},\"marker\":{\"symbol\":\"circle\"},\"mode\":\"lines\",\"name\":\"embedder.block1.res1.resadd\",\"orientation\":\"v\",\"showlegend\":true,\"x\":[0,1,2,3,4,5,6,7,8,9,10,11,12,13,14,15,16,17,18,19,20,21,22,23,24,25,26,27,28,29,30,31,32,33,34,35,36,37,38,39,40,41,42,43,44,45,46,47,48,49,50,51,52,53,54,55,56,57,58,59,60,61,62,63],\"xaxis\":\"x\",\"y\":[691.5100585590156,615.8661752108266,441.24304987013653,382.4517411669875,343.37089314016214,340.9911402624861,311.3425885323594,257.8636925740988,248.98963410960434,245.75387173984842,222.29583957687967,206.4935644252981,194.89501878281573,183.2560872438878,181.75938040396804,180.8919672327242,178.3195790924984,170.11510626509147,168.61520585762287,165.33730474459577,154.05313512359672,146.76486179216366,137.0590893265496,135.81219099872013,135.1300354661305,134.32023344342642,132.96000850401893,128.1531235343062,115.80450373599334,113.76233953234758,113.58934886517291,112.88724538697727,110.90923598020119,110.71663821735602,109.77879468905282,108.00566309620963,105.21369944229333,94.95846012158405,93.51442475638402,88.79448278969679,87.67627600968773,83.61637163615974,83.58559490108846,78.8048666973312,68.37818039404414,63.692525645295,56.276793526252064,54.48386455160068,51.47267217109696,47.673133896826535,42.42204225636788,41.38530280547012,38.47125132614756,34.469221223503695,34.25612432782926,31.78719036511732,24.826310750360964,21.209552475126777,12.501065865092315,11.407922355096753,9.970813419407621,9.64859325717308,2.986163715154729,0.15139134957101658],\"yaxis\":\"y\",\"type\":\"scatter\"},{\"customdata\":[[15],[47],[0],[50],[49],[62],[63],[6],[27],[53],[2],[40],[3],[61],[51],[54],[41],[48],[4],[33],[16],[36],[52],[37],[1],[38],[11],[45],[10],[12],[35],[28],[19],[17],[13],[56],[22],[21],[59],[43],[24],[14],[44],[26],[23],[29],[18],[58],[34],[60],[30],[31],[20],[46],[55],[57],[39],[8],[32],[42],[5],[7],[9],[25]],\"hovertemplate\":\"layer=embedder.block1.res2.resadd\\u003cbr\\u003erank=%{x}\\u003cbr\\u003ef-score=%{y}\\u003cbr\\u003echannel=%{customdata[0]}\\u003cextra\\u003e\\u003c\\u002fextra\\u003e\",\"legendgroup\":\"embedder.block1.res2.resadd\",\"line\":{\"color\":\"#EF553B\",\"dash\":\"solid\"},\"marker\":{\"symbol\":\"circle\"},\"mode\":\"lines\",\"name\":\"embedder.block1.res2.resadd\",\"orientation\":\"v\",\"showlegend\":true,\"x\":[0,1,2,3,4,5,6,7,8,9,10,11,12,13,14,15,16,17,18,19,20,21,22,23,24,25,26,27,28,29,30,31,32,33,34,35,36,37,38,39,40,41,42,43,44,45,46,47,48,49,50,51,52,53,54,55,56,57,58,59,60,61,62,63],\"xaxis\":\"x\",\"y\":[628.2341163351385,618.3543847787108,463.3741751832207,387.9668499480738,285.01901397486046,270.24505839261604,261.5075325812136,249.97936811865128,248.25053030601205,239.76169717216905,230.33231765341046,227.90610517328162,225.82006063738916,205.43497304925228,183.21249991153263,179.41925016473695,170.9679264511993,161.27449715218373,160.12834333484585,156.03884039118617,144.95220157333156,142.21094367403097,139.61125627725897,137.41365420635358,132.2451207632177,130.62586793821123,121.88131685958764,119.28242381368855,117.32344474453538,105.668675008408,104.47467714381233,100.83198172599006,92.41393456854321,90.64649426488972,90.35138130332989,88.96658868173945,84.89756941474525,84.89275286644163,81.55813762120943,73.67272710583086,64.30372217733657,64.22690004307697,53.11005480787536,44.52682993079393,43.169969533412676,42.65576250003969,34.123872809549724,32.20503979467148,27.871401710507286,21.25945542943093,21.039822248239624,20.187424697162182,19.06007119634438,16.905634867452775,16.159468038070283,3.568574054439289,2.6795571914628327,2.3630457313426545,1.6175102157072279,1.48946611640269,1.2742731720907112,0.17989627556676988,0.03546822145333933,0.00329603239159341],\"yaxis\":\"y\",\"type\":\"scatter\"},{\"customdata\":[[42],[99],[113],[70],[55],[8],[82],[77],[9],[46],[122],[39],[14],[75],[81],[92],[26],[95],[5],[37],[29],[62],[23],[61],[125],[44],[40],[83],[86],[68],[109],[27],[107],[98],[127],[35],[57],[67],[80],[36],[110],[85],[32],[54],[123],[96],[22],[106],[89],[52],[100],[115],[88],[10],[118],[33],[91],[74],[116],[45],[73],[111],[66],[105],[28],[71],[50],[103],[2],[18],[7],[120],[84],[58],[31],[117],[43],[0],[53],[49],[47],[15],[16],[11],[114],[72],[20],[78],[17],[51],[1],[21],[41],[97],[63],[60],[64],[101],[119],[112],[76],[93],[90],[34],[25],[6],[59],[87],[79],[19],[12],[104],[108],[24],[48],[38],[126],[65],[4],[124],[30],[69],[3],[56],[94],[13],[102],[121]],\"hovertemplate\":\"layer=embedder.block2.res1.resadd\\u003cbr\\u003erank=%{x}\\u003cbr\\u003ef-score=%{y}\\u003cbr\\u003echannel=%{customdata[0]}\\u003cextra\\u003e\\u003c\\u002fextra\\u003e\",\"legendgroup\":\"embedder.block2.res1.resadd\",\"line\":{\"color\":\"#00cc96\",\"dash\":\"solid\"},\"marker\":{\"symbol\":\"circle\"},\"mode\":\"lines\",\"name\":\"embedder.block2.res1.resadd\",\"orientation\":\"v\",\"showlegend\":true,\"x\":[0,1,2,3,4,5,6,7,8,9,10,11,12,13,14,15,16,17,18,19,20,21,22,23,24,25,26,27,28,29,30,31,32,33,34,35,36,37,38,39,40,41,42,43,44,45,46,47,48,49,50,51,52,53,54,55,56,57,58,59,60,61,62,63,64,65,66,67,68,69,70,71,72,73,74,75,76,77,78,79,80,81,82,83,84,85,86,87,88,89,90,91,92,93,94,95,96,97,98,99,100,101,102,103,104,105,106,107,108,109,110,111,112,113,114,115,116,117,118,119,120,121,122,123,124,125,126,127],\"xaxis\":\"x\",\"y\":[734.9036304661795,717.9508627701958,507.6150728369151,475.29941895349975,381.7509180628775,360.9510441920467,303.1765003937142,264.02209085944895,161.36441692170132,159.52690363163316,156.26597341312743,152.51782547134596,151.49606017843988,145.2001318744901,130.1545304952635,128.76179989634613,117.9886265827282,116.70758718272951,106.5655068878241,102.19128728063205,97.2305229512198,92.00622159572215,86.68276314600259,85.97744741106669,85.32864596566615,81.57482207440349,79.1925576876926,76.06060835644305,73.9575580764565,69.96472922784433,68.47193291072008,66.23583604707723,64.08546376676303,54.9965138716351,54.77030246209955,52.66806965192229,52.0734215222927,50.52546645240094,47.84411572905239,46.230567989526925,45.88521810458571,44.69665611788554,43.83543364098949,42.71311225292448,40.850492770879306,37.56840061121157,37.27655580106107,37.2574175234005,36.10437472647742,33.31379867585195,32.47327293614137,31.132130123573766,28.695867990687997,28.40394310594733,27.558223348330056,27.468081942034896,26.644964978295672,26.498733373511843,26.394489322295293,26.276738666028987,26.089828285184367,24.053066501750717,22.04200525804916,21.20463992855236,20.44057404527697,19.325308544797767,19.247365659753243,18.59348987327088,17.35698893064011,14.498623145397026,14.204649141098892,14.107281638065599,13.93057765638977,13.513023551107556,13.090911398414155,12.89126365580977,12.267879047248924,12.03254314696916,11.560163559906186,11.100482088275978,10.561677518354218,10.432071388217656,10.279497796895866,9.20886359161988,8.820626380327317,8.666378550139664,8.495146714677126,8.4744298347812,7.4716374851097,7.131409631993299,6.851927974654989,6.327100187969438,6.101839038561024,5.660619043599744,5.620368898296579,5.525983543206029,4.9420189688531835,4.801484430261367,4.384279916301622,4.143916939216856,2.8377870702612045,2.4238957195770645,2.2999057375428476,2.0377331784074224,1.9896408031441462,1.968415360278717,1.6282891537121549,1.4517576651678437,1.3532663578367783,1.3473861419548496,1.0970353900326966,1.0819969664346174,0.9357229045009652,0.907148228362,0.8826235396003649,0.8359579716272488,0.804940143655484,0.6506604153780928,0.5039521425427262,0.3820415639153159,0.3515681934324923,0.30870648907655945,0.2652636405932916,0.2601451059092616,0.18638052559589857,0.17403966066751989,0.08234640124569319,0.03235809391561543],\"yaxis\":\"y\",\"type\":\"scatter\"},{\"customdata\":[[42],[99],[113],[70],[55],[77],[82],[92],[29],[9],[8],[86],[62],[68],[110],[37],[46],[4],[91],[81],[23],[89],[39],[122],[60],[61],[87],[105],[35],[18],[58],[66],[84],[17],[83],[6],[5],[94],[36],[40],[75],[85],[59],[80],[7],[50],[14],[57],[53],[111],[69],[119],[44],[52],[26],[104],[106],[33],[72],[127],[1],[115],[88],[15],[95],[118],[123],[21],[19],[31],[63],[107],[10],[120],[76],[78],[56],[96],[43],[22],[30],[20],[102],[47],[109],[108],[121],[16],[54],[73],[124],[116],[48],[28],[45],[27],[126],[125],[24],[0],[49],[38],[13],[100],[32],[2],[64],[67],[71],[65],[79],[74],[93],[90],[98],[101],[11],[103],[114],[51],[12],[97],[41],[117],[3],[34],[112],[25]],\"hovertemplate\":\"layer=embedder.block2.res2.resadd\\u003cbr\\u003erank=%{x}\\u003cbr\\u003ef-score=%{y}\\u003cbr\\u003echannel=%{customdata[0]}\\u003cextra\\u003e\\u003c\\u002fextra\\u003e\",\"legendgroup\":\"embedder.block2.res2.resadd\",\"line\":{\"color\":\"#ab63fa\",\"dash\":\"solid\"},\"marker\":{\"symbol\":\"circle\"},\"mode\":\"lines\",\"name\":\"embedder.block2.res2.resadd\",\"orientation\":\"v\",\"showlegend\":true,\"x\":[0,1,2,3,4,5,6,7,8,9,10,11,12,13,14,15,16,17,18,19,20,21,22,23,24,25,26,27,28,29,30,31,32,33,34,35,36,37,38,39,40,41,42,43,44,45,46,47,48,49,50,51,52,53,54,55,56,57,58,59,60,61,62,63,64,65,66,67,68,69,70,71,72,73,74,75,76,77,78,79,80,81,82,83,84,85,86,87,88,89,90,91,92,93,94,95,96,97,98,99,100,101,102,103,104,105,106,107,108,109,110,111,112,113,114,115,116,117,118,119,120,121,122,123,124,125,126,127],\"xaxis\":\"x\",\"y\":[692.7979781768431,547.4210082157972,491.58486860717545,364.4671052674598,341.2025775537386,288.1399449189915,238.7491186357659,157.85896040117015,144.34860888137567,143.61051992041132,117.53719714392912,105.41918872163647,96.11468584954103,94.85924082264215,93.70331222562028,83.83684211085405,82.1451021137564,77.41356525107997,73.82348201587,64.43361941983157,62.486785868143954,62.447803480338116,62.38417467429455,59.71804457003918,59.29237879991887,58.41803399664794,57.321697612672594,54.040115730541395,52.94762731500118,52.30652222343695,49.182580713287194,48.533180316959566,44.11780334099286,43.618417128832085,42.47575784977142,38.23893917941113,37.82642979090965,36.96563969610491,35.59799588592701,35.427161110176954,34.28860697776798,34.164361700228845,33.55672755193794,33.54923098975475,32.55425722990641,30.733077828405907,29.976975168292565,29.871235638759313,29.3849550728898,27.16761574159998,26.6671252339965,26.41446508042134,25.522170786045425,25.47451244623718,22.000278044098845,21.168130847304113,20.057796007182116,19.97311472736629,19.225324149751025,18.67088274921964,18.620667156548258,18.067621019988195,17.854354645423214,17.40768684409915,17.10823151802721,16.488445814660587,14.300944403449622,14.226574163246626,14.167396452574854,13.996652506927827,12.587814809037813,12.234309638516807,11.485050519072773,10.41253900889187,10.285068534499029,9.98897031024523,8.939880369983436,8.747984704251138,8.714475665616533,7.302620714829676,7.076885968027549,6.854806443421043,6.84361287233265,6.80306170234463,6.564478338039748,6.229325636610657,6.119693209296947,5.74614214981277,5.6675883672014455,3.9116667693282903,3.851038231279948,3.4981646126187265,3.366034204223824,3.352099134140607,2.65780246988345,2.509944407499997,2.4343825514987674,2.170807927300763,1.9888786782850516,1.9685791073909895,1.8504233117002697,1.5809179850614885,1.3964553807159519,1.2925187087421641,1.259264894955255,1.1538202889076834,0.9348370663256911,0.8849159215522976,0.7155397511360763,0.6964726316124318,0.6721470873512851,0.59022879358599,0.5772036897621592,0.45133818660930136,0.3815159113944183,0.35149599508589097,0.27908276058328446,0.2748788666507546,0.183384362809898,0.12555752955092817,0.10863217767755504,0.032320933845967834,0.02747497834468438,0.019605953735444707,0.0153831637324372,0.013444278701688558,0.0060767539491226475,0.00013632805156709308],\"yaxis\":\"y\",\"type\":\"scatter\"},{\"customdata\":[[91],[111],[101],[94],[53],[27],[12],[11],[72],[127],[13],[25],[112],[61],[105],[125],[71],[107],[65],[60],[47],[115],[28],[22],[92],[51],[122],[113],[103],[7],[76],[50],[42],[5],[4],[64],[43],[124],[116],[3],[73],[95],[100],[86],[74],[90],[21],[81],[85],[123],[126],[108],[55],[9],[54],[30],[33],[83],[40],[106],[57],[79],[2],[84],[58],[117],[118],[98],[121],[16],[46],[6],[29],[59],[19],[102],[89],[99],[68],[93],[120],[10],[67],[52],[39],[44],[35],[24],[87],[34],[104],[45],[23],[88],[48],[17],[63],[62],[80],[66],[77],[20],[97],[70],[8],[14],[15],[96],[69],[26],[119],[56],[32],[31],[82],[36],[110],[41],[109],[37],[114],[78],[38],[18],[75],[0],[1],[49]],\"hovertemplate\":\"layer=embedder.block3.res1.resadd\\u003cbr\\u003erank=%{x}\\u003cbr\\u003ef-score=%{y}\\u003cbr\\u003echannel=%{customdata[0]}\\u003cextra\\u003e\\u003c\\u002fextra\\u003e\",\"legendgroup\":\"embedder.block3.res1.resadd\",\"line\":{\"color\":\"#FFA15A\",\"dash\":\"solid\"},\"marker\":{\"symbol\":\"circle\"},\"mode\":\"lines\",\"name\":\"embedder.block3.res1.resadd\",\"orientation\":\"v\",\"showlegend\":true,\"x\":[0,1,2,3,4,5,6,7,8,9,10,11,12,13,14,15,16,17,18,19,20,21,22,23,24,25,26,27,28,29,30,31,32,33,34,35,36,37,38,39,40,41,42,43,44,45,46,47,48,49,50,51,52,53,54,55,56,57,58,59,60,61,62,63,64,65,66,67,68,69,70,71,72,73,74,75,76,77,78,79,80,81,82,83,84,85,86,87,88,89,90,91,92,93,94,95,96,97,98,99,100,101,102,103,104,105,106,107,108,109,110,111,112,113,114,115,116,117,118,119,120,121,122,123,124,125,126,127],\"xaxis\":\"x\",\"y\":[104.88280790441927,100.15624111195471,99.25646167247152,91.87501673897735,84.86793783126885,84.41847209263507,84.30360958308222,84.1395034149342,83.51032838456688,80.62092441839769,79.92175428837827,75.17838256398313,72.64588861829,68.89981664721037,66.97605176695583,65.06328395870455,63.92935181307845,62.209051032469944,61.12443916817966,60.613488354376244,60.484783401513575,60.39665885668008,57.28502381520889,56.71438542024178,54.348109704955,54.01210027925994,53.83026513656029,52.971528022976884,51.49904086363652,50.61183055042542,50.311823155974274,48.650241526083136,48.53464566114098,48.15949608908522,47.41503390672685,47.23847542471486,47.17176391391051,46.117960222609845,44.30761794603355,43.70778069302996,42.04284620691983,41.25032853758112,40.83149659839805,40.34209029115957,39.168409037262755,38.08751386191896,38.03497854315498,36.513717309490126,33.78615474953884,33.458130138814845,32.670068581912155,29.77848356419835,28.326198798355673,28.208692200718563,28.097932635891958,26.371038876460275,26.058995936538498,25.811789677069036,25.593714794803354,24.738919252365655,24.411646501997595,24.284658257506088,23.917850331042715,23.570963349747853,22.91341707413347,22.557737951097167,22.03435537784696,21.930556576608378,19.917971545331106,19.802329038354724,19.78941303555227,17.668508924166414,17.342775551820488,16.368275108101376,15.684596684587246,15.603943632204377,14.76017700535218,14.637837574215663,13.085834573109956,13.006851485682537,12.737613927986411,12.467936486095114,12.387671730769938,12.35309266899415,8.896742671251388,8.625514909651898,8.582570797639395,8.24426083937695,7.722132596865751,7.51706819430618,7.334957642655919,7.090101182806344,7.083340352064524,6.668655817082448,6.39769915119346,5.97673305905348,5.852971838819026,5.683071085049687,5.470054962307415,5.357777871656022,5.159371733860001,4.987935285855612,4.729676572291034,3.8972152863409195,3.3730452760193192,3.188311660974927,2.777669330238476,2.440249768811229,2.298148164737559,2.0981590186566095,1.6710509623148881,1.5986250459531552,1.1401677874737062,1.089166341347677,0.784498608864111,0.7674910480133615,0.6853480126125405,0.608756242472553,0.5032213718619372,0.41664177345682724,0.26686395420885534,0.26227974372338203,0.17175285769969512,0.15189056869478498,0.11072415861855589,0.07924326651977066,0.00338781239943367,8.57498229238291e-06],\"yaxis\":\"y\",\"type\":\"scatter\"},{\"customdata\":[[91],[101],[94],[72],[12],[111],[53],[25],[107],[112],[122],[115],[27],[7],[11],[86],[13],[60],[113],[47],[65],[90],[74],[117],[127],[22],[43],[124],[28],[76],[125],[4],[92],[3],[95],[55],[64],[108],[40],[54],[42],[50],[39],[118],[16],[77],[103],[126],[19],[120],[62],[2],[29],[9],[85],[46],[123],[106],[93],[68],[59],[58],[21],[33],[61],[79],[116],[89],[78],[5],[26],[71],[99],[84],[119],[109],[41],[100],[56],[51],[102],[104],[97],[70],[52],[69],[35],[57],[23],[37],[38],[105],[66],[32],[15],[98],[1],[8],[44],[24],[45],[67],[30],[0],[49],[18],[20],[31],[36],[73],[87],[10],[6],[82],[48],[96],[34],[80],[88],[17],[114],[63],[121],[81],[83],[75],[110],[14]],\"hovertemplate\":\"layer=embedder.block3.res2.resadd\\u003cbr\\u003erank=%{x}\\u003cbr\\u003ef-score=%{y}\\u003cbr\\u003echannel=%{customdata[0]}\\u003cextra\\u003e\\u003c\\u002fextra\\u003e\",\"legendgroup\":\"embedder.block3.res2.resadd\",\"line\":{\"color\":\"#19d3f3\",\"dash\":\"solid\"},\"marker\":{\"symbol\":\"circle\"},\"mode\":\"lines\",\"name\":\"embedder.block3.res2.resadd\",\"orientation\":\"v\",\"showlegend\":true,\"x\":[0,1,2,3,4,5,6,7,8,9,10,11,12,13,14,15,16,17,18,19,20,21,22,23,24,25,26,27,28,29,30,31,32,33,34,35,36,37,38,39,40,41,42,43,44,45,46,47,48,49,50,51,52,53,54,55,56,57,58,59,60,61,62,63,64,65,66,67,68,69,70,71,72,73,74,75,76,77,78,79,80,81,82,83,84,85,86,87,88,89,90,91,92,93,94,95,96,97,98,99,100,101,102,103,104,105,106,107,108,109,110,111,112,113,114,115,116,117,118,119,120,121,122,123,124,125,126,127],\"xaxis\":\"x\",\"y\":[108.66647655127704,105.23913265792277,97.64256973100248,90.82674233542977,90.67666314632939,85.15240563210884,83.58177825267248,83.02647269628227,77.61944508154659,77.21723079899483,75.67493141637506,74.25393671980216,73.22877395951369,72.8463302338338,71.69928076422316,70.51604670670389,70.46658498739087,69.93725102901529,69.29809638042887,62.28350914369155,61.85963178107529,61.29517790600192,60.95599631192296,60.26539033243325,60.10379024143598,59.515276429371845,59.14627278995437,57.72032142133859,57.47826209503615,56.53846235433168,56.412948453306186,56.12975869863032,55.93847226377299,55.4222708789919,54.580356420103804,53.80067597041908,53.38267960524059,53.14889461368709,51.67151248580819,50.92596409276081,49.45971496479671,47.99707063397655,47.339194845583265,46.91400410171386,46.43786317588233,45.23409273287459,44.75793377094704,44.323868154875576,42.98123857719749,42.418291471388024,41.104350005894624,40.58709691046868,40.52829240004273,39.64430445306047,39.150130113681506,37.873315860575794,37.83591639724866,37.579644463453214,37.38568062879384,36.60210645321183,35.69054395847954,35.33370154147699,35.31879476482066,35.14165051090684,34.603168284220686,33.19582111647016,33.08825941475719,32.87655528578131,32.846096810693375,32.770050946057445,31.559786693254964,31.381165885907006,30.69740423373329,29.373715241179458,29.30399362225805,28.695446055036754,28.38282849018707,28.100422455854424,27.422358857041164,27.059457301742526,26.565375589522127,25.14115400750318,24.74218906535775,23.88235351578482,23.29851741131665,23.021179060874047,21.90296751081755,19.69201599506024,19.325374890469813,18.448745341142942,18.064702940440313,17.970772070952723,17.75181743332533,17.38122943378278,15.640380246441346,14.56017774243828,14.266433675583011,13.576568139548325,12.703886270455206,11.760961779721253,11.48005738843395,11.364657480974019,10.619366926791967,10.513693253182607,9.087175852812784,7.800634862894151,7.302212174851329,7.295639434647823,7.076021955326181,6.9823181494092115,6.911274771611646,6.4474062041716165,6.34225085046636,5.471348773379671,5.412997229328989,5.267234452376107,4.744413083030349,4.4729786196028,4.208246066259289,4.031271776468457,3.9123551956148077,3.815487752901608,3.5944340435228908,2.2356301614942256,1.8694306572610657,1.435044010419362,0.007988337911590501,0.00012228923947658104],\"yaxis\":\"y\",\"type\":\"scatter\"}],                        {\"template\":{\"data\":{\"histogram2dcontour\":[{\"type\":\"histogram2dcontour\",\"colorbar\":{\"outlinewidth\":0,\"ticks\":\"\"},\"colorscale\":[[0.0,\"#0d0887\"],[0.1111111111111111,\"#46039f\"],[0.2222222222222222,\"#7201a8\"],[0.3333333333333333,\"#9c179e\"],[0.4444444444444444,\"#bd3786\"],[0.5555555555555556,\"#d8576b\"],[0.6666666666666666,\"#ed7953\"],[0.7777777777777778,\"#fb9f3a\"],[0.8888888888888888,\"#fdca26\"],[1.0,\"#f0f921\"]]}],\"choropleth\":[{\"type\":\"choropleth\",\"colorbar\":{\"outlinewidth\":0,\"ticks\":\"\"}}],\"histogram2d\":[{\"type\":\"histogram2d\",\"colorbar\":{\"outlinewidth\":0,\"ticks\":\"\"},\"colorscale\":[[0.0,\"#0d0887\"],[0.1111111111111111,\"#46039f\"],[0.2222222222222222,\"#7201a8\"],[0.3333333333333333,\"#9c179e\"],[0.4444444444444444,\"#bd3786\"],[0.5555555555555556,\"#d8576b\"],[0.6666666666666666,\"#ed7953\"],[0.7777777777777778,\"#fb9f3a\"],[0.8888888888888888,\"#fdca26\"],[1.0,\"#f0f921\"]]}],\"heatmap\":[{\"type\":\"heatmap\",\"colorbar\":{\"outlinewidth\":0,\"ticks\":\"\"},\"colorscale\":[[0.0,\"#0d0887\"],[0.1111111111111111,\"#46039f\"],[0.2222222222222222,\"#7201a8\"],[0.3333333333333333,\"#9c179e\"],[0.4444444444444444,\"#bd3786\"],[0.5555555555555556,\"#d8576b\"],[0.6666666666666666,\"#ed7953\"],[0.7777777777777778,\"#fb9f3a\"],[0.8888888888888888,\"#fdca26\"],[1.0,\"#f0f921\"]]}],\"heatmapgl\":[{\"type\":\"heatmapgl\",\"colorbar\":{\"outlinewidth\":0,\"ticks\":\"\"},\"colorscale\":[[0.0,\"#0d0887\"],[0.1111111111111111,\"#46039f\"],[0.2222222222222222,\"#7201a8\"],[0.3333333333333333,\"#9c179e\"],[0.4444444444444444,\"#bd3786\"],[0.5555555555555556,\"#d8576b\"],[0.6666666666666666,\"#ed7953\"],[0.7777777777777778,\"#fb9f3a\"],[0.8888888888888888,\"#fdca26\"],[1.0,\"#f0f921\"]]}],\"contourcarpet\":[{\"type\":\"contourcarpet\",\"colorbar\":{\"outlinewidth\":0,\"ticks\":\"\"}}],\"contour\":[{\"type\":\"contour\",\"colorbar\":{\"outlinewidth\":0,\"ticks\":\"\"},\"colorscale\":[[0.0,\"#0d0887\"],[0.1111111111111111,\"#46039f\"],[0.2222222222222222,\"#7201a8\"],[0.3333333333333333,\"#9c179e\"],[0.4444444444444444,\"#bd3786\"],[0.5555555555555556,\"#d8576b\"],[0.6666666666666666,\"#ed7953\"],[0.7777777777777778,\"#fb9f3a\"],[0.8888888888888888,\"#fdca26\"],[1.0,\"#f0f921\"]]}],\"surface\":[{\"type\":\"surface\",\"colorbar\":{\"outlinewidth\":0,\"ticks\":\"\"},\"colorscale\":[[0.0,\"#0d0887\"],[0.1111111111111111,\"#46039f\"],[0.2222222222222222,\"#7201a8\"],[0.3333333333333333,\"#9c179e\"],[0.4444444444444444,\"#bd3786\"],[0.5555555555555556,\"#d8576b\"],[0.6666666666666666,\"#ed7953\"],[0.7777777777777778,\"#fb9f3a\"],[0.8888888888888888,\"#fdca26\"],[1.0,\"#f0f921\"]]}],\"mesh3d\":[{\"type\":\"mesh3d\",\"colorbar\":{\"outlinewidth\":0,\"ticks\":\"\"}}],\"scatter\":[{\"fillpattern\":{\"fillmode\":\"overlay\",\"size\":10,\"solidity\":0.2},\"type\":\"scatter\"}],\"parcoords\":[{\"type\":\"parcoords\",\"line\":{\"colorbar\":{\"outlinewidth\":0,\"ticks\":\"\"}}}],\"scatterpolargl\":[{\"type\":\"scatterpolargl\",\"marker\":{\"colorbar\":{\"outlinewidth\":0,\"ticks\":\"\"}}}],\"bar\":[{\"error_x\":{\"color\":\"#2a3f5f\"},\"error_y\":{\"color\":\"#2a3f5f\"},\"marker\":{\"line\":{\"color\":\"#E5ECF6\",\"width\":0.5},\"pattern\":{\"fillmode\":\"overlay\",\"size\":10,\"solidity\":0.2}},\"type\":\"bar\"}],\"scattergeo\":[{\"type\":\"scattergeo\",\"marker\":{\"colorbar\":{\"outlinewidth\":0,\"ticks\":\"\"}}}],\"scatterpolar\":[{\"type\":\"scatterpolar\",\"marker\":{\"colorbar\":{\"outlinewidth\":0,\"ticks\":\"\"}}}],\"histogram\":[{\"marker\":{\"pattern\":{\"fillmode\":\"overlay\",\"size\":10,\"solidity\":0.2}},\"type\":\"histogram\"}],\"scattergl\":[{\"type\":\"scattergl\",\"marker\":{\"colorbar\":{\"outlinewidth\":0,\"ticks\":\"\"}}}],\"scatter3d\":[{\"type\":\"scatter3d\",\"line\":{\"colorbar\":{\"outlinewidth\":0,\"ticks\":\"\"}},\"marker\":{\"colorbar\":{\"outlinewidth\":0,\"ticks\":\"\"}}}],\"scattermapbox\":[{\"type\":\"scattermapbox\",\"marker\":{\"colorbar\":{\"outlinewidth\":0,\"ticks\":\"\"}}}],\"scatterternary\":[{\"type\":\"scatterternary\",\"marker\":{\"colorbar\":{\"outlinewidth\":0,\"ticks\":\"\"}}}],\"scattercarpet\":[{\"type\":\"scattercarpet\",\"marker\":{\"colorbar\":{\"outlinewidth\":0,\"ticks\":\"\"}}}],\"carpet\":[{\"aaxis\":{\"endlinecolor\":\"#2a3f5f\",\"gridcolor\":\"white\",\"linecolor\":\"white\",\"minorgridcolor\":\"white\",\"startlinecolor\":\"#2a3f5f\"},\"baxis\":{\"endlinecolor\":\"#2a3f5f\",\"gridcolor\":\"white\",\"linecolor\":\"white\",\"minorgridcolor\":\"white\",\"startlinecolor\":\"#2a3f5f\"},\"type\":\"carpet\"}],\"table\":[{\"cells\":{\"fill\":{\"color\":\"#EBF0F8\"},\"line\":{\"color\":\"white\"}},\"header\":{\"fill\":{\"color\":\"#C8D4E3\"},\"line\":{\"color\":\"white\"}},\"type\":\"table\"}],\"barpolar\":[{\"marker\":{\"line\":{\"color\":\"#E5ECF6\",\"width\":0.5},\"pattern\":{\"fillmode\":\"overlay\",\"size\":10,\"solidity\":0.2}},\"type\":\"barpolar\"}],\"pie\":[{\"automargin\":true,\"type\":\"pie\"}]},\"layout\":{\"autotypenumbers\":\"strict\",\"colorway\":[\"#636efa\",\"#EF553B\",\"#00cc96\",\"#ab63fa\",\"#FFA15A\",\"#19d3f3\",\"#FF6692\",\"#B6E880\",\"#FF97FF\",\"#FECB52\"],\"font\":{\"color\":\"#2a3f5f\"},\"hovermode\":\"closest\",\"hoverlabel\":{\"align\":\"left\"},\"paper_bgcolor\":\"white\",\"plot_bgcolor\":\"#E5ECF6\",\"polar\":{\"bgcolor\":\"#E5ECF6\",\"angularaxis\":{\"gridcolor\":\"white\",\"linecolor\":\"white\",\"ticks\":\"\"},\"radialaxis\":{\"gridcolor\":\"white\",\"linecolor\":\"white\",\"ticks\":\"\"}},\"ternary\":{\"bgcolor\":\"#E5ECF6\",\"aaxis\":{\"gridcolor\":\"white\",\"linecolor\":\"white\",\"ticks\":\"\"},\"baxis\":{\"gridcolor\":\"white\",\"linecolor\":\"white\",\"ticks\":\"\"},\"caxis\":{\"gridcolor\":\"white\",\"linecolor\":\"white\",\"ticks\":\"\"}},\"coloraxis\":{\"colorbar\":{\"outlinewidth\":0,\"ticks\":\"\"}},\"colorscale\":{\"sequential\":[[0.0,\"#0d0887\"],[0.1111111111111111,\"#46039f\"],[0.2222222222222222,\"#7201a8\"],[0.3333333333333333,\"#9c179e\"],[0.4444444444444444,\"#bd3786\"],[0.5555555555555556,\"#d8576b\"],[0.6666666666666666,\"#ed7953\"],[0.7777777777777778,\"#fb9f3a\"],[0.8888888888888888,\"#fdca26\"],[1.0,\"#f0f921\"]],\"sequentialminus\":[[0.0,\"#0d0887\"],[0.1111111111111111,\"#46039f\"],[0.2222222222222222,\"#7201a8\"],[0.3333333333333333,\"#9c179e\"],[0.4444444444444444,\"#bd3786\"],[0.5555555555555556,\"#d8576b\"],[0.6666666666666666,\"#ed7953\"],[0.7777777777777778,\"#fb9f3a\"],[0.8888888888888888,\"#fdca26\"],[1.0,\"#f0f921\"]],\"diverging\":[[0,\"#8e0152\"],[0.1,\"#c51b7d\"],[0.2,\"#de77ae\"],[0.3,\"#f1b6da\"],[0.4,\"#fde0ef\"],[0.5,\"#f7f7f7\"],[0.6,\"#e6f5d0\"],[0.7,\"#b8e186\"],[0.8,\"#7fbc41\"],[0.9,\"#4d9221\"],[1,\"#276419\"]]},\"xaxis\":{\"gridcolor\":\"white\",\"linecolor\":\"white\",\"ticks\":\"\",\"title\":{\"standoff\":15},\"zerolinecolor\":\"white\",\"automargin\":true,\"zerolinewidth\":2},\"yaxis\":{\"gridcolor\":\"white\",\"linecolor\":\"white\",\"ticks\":\"\",\"title\":{\"standoff\":15},\"zerolinecolor\":\"white\",\"automargin\":true,\"zerolinewidth\":2},\"scene\":{\"xaxis\":{\"backgroundcolor\":\"#E5ECF6\",\"gridcolor\":\"white\",\"linecolor\":\"white\",\"showbackground\":true,\"ticks\":\"\",\"zerolinecolor\":\"white\",\"gridwidth\":2},\"yaxis\":{\"backgroundcolor\":\"#E5ECF6\",\"gridcolor\":\"white\",\"linecolor\":\"white\",\"showbackground\":true,\"ticks\":\"\",\"zerolinecolor\":\"white\",\"gridwidth\":2},\"zaxis\":{\"backgroundcolor\":\"#E5ECF6\",\"gridcolor\":\"white\",\"linecolor\":\"white\",\"showbackground\":true,\"ticks\":\"\",\"zerolinecolor\":\"white\",\"gridwidth\":2}},\"shapedefaults\":{\"line\":{\"color\":\"#2a3f5f\"}},\"annotationdefaults\":{\"arrowcolor\":\"#2a3f5f\",\"arrowhead\":0,\"arrowwidth\":1},\"geo\":{\"bgcolor\":\"white\",\"landcolor\":\"#E5ECF6\",\"subunitcolor\":\"white\",\"showland\":true,\"showlakes\":true,\"lakecolor\":\"white\"},\"title\":{\"x\":0.05},\"mapbox\":{\"style\":\"light\"}}},\"xaxis\":{\"anchor\":\"y\",\"domain\":[0.0,1.0],\"title\":{\"text\":\"rank\"}},\"yaxis\":{\"anchor\":\"x\",\"domain\":[0.0,1.0],\"title\":{\"text\":\"f-score\"}},\"legend\":{\"title\":{\"text\":\"layer\"},\"tracegroupgap\":0},\"title\":{\"text\":\"Ranked f-test scores for \\\"conv pixel contains cheese\\\" over resadd layers\"}},                        {\"responsive\": true}                    ).then(function(){\n",
       "                            \n",
       "var gd = document.getElementById('66ad2887-ef9f-4598-a66a-b2fc2eeff7e9');\n",
       "var x = new MutationObserver(function (mutations, observer) {{\n",
       "        var display = window.getComputedStyle(gd).display;\n",
       "        if (!display || display === 'none') {{\n",
       "            console.log([gd, 'removed!']);\n",
       "            Plotly.purge(gd);\n",
       "            observer.disconnect();\n",
       "        }}\n",
       "}});\n",
       "\n",
       "// Listen for the removal of the full notebook cells\n",
       "var notebookContainer = gd.closest('#notebook-container');\n",
       "if (notebookContainer) {{\n",
       "    x.observe(notebookContainer, {childList: true});\n",
       "}}\n",
       "\n",
       "// Listen for the clearing of the current output cell\n",
       "var outputEl = gd.closest('.output');\n",
       "if (outputEl) {{\n",
       "    x.observe(outputEl, {childList: true});\n",
       "}}\n",
       "\n",
       "                        })                };                });            </script>        </div>"
      ]
     },
     "metadata": {},
     "output_type": "display_data"
    },
    {
     "name": "stdout",
     "output_type": "stream",
     "text": [
      "                           layer  rank  channel     f-score\n",
      "0    embedder.block1.res1.resadd     0       15  691.510059\n",
      "1    embedder.block1.res1.resadd     1       47  615.866175\n",
      "2    embedder.block1.res1.resadd     2       62  441.243050\n",
      "3    embedder.block1.res1.resadd     3       50  382.451741\n",
      "4    embedder.block1.res1.resadd     4        0  343.370893\n",
      "..                           ...   ...      ...         ...\n",
      "123  embedder.block3.res2.resadd   123       81    2.235630\n",
      "124  embedder.block3.res2.resadd   124       83    1.869431\n",
      "125  embedder.block3.res2.resadd   125       75    1.435044\n",
      "126  embedder.block3.res2.resadd   126      110    0.007988\n",
      "127  embedder.block3.res2.resadd   127       14    0.000122\n",
      "\n",
      "[640 rows x 4 columns]\n"
     ]
    }
   ],
   "source": [
    "import numpy as np\n",
    "import pandas as pd\n",
    "import xarray as xr\n",
    "import plotly.express as px\n",
    "from tqdm import tqdm\n",
    "\n",
    "num_batch = 100\n",
    "batch_coords = np.arange(len(obs_data_array))\n",
    "\n",
    "# Assuming obs_data_array is defined and contains observable data\n",
    "\n",
    "obs_all = xr.concat([xr.DataArray(obs) for obs in obs_data_array], dim='batch').assign_coords({'batch': batch_coords})\n",
    "print(\"obsv shape\", obs_all.shape[0])\n",
    "\n",
    "#obs_all = xr.concat([obsv for obsv in obs_data_array], dim='batch').assign_coords(dict(batch=batch_coords))\n",
    "\n",
    "def grid_coord_to_value_ind(full_grid_coord, value_size):\n",
    "    '''Pick the value index that covers the majority of the grid coord pixel'''\n",
    "    return np.floor((full_grid_coord + 0.5) * value_size / maze.WORLD_DIM).astype(int)\n",
    "\n",
    "def value_ind_to_grid_coord(value_ind, value_size):\n",
    "    '''Pick the grid coordinate index whose center is closest to the center of the value pixel'''\n",
    "    return np.floor((value_ind + 0.5) * maze.WORLD_DIM / value_size).astype(int)\n",
    "\n",
    "def get_obj_pos_data(value_label, object_pos):\n",
    "    '''Pick the object location and a random other location without the object for a balanced dataset.'''\n",
    "    rng = np.random.default_rng(15)\n",
    "    value = activations_dict[value_label].detach().numpy()  # Assuming activations_dict is defined\n",
    "    print(\"value shape\", value.shape)\n",
    "    value_size = value.shape[-1]\n",
    "    num_pixels = num_batch * 2\n",
    "    pixels = np.zeros((num_pixels, value.shape[2]))\n",
    "    is_obj = np.zeros(num_pixels, dtype=bool)\n",
    "    rows_in_value = np.zeros(num_pixels, dtype=int)\n",
    "    cols_in_value = np.zeros(num_pixels, dtype=int)\n",
    "    for bb in tqdm(range(obs_all.shape[0])):\n",
    "        obj_pos_value = (grid_coord_to_value_ind(maze.WORLD_DIM - 1 - object_pos.y[bb].item(), value_size),\n",
    "                         grid_coord_to_value_ind(object_pos.x[bb].item(), value_size))\n",
    "        pixels[bb, :] = value[bb, 0, :, obj_pos_value[0], obj_pos_value[1]]\n",
    "        is_obj[bb] = True\n",
    "        rows_in_value[bb] = obj_pos_value[0]\n",
    "        cols_in_value[bb] = obj_pos_value[1]\n",
    "        bb_rand = bb + num_batch\n",
    "        random_pos = obj_pos_value\n",
    "        while random_pos == obj_pos_value:\n",
    "            random_pos = (rng.integers(value_size), rng.integers(value_size))\n",
    "        pixels[bb_rand, :] = value[bb, 0,:, random_pos[0], random_pos[1]]\n",
    "        is_obj[bb_rand] = False\n",
    "        rows_in_value[bb_rand] = random_pos[0]\n",
    "        cols_in_value[bb_rand] = random_pos[1]\n",
    "    return pixels, is_obj, rows_in_value, cols_in_value\n",
    "\n",
    "value_labels_conv = ['embedder.block1.res1.resadd', 'embedder.block1.res2.resadd', 'embedder.block2.res1.resadd', 'embedder.block2.res2.resadd', 'embedder.block3.res1.resadd', 'embedder.block3.res2.resadd']\n",
    "\n",
    "f_test_list = []\n",
    "pixel_data = {}\n",
    "for value_label in value_labels_conv:\n",
    "    pixels, is_obj, rows_in_value, cols_in_value = get_obj_pos_data(value_label, cheese_pos)  # Assuming cheese_pos is defined\n",
    "    f_test, _ = prb.f_classif_fixed(pixels, is_obj)  # Assuming cpr.f_classif_fixed is defined\n",
    "    sort_inds = np.argsort(f_test)[::-1]\n",
    "    pixel_data[value_label] = (pixels, is_obj, rows_in_value, cols_in_value, f_test, sort_inds)\n",
    "    f_test_list.append(pd.DataFrame({\n",
    "        'layer': np.full(sort_inds.shape, value_label), \n",
    "        'rank': np.arange(len(sort_inds)),\n",
    "        'channel': sort_inds, \n",
    "        'f-score': f_test[sort_inds]\n",
    "    }))\n",
    "\n",
    "f_test_df = pd.concat(f_test_list, axis='index')\n",
    "\n",
    "####The following plot does not work\n",
    "\n",
    "from IPython.display import display\n",
    "\n",
    "fig = px.line(f_test_df, x='rank', y='f-score', color='layer', hover_data=['channel'],\n",
    "              title='Ranked f-test scores for \"conv pixel contains cheese\" over resadd layers')\n",
    "display(fig)\n",
    "\n",
    "print(f_test_df)"
   ]
  },
  {
   "cell_type": "code",
   "execution_count": 48,
   "metadata": {},
   "outputs": [
    {
     "name": "stderr",
     "output_type": "stream",
     "text": [
      "100%|██████████| 6/6 [00:02<00:00,  2.93it/s]\n"
     ]
    }
   ],
   "source": [
    "index_nums = np.arange(10)+1\n",
    "scores_list = []\n",
    "for value_label, (pixels, is_obj, rows_in_value, cols_in_value, f_test, sort_inds) in tqdm(pixel_data.items()):\n",
    "    for K in index_nums:\n",
    "        results = prb.linear_probe(pixels[:,sort_inds[:K]], is_obj, C=10, random_state=42)\n",
    "        scores_list.append({'layer': value_label, 'K': K, 'score': results['test_score']})\n",
    "scores_df = pd.DataFrame(scores_list)"
   ]
  },
  {
   "cell_type": "code",
   "execution_count": 59,
   "metadata": {},
   "outputs": [
    {
     "name": "stdout",
     "output_type": "stream",
     "text": [
      "                          layer   K  score\n",
      "0   embedder.block1.res1.resadd   1  0.875\n",
      "1   embedder.block1.res1.resadd   2  0.975\n",
      "2   embedder.block1.res1.resadd   3  0.950\n",
      "3   embedder.block1.res1.resadd   4  0.975\n",
      "4   embedder.block1.res1.resadd   5  1.000\n",
      "5   embedder.block1.res1.resadd   6  1.000\n",
      "6   embedder.block1.res1.resadd   7  0.975\n",
      "7   embedder.block1.res1.resadd   8  0.975\n",
      "8   embedder.block1.res1.resadd   9  0.975\n",
      "9   embedder.block1.res1.resadd  10  0.975\n",
      "10  embedder.block1.res2.resadd   1  0.925\n",
      "11  embedder.block1.res2.resadd   2  0.975\n",
      "12  embedder.block1.res2.resadd   3  1.000\n",
      "13  embedder.block1.res2.resadd   4  1.000\n",
      "14  embedder.block1.res2.resadd   5  1.000\n",
      "15  embedder.block1.res2.resadd   6  1.000\n",
      "16  embedder.block1.res2.resadd   7  1.000\n",
      "17  embedder.block1.res2.resadd   8  1.000\n",
      "18  embedder.block1.res2.resadd   9  1.000\n",
      "19  embedder.block1.res2.resadd  10  1.000\n",
      "20  embedder.block2.res1.resadd   1  0.975\n",
      "21  embedder.block2.res1.resadd   2  0.975\n",
      "22  embedder.block2.res1.resadd   3  0.975\n",
      "23  embedder.block2.res1.resadd   4  0.975\n",
      "24  embedder.block2.res1.resadd   5  0.975\n",
      "25  embedder.block2.res1.resadd   6  0.975\n",
      "26  embedder.block2.res1.resadd   7  0.975\n",
      "27  embedder.block2.res1.resadd   8  0.975\n",
      "28  embedder.block2.res1.resadd   9  0.975\n",
      "29  embedder.block2.res1.resadd  10  0.975\n",
      "30  embedder.block2.res2.resadd   1  0.975\n",
      "31  embedder.block2.res2.resadd   2  0.975\n",
      "32  embedder.block2.res2.resadd   3  0.975\n",
      "33  embedder.block2.res2.resadd   4  0.975\n",
      "34  embedder.block2.res2.resadd   5  0.975\n",
      "35  embedder.block2.res2.resadd   6  0.975\n",
      "36  embedder.block2.res2.resadd   7  0.975\n",
      "37  embedder.block2.res2.resadd   8  0.975\n",
      "38  embedder.block2.res2.resadd   9  0.975\n",
      "39  embedder.block2.res2.resadd  10  0.975\n",
      "40  embedder.block3.res1.resadd   1  0.800\n",
      "41  embedder.block3.res1.resadd   2  0.775\n",
      "42  embedder.block3.res1.resadd   3  0.800\n",
      "43  embedder.block3.res1.resadd   4  0.775\n",
      "44  embedder.block3.res1.resadd   5  0.825\n",
      "45  embedder.block3.res1.resadd   6  0.825\n",
      "46  embedder.block3.res1.resadd   7  0.800\n",
      "47  embedder.block3.res1.resadd   8  0.825\n",
      "48  embedder.block3.res1.resadd   9  0.825\n",
      "49  embedder.block3.res1.resadd  10  0.825\n",
      "50  embedder.block3.res2.resadd   1  0.800\n",
      "51  embedder.block3.res2.resadd   2  0.800\n",
      "52  embedder.block3.res2.resadd   3  0.750\n",
      "53  embedder.block3.res2.resadd   4  0.775\n",
      "54  embedder.block3.res2.resadd   5  0.775\n",
      "55  embedder.block3.res2.resadd   6  0.800\n",
      "56  embedder.block3.res2.resadd   7  0.800\n",
      "57  embedder.block3.res2.resadd   8  0.800\n",
      "58  embedder.block3.res2.resadd   9  0.800\n",
      "59  embedder.block3.res2.resadd  10  0.775\n"
     ]
    }
   ],
   "source": [
    "print(scores_df)"
   ]
  },
  {
   "cell_type": "markdown",
   "metadata": {},
   "source": [
    "Let us try to increase the time step for each episode and stack the convolutional layer activations over time steps:\n",
    " # The number of timesteps is now 5 and we treat each timestep as a separate data point and stack them all up\n"
   ]
  },
  {
   "cell_type": "code",
   "execution_count": 66,
   "metadata": {},
   "outputs": [
    {
     "name": "stderr",
     "output_type": "stream",
     "text": [
      "100%|██████████| 100/100 [01:36<00:00,  1.04it/s]\n"
     ]
    }
   ],
   "source": [
    "\n",
    "hook_manager = cmh.HookManager(\n",
    "    model=policy,\n",
    "    cache=[\n",
    "    'embedder.block1.res1.conv1',\n",
    "    'embedder.block1.res1.conv2',\n",
    "    'embedder.block2.res1.conv1',\n",
    "    'embedder.block2.res1.conv2'],\n",
    "\n",
    ")\n",
    "\n",
    "# determinism\n",
    "max_seed = 1000000\n",
    "num_episodes =100\n",
    "argmax = True\n",
    "rng = np.random.default_rng()\n",
    "seeds = rng.choice(max_seed, size=num_episodes, replace=False)\n",
    "num_timesteps = 5  # For example, capture 10 timesteps\n",
    "\n",
    "conv_layer_activations_1 = []\n",
    "conv_layer_activations_2 = []\n",
    "conv_layer_activations_3 = []\n",
    "conv_layer_activations_4 = []\n",
    "cheese_position_total = []\n",
    "\n",
    "for seed in tqdm(seeds):\n",
    "    seed = int(seed)\n",
    "    venv = create_venv(start_level=seed)\n",
    "    assert venv.num_envs == 1, 'Only one env supported (for now)'\n",
    "\n",
    "    obs = venv.reset()\n",
    "    info = venv.env.get_info()\n",
    "\n",
    "    episode_activations_1 = []\n",
    "    episode_activations_2 = []\n",
    "    episode_activations_3 = []\n",
    "    episode_activations_4 = []\n",
    "    episode_cheese_positions = []\n",
    "\n",
    "    policy.eval()\n",
    "    for step in range(num_timesteps):\n",
    "        with hook_manager:\n",
    "            p, v = policy(torch.FloatTensor(obs))\n",
    "        action = p.probs.argmax(dim=-1).numpy() if argmax else p.sample().numpy()\n",
    "        obs, rew, done, info = venv.step(action)\n",
    "\n",
    "        states_bytes = venv.env.callmethod('get_state')[0]\n",
    "        states_vals = maze._parse_maze_state_bytes(states_bytes)\n",
    "        grid = maze.get_grid(states_vals)\n",
    "        cheese_position = maze.get_cheese_pos(grid)[0]\n",
    "\n",
    "        episode_activations_1.append(hook_manager.cache_results['embedder.block1.res1.conv1'])\n",
    "        episode_activations_2.append(hook_manager.cache_results['embedder.block1.res1.conv2'])\n",
    "        episode_activations_3.append(hook_manager.cache_results['embedder.block2.res1.conv1'])\n",
    "        episode_activations_4.append(hook_manager.cache_results['embedder.block2.res1.conv2'])\n",
    "\n",
    "        episode_cheese_positions.append(cheese_position)\n",
    "\n",
    "        if done:\n",
    "            break\n",
    "\n",
    "    # Here you might average the activations across timesteps or just stack them\n",
    "    # For simplicity, we'll stack them, treating each timestep as a separate data point\n",
    "    conv_layer_activations_1.extend(episode_activations_1)\n",
    "    conv_layer_activations_2.extend(episode_activations_2)\n",
    "    conv_layer_activations_3.extend(episode_activations_3)\n",
    "    conv_layer_activations_4.extend(episode_activations_4)\n",
    "    cheese_position_total.extend(episode_cheese_positions)\n",
    "\n",
    "# Convert lists to tensors\n",
    "conv_layer_activations_1 = torch.stack(conv_layer_activations_1)\n",
    "conv_layer_activations_2 = torch.stack(conv_layer_activations_2)\n",
    "conv_layer_activations_3 = torch.stack(conv_layer_activations_3)\n",
    "conv_layer_activations_4 = torch.stack(conv_layer_activations_4)\n",
    "cheese_positions = torch.tensor(cheese_position_total, dtype=torch.long)\n",
    "\n",
    "# Continue with data preparation and linear probe training as before...\n"
   ]
  },
  {
   "cell_type": "code",
   "execution_count": 67,
   "metadata": {},
   "outputs": [
    {
     "name": "stderr",
     "output_type": "stream",
     "text": [
      "/opt/conda/lib/python3.10/site-packages/sklearn/linear_model/_logistic.py:469: ConvergenceWarning:\n",
      "\n",
      "lbfgs failed to converge (status=1):\n",
      "STOP: TOTAL NO. of ITERATIONS REACHED LIMIT.\n",
      "\n",
      "Increase the number of iterations (max_iter) or scale the data as shown in:\n",
      "    https://scikit-learn.org/stable/modules/preprocessing.html\n",
      "Please also refer to the documentation for alternative solver options:\n",
      "    https://scikit-learn.org/stable/modules/linear_model.html#logistic-regression\n",
      "\n"
     ]
    },
    {
     "data": {
      "text/plain": [
       "{'train_score': 0.9972527472527473,\n",
       " 'test_score': 0.9560439560439561,\n",
       " 'x': array([[-0.09087675, -0.10548554, -0.06309071, ..., -0.08131083,\n",
       "         -0.11250778, -0.10381664],\n",
       "        [-0.09087675, -0.10548554, -0.06309071, ..., -0.08131083,\n",
       "         -0.11250778, -0.10381664],\n",
       "        [-0.09087675, -0.10548554, -0.06309071, ..., -0.08131083,\n",
       "         -0.11250778, -0.10381664],\n",
       "        ...,\n",
       "        [-0.09636283, -0.10780267, -0.06713416, ..., -0.08204793,\n",
       "         -0.12421111, -0.111235  ],\n",
       "        [-0.09636283, -0.10780267, -0.06713416, ..., -0.08204793,\n",
       "         -0.12421111, -0.111235  ],\n",
       "        [-0.09636283, -0.10780267, -0.06713416, ..., -0.08204793,\n",
       "         -0.12421111, -0.111235  ]], dtype=float32),\n",
       " 'x_train': array([[-0.09087675, -0.10548554, -0.06309071, ..., -0.08131083,\n",
       "         -0.11250778, -0.10381664],\n",
       "        [-0.09087675, -0.10548554, -0.06309071, ..., -0.08131083,\n",
       "         -0.11250778, -0.10381664],\n",
       "        [-0.09087675, -0.10548554, -0.06309071, ..., -0.08131083,\n",
       "         -0.11250778, -0.10381664],\n",
       "        ...,\n",
       "        [-0.09087675, -0.10548554, -0.06309071, ..., -0.08131083,\n",
       "         -0.11250778, -0.10381664],\n",
       "        [-0.09087675, -0.10548554, -0.06309071, ..., -0.08131083,\n",
       "         -0.11250778, -0.10381664],\n",
       "        [-0.09087675, -0.10548554, -0.06309071, ..., -0.08131083,\n",
       "         -0.11250778, -0.10381664]], dtype=float32),\n",
       " 'y_train': array([ 7, 12, 13, 11, 11,  8, 13, 11, 13, 16, 11, 16, 11, 11,  6, 11, 14,\n",
       "        20, 11, 14,  3,  4, 14, 12, 12, 15,  8, 14, 13, 14, 14, 14, 16, 16,\n",
       "        14, 13, 11,  4, 17,  4,  5,  3, 12, 15, 12, 16,  7, 12, 15,  3,  7,\n",
       "        14, 16, 10, 15, 12,  8, 14, 13, 17, 16, 11, 10, 13, 15,  7, 15, 13,\n",
       "        13,  4, 15, 12, 15, 14, 13, 11, 14,  1, 16, 19,  3, 14, 16, 15, 16,\n",
       "         4, 14, 12,  9, 10,  4, 16, 16, 15, 15, 10, 11, 14, 12, 13, 14, 17,\n",
       "        15, 17,  7, 15,  7, 13, 16,  6, 10, 13, 13, 16,  7, 11, 15, 14, 12,\n",
       "        12,  4,  3, 13,  9,  4,  6, 13,  1,  6, 10, 17,  8, 18,  7, 15, 18,\n",
       "        15, 14, 14, 11, 14, 11,  3, 15,  9, 16,  6, 15, 19, 17, 12, 18, 12,\n",
       "         3,  2,  6, 15,  5,  8, 12, 15, 14, 13, 21, 14, 14, 13, 17, 16, 13,\n",
       "         9,  7, 15, 13, 12, 13, 11, 12, 10, 13, 14, 16, 13, 16, 13, 12, 20,\n",
       "        11,  2, 12, 15,  2, 12, 16, 11,  8, 20, 13,  3, 16, 10, 14, 16, 21,\n",
       "        10,  7, 12, 21, 12, 15,  3, 12, 13, 12, 10,  9,  3, 15,  4,  6, 14,\n",
       "        13, 20, 14, 16, 16, 16, 12, 21, 14, 14, 16,  9,  7,  7,  8, 16,  1,\n",
       "         4, 10,  1, 19, 16, 14,  4, 12, 12, 13, 19, 17,  7, 12, 12, 12, 16,\n",
       "        21, 16, 12,  4, 14, 18, 16, 11, 15,  8, 11, 16,  4, 13, 12, 10, 11,\n",
       "        13, 11, 12, 12,  2, 14, 14, 13, 18, 12, 12, 15, 12, 14, 10,  7,  7,\n",
       "        16,  7, 16, 11, 11, 11, 16, 21, 14, 16, 13,  9, 11, 14, 15, 11, 15,\n",
       "        14, 14, 16, 10, 17, 18, 14, 14, 12,  6, 14, 12,  4,  4,  8, 13,  1,\n",
       "        16, 16, 12, 13, 10, 15,  7,  8, 13, 14, 13, 14, 15, 21,  7, 15, 13,\n",
       "        11, 12, 11,  4,  4, 14,  7, 19,  9, 16, 16,  8, 15, 12, 12,  5, 15,\n",
       "        14, 15,  6, 11, 13, 11, 10]),\n",
       " 'x_test': array([[-0.09087675, -0.10548554, -0.06309071, ..., -0.08131083,\n",
       "         -0.11250778, -0.10381664],\n",
       "        [-0.09087675, -0.10548554, -0.06309071, ..., -0.08131083,\n",
       "         -0.11250778, -0.10381664],\n",
       "        [-0.08380415, -0.10931712, -0.06035741, ..., -0.08785087,\n",
       "         -0.11524617, -0.09919749],\n",
       "        ...,\n",
       "        [-0.09087675, -0.10548554, -0.06309071, ..., -0.08131083,\n",
       "         -0.11250778, -0.10381664],\n",
       "        [-0.09087675, -0.10548554, -0.06309071, ..., -0.08131083,\n",
       "         -0.11250778, -0.10381664],\n",
       "        [-0.09087675, -0.10548554, -0.06309071, ..., -0.08131083,\n",
       "         -0.11250778, -0.10381664]], dtype=float32),\n",
       " 'y_test': array([16, 21, 12, 13, 16, 14, 11, 16, 15, 11, 14, 15, 16,  6,  7, 16, 17,\n",
       "        21, 11, 12, 18, 10, 16, 18, 15, 13, 16, 13, 14, 12, 16, 10, 18,  9,\n",
       "        14, 18, 14, 12, 12,  8,  9, 14,  7,  8, 12,  9, 11,  9,  5, 16, 13,\n",
       "        15, 12,  7,  2,  4, 14, 11,  8, 12, 14, 13,  4, 16, 11, 21, 16, 15,\n",
       "        12, 16, 11, 12, 11, 16,  8,  7, 14, 12, 15, 16, 16, 20, 11,  7, 11,\n",
       "        11,  7,  4, 14, 12,  5]),\n",
       " 'model': LogisticRegression(),\n",
       " 'conf_matrix': array([[ 1,  0,  0,  0,  0,  0,  0,  0,  0,  0,  0,  0,  0,  0,  0,  0,\n",
       "          0,  0],\n",
       "        [ 0,  3,  0,  0,  0,  0,  0,  0,  0,  0,  0,  0,  0,  0,  0,  0,\n",
       "          0,  0],\n",
       "        [ 0,  0,  2,  0,  0,  0,  0,  0,  0,  0,  0,  0,  0,  0,  0,  0,\n",
       "          0,  0],\n",
       "        [ 0,  0,  0,  1,  0,  0,  0,  0,  0,  0,  0,  0,  0,  0,  0,  0,\n",
       "          0,  0],\n",
       "        [ 0,  0,  0,  0,  6,  0,  0,  0,  0,  0,  0,  0,  0,  0,  0,  0,\n",
       "          0,  0],\n",
       "        [ 0,  0,  0,  0,  0,  4,  0,  0,  0,  0,  0,  0,  0,  0,  0,  0,\n",
       "          0,  0],\n",
       "        [ 0,  0,  0,  0,  0,  0,  2,  0,  0,  0,  0,  0,  2,  0,  0,  0,\n",
       "          0,  0],\n",
       "        [ 0,  0,  0,  0,  0,  0,  0,  2,  0,  0,  0,  0,  0,  0,  0,  0,\n",
       "          0,  0],\n",
       "        [ 0,  0,  0,  0,  0,  0,  0,  0,  9,  0,  2,  0,  0,  0,  0,  0,\n",
       "          0,  0],\n",
       "        [ 0,  0,  0,  0,  0,  0,  0,  0,  0, 12,  0,  0,  0,  0,  0,  0,\n",
       "          0,  0],\n",
       "        [ 0,  0,  0,  0,  0,  0,  0,  0,  0,  0,  5,  0,  0,  0,  0,  0,\n",
       "          0,  0],\n",
       "        [ 0,  0,  0,  0,  0,  0,  0,  0,  0,  0,  0, 10,  0,  0,  0,  0,\n",
       "          0,  0],\n",
       "        [ 0,  0,  0,  0,  0,  0,  0,  0,  0,  0,  0,  0,  6,  0,  0,  0,\n",
       "          0,  0],\n",
       "        [ 0,  0,  0,  0,  0,  0,  0,  0,  0,  0,  0,  0,  0, 15,  0,  0,\n",
       "          0,  0],\n",
       "        [ 0,  0,  0,  0,  0,  0,  0,  0,  0,  0,  0,  0,  0,  0,  1,  0,\n",
       "          0,  0],\n",
       "        [ 0,  0,  0,  0,  0,  0,  0,  0,  0,  0,  0,  0,  0,  0,  0,  4,\n",
       "          0,  0],\n",
       "        [ 0,  0,  0,  0,  0,  0,  0,  0,  0,  0,  0,  0,  0,  0,  0,  0,\n",
       "          1,  0],\n",
       "        [ 0,  0,  0,  0,  0,  0,  0,  0,  0,  0,  0,  0,  0,  0,  0,  0,\n",
       "          0,  3]]),\n",
       " 'report': '              precision    recall  f1-score   support\\n\\n           2       1.00      1.00      1.00         1\\n           4       1.00      1.00      1.00         3\\n           5       1.00      1.00      1.00         2\\n           6       1.00      1.00      1.00         1\\n           7       1.00      1.00      1.00         6\\n           8       1.00      1.00      1.00         4\\n           9       1.00      0.50      0.67         4\\n          10       1.00      1.00      1.00         2\\n          11       1.00      0.82      0.90        11\\n          12       1.00      1.00      1.00        12\\n          13       0.71      1.00      0.83         5\\n          14       1.00      1.00      1.00        10\\n          15       0.75      1.00      0.86         6\\n          16       1.00      1.00      1.00        15\\n          17       1.00      1.00      1.00         1\\n          18       1.00      1.00      1.00         4\\n          20       1.00      1.00      1.00         1\\n          21       1.00      1.00      1.00         3\\n\\n    accuracy                           0.96        91\\n   macro avg       0.97      0.96      0.96        91\\nweighted avg       0.97      0.96      0.95        91\\n'}"
      ]
     },
     "execution_count": 67,
     "metadata": {},
     "output_type": "execute_result"
    }
   ],
   "source": [
    "prb.linear_probe(conv_layer_activations_1.detach().numpy(),cheese_positions.detach().numpy())"
   ]
  },
  {
   "cell_type": "code",
   "execution_count": 68,
   "metadata": {},
   "outputs": [
    {
     "name": "stderr",
     "output_type": "stream",
     "text": [
      "/opt/conda/lib/python3.10/site-packages/sklearn/linear_model/_logistic.py:469: ConvergenceWarning:\n",
      "\n",
      "lbfgs failed to converge (status=1):\n",
      "STOP: TOTAL NO. of ITERATIONS REACHED LIMIT.\n",
      "\n",
      "Increase the number of iterations (max_iter) or scale the data as shown in:\n",
      "    https://scikit-learn.org/stable/modules/preprocessing.html\n",
      "Please also refer to the documentation for alternative solver options:\n",
      "    https://scikit-learn.org/stable/modules/linear_model.html#logistic-regression\n",
      "\n"
     ]
    },
    {
     "data": {
      "text/plain": [
       "{'train_score': 0.9972527472527473,\n",
       " 'test_score': 0.989010989010989,\n",
       " 'x': array([[ 0.01748771, -0.00153155,  0.0208402 , ...,  0.02474743,\n",
       "          0.01273527, -0.00579354],\n",
       "        [ 0.01748771, -0.00153155,  0.0208402 , ...,  0.02474743,\n",
       "          0.01273527, -0.00579354],\n",
       "        [ 0.01748771, -0.00153155,  0.0208402 , ...,  0.02474743,\n",
       "          0.01273527, -0.00579354],\n",
       "        ...,\n",
       "        [ 0.01701913,  0.00404522,  0.02008273, ...,  0.01798693,\n",
       "          0.01179019,  0.00634721],\n",
       "        [ 0.01701913,  0.00404522,  0.02008273, ...,  0.01798693,\n",
       "          0.01179019,  0.00634721],\n",
       "        [ 0.01701913,  0.00404522,  0.02008273, ...,  0.01798693,\n",
       "          0.01179019,  0.00634721]], dtype=float32),\n",
       " 'x_train': array([[ 0.01748771, -0.00153155,  0.0208402 , ...,  0.02474743,\n",
       "          0.01273527, -0.00579354],\n",
       "        [ 0.01748771, -0.00153155,  0.0208402 , ...,  0.02474743,\n",
       "          0.01273527, -0.00579354],\n",
       "        [ 0.01748771, -0.00153155,  0.0208402 , ...,  0.02474743,\n",
       "          0.01273527, -0.00579354],\n",
       "        ...,\n",
       "        [ 0.01701913,  0.00404522,  0.02008273, ...,  0.01798693,\n",
       "          0.01179019,  0.00634721],\n",
       "        [ 0.01748771, -0.00153155,  0.0208402 , ...,  0.02474743,\n",
       "          0.01273527, -0.00579354],\n",
       "        [ 0.01748771, -0.00153155,  0.0208402 , ...,  0.02474743,\n",
       "          0.01273527, -0.00579354]], dtype=float32),\n",
       " 'y_train': array([16, 12, 16, 14, 15, 16, 13, 11, 14, 16, 15, 16,  5, 12, 16, 15,  6,\n",
       "        12, 18, 11, 12, 16, 15, 10, 14, 11, 11,  7, 21,  6, 20, 16, 13,  3,\n",
       "         9,  5,  4,  4,  2, 14, 15, 12,  7, 18,  2, 13, 14, 11, 13, 12,  2,\n",
       "        15, 13, 12, 10, 11, 15, 14, 14,  8, 18, 14, 16, 12, 13, 13, 14, 15,\n",
       "        12, 14, 17,  9, 12, 16, 14,  7,  7, 11, 12, 11, 15, 14, 12,  4, 16,\n",
       "        14,  4, 16, 12, 11,  4, 12, 16, 18,  9,  4, 13, 11, 10,  7, 17, 11,\n",
       "        12, 16, 13, 16, 16,  3, 12, 18, 16, 13, 16,  3, 10,  7, 12, 13, 11,\n",
       "        14, 12, 14,  3,  1, 21, 15, 12,  9, 15, 14, 13,  3, 15, 14, 15, 15,\n",
       "        13, 14, 11, 10, 16,  7, 18, 16, 16, 14,  1, 14,  7,  4, 14, 20, 11,\n",
       "        14, 15, 10, 17, 12, 13, 11, 20, 13, 18, 15, 14, 13,  7, 16,  7,  3,\n",
       "        13, 13, 17, 16,  8, 15, 10, 11, 14, 12, 14, 13, 12, 14, 11, 12, 10,\n",
       "        16, 13, 15, 10,  9,  7,  4, 12,  9, 16,  2,  9, 15,  4, 15, 11,  4,\n",
       "        16, 12, 13, 15, 11,  4, 15, 16, 12,  7, 11, 10, 14, 21, 17, 16, 12,\n",
       "        12, 12, 12, 11, 11,  7,  8, 13,  7, 11, 17, 21, 12, 13,  6,  4,  7,\n",
       "        12, 17,  8, 18, 10, 11, 10,  6, 16, 14, 20, 15, 16, 11, 21, 16, 11,\n",
       "        16,  7, 11, 14,  7,  5, 13, 16,  7, 13, 11,  7, 12, 11, 14,  4, 14,\n",
       "        12, 13,  3,  2, 13, 12, 17, 15, 19, 16, 14, 13, 14,  6, 15, 15, 13,\n",
       "        12, 11,  7, 11,  4, 12,  1,  8, 11, 16, 14, 16, 14, 21,  8, 16, 12,\n",
       "        14, 14, 15, 16, 15,  8,  6, 14, 12, 13, 11, 16, 15, 13, 11, 13, 11,\n",
       "        14, 21,  8, 16, 12,  4, 12, 11,  8, 15, 14, 16, 16, 14,  7, 14,  4,\n",
       "        15, 10, 13, 20, 10, 16, 16, 12,  1, 15, 19,  9, 14, 14,  4, 12,  8,\n",
       "         9, 17,  4, 18, 19, 16, 12]),\n",
       " 'x_test': array([[ 0.01701913,  0.00404522,  0.02008273, ...,  0.01798693,\n",
       "          0.01179019,  0.00634721],\n",
       "        [ 0.01748771, -0.00153155,  0.0208402 , ...,  0.02474743,\n",
       "          0.01273527, -0.00579354],\n",
       "        [ 0.01748771, -0.00153155,  0.0208402 , ...,  0.02474743,\n",
       "          0.01273527, -0.00579354],\n",
       "        ...,\n",
       "        [ 0.01748771, -0.00153155,  0.0208402 , ...,  0.02474743,\n",
       "          0.01273527, -0.00579354],\n",
       "        [ 0.01748771, -0.00153155,  0.0208402 , ...,  0.02474743,\n",
       "          0.01273527, -0.00579354],\n",
       "        [ 0.01899417, -0.00031221,  0.02066061, ...,  0.03197856,\n",
       "          0.02203302, -0.0085914 ]], dtype=float32),\n",
       " 'y_test': array([19,  7, 16,  5, 16, 15,  8, 10,  9, 14, 21, 12, 11, 14, 13, 14, 12,\n",
       "        13, 21, 15, 13, 15, 13, 12,  8, 15, 15,  3, 16, 15, 13, 14, 12, 15,\n",
       "         6, 12,  7,  6, 16, 14, 16, 16, 12, 14, 13, 14, 14, 15, 19, 21, 16,\n",
       "        12,  5, 11, 13,  9, 12, 10, 13,  1, 13, 14,  4,  6,  9, 11, 17, 13,\n",
       "        16, 16, 11,  3, 11,  7,  8, 10, 16,  8,  7,  8, 10, 12, 11,  4,  3,\n",
       "         6, 12, 12, 14, 14, 18]),\n",
       " 'model': LogisticRegression(),\n",
       " 'conf_matrix': array([[ 1,  0,  0,  0,  0,  0,  0,  0,  0,  0,  0,  0,  0,  0,  0,  0,\n",
       "          0,  0,  0],\n",
       "        [ 0,  3,  0,  0,  0,  0,  0,  0,  0,  0,  0,  0,  0,  0,  0,  0,\n",
       "          0,  0,  0],\n",
       "        [ 0,  0,  2,  0,  0,  0,  0,  0,  0,  0,  0,  0,  0,  0,  0,  0,\n",
       "          0,  0,  0],\n",
       "        [ 0,  0,  0,  2,  0,  0,  0,  0,  0,  0,  0,  0,  0,  0,  0,  0,\n",
       "          0,  0,  0],\n",
       "        [ 0,  0,  0,  0,  4,  0,  0,  0,  0,  0,  0,  0,  0,  0,  0,  0,\n",
       "          0,  0,  0],\n",
       "        [ 0,  0,  0,  0,  0,  4,  0,  0,  0,  0,  0,  0,  0,  0,  0,  0,\n",
       "          0,  0,  0],\n",
       "        [ 0,  0,  0,  0,  0,  0,  5,  0,  0,  0,  0,  0,  0,  0,  0,  0,\n",
       "          0,  0,  0],\n",
       "        [ 0,  0,  0,  0,  0,  0,  0,  3,  0,  0,  0,  0,  0,  0,  0,  0,\n",
       "          0,  0,  0],\n",
       "        [ 0,  0,  0,  0,  0,  0,  0,  0,  4,  0,  0,  0,  0,  0,  0,  0,\n",
       "          0,  0,  0],\n",
       "        [ 0,  0,  0,  0,  0,  0,  0,  0,  0,  5,  0,  1,  0,  0,  0,  0,\n",
       "          0,  0,  0],\n",
       "        [ 0,  0,  0,  0,  0,  0,  0,  0,  0,  0, 11,  0,  0,  0,  0,  0,\n",
       "          0,  0,  0],\n",
       "        [ 0,  0,  0,  0,  0,  0,  0,  0,  0,  0,  0, 10,  0,  0,  0,  0,\n",
       "          0,  0,  0],\n",
       "        [ 0,  0,  0,  0,  0,  0,  0,  0,  0,  0,  0,  0, 11,  0,  0,  0,\n",
       "          0,  0,  0],\n",
       "        [ 0,  0,  0,  0,  0,  0,  0,  0,  0,  0,  0,  0,  0,  8,  0,  0,\n",
       "          0,  0,  0],\n",
       "        [ 0,  0,  0,  0,  0,  0,  0,  0,  0,  0,  0,  0,  0,  0, 10,  0,\n",
       "          0,  0,  0],\n",
       "        [ 0,  0,  0,  0,  0,  0,  0,  0,  0,  0,  0,  0,  0,  0,  0,  1,\n",
       "          0,  0,  0],\n",
       "        [ 0,  0,  0,  0,  0,  0,  0,  0,  0,  0,  0,  0,  0,  0,  0,  0,\n",
       "          1,  0,  0],\n",
       "        [ 0,  0,  0,  0,  0,  0,  0,  0,  0,  0,  0,  0,  0,  0,  0,  0,\n",
       "          0,  2,  0],\n",
       "        [ 0,  0,  0,  0,  0,  0,  0,  0,  0,  0,  0,  0,  0,  0,  0,  0,\n",
       "          0,  0,  3]]),\n",
       " 'report': '              precision    recall  f1-score   support\\n\\n           1       1.00      1.00      1.00         1\\n           3       1.00      1.00      1.00         3\\n           4       1.00      1.00      1.00         2\\n           5       1.00      1.00      1.00         2\\n           6       1.00      1.00      1.00         4\\n           7       1.00      1.00      1.00         4\\n           8       1.00      1.00      1.00         5\\n           9       1.00      1.00      1.00         3\\n          10       1.00      1.00      1.00         4\\n          11       1.00      0.83      0.91         6\\n          12       1.00      1.00      1.00        11\\n          13       0.91      1.00      0.95        10\\n          14       1.00      1.00      1.00        11\\n          15       1.00      1.00      1.00         8\\n          16       1.00      1.00      1.00        10\\n          17       1.00      1.00      1.00         1\\n          18       1.00      1.00      1.00         1\\n          19       1.00      1.00      1.00         2\\n          21       1.00      1.00      1.00         3\\n\\n    accuracy                           0.99        91\\n   macro avg       1.00      0.99      0.99        91\\nweighted avg       0.99      0.99      0.99        91\\n'}"
      ]
     },
     "execution_count": 68,
     "metadata": {},
     "output_type": "execute_result"
    }
   ],
   "source": [
    "prb.linear_probe(conv_layer_activations_2.detach().numpy(),cheese_positions.detach().numpy())"
   ]
  },
  {
   "cell_type": "code",
   "execution_count": 69,
   "metadata": {},
   "outputs": [
    {
     "data": {
      "text/plain": [
       "{'train_score': 1.0,\n",
       " 'test_score': 1.0,\n",
       " 'x': array([[-0.08130889, -0.0970579 , -0.06755713, ..., -0.0357924 ,\n",
       "         -0.04728948, -0.04001565],\n",
       "        [-0.08018743, -0.0936178 , -0.07177693, ..., -0.05338905,\n",
       "         -0.04997716, -0.04720556],\n",
       "        [-0.08018743, -0.0936178 , -0.07177693, ..., -0.05338905,\n",
       "         -0.04997716, -0.04720556],\n",
       "        ...,\n",
       "        [-0.06766698, -0.09295157, -0.05938021, ..., -0.08700547,\n",
       "         -0.14684016, -0.09522162],\n",
       "        [-0.06766698, -0.09295157, -0.05938021, ..., -0.08700547,\n",
       "         -0.14684016, -0.09522162],\n",
       "        [-0.06766698, -0.09295157, -0.05938021, ..., -0.08700547,\n",
       "         -0.14684016, -0.09522162]], dtype=float32),\n",
       " 'x_train': array([[-0.08015346, -0.08397797, -0.08332638, ..., -0.02836125,\n",
       "         -0.0290549 , -0.0459316 ],\n",
       "        [-0.08129674, -0.09717917, -0.0671269 , ..., -0.04226167,\n",
       "         -0.05550238, -0.04030601],\n",
       "        [-0.08130889, -0.0970579 , -0.06755713, ..., -0.0357924 ,\n",
       "         -0.04728948, -0.04001565],\n",
       "        ...,\n",
       "        [-0.08130889, -0.0970579 , -0.06755713, ..., -0.0357924 ,\n",
       "         -0.04728948, -0.04001565],\n",
       "        [-0.08130889, -0.0970579 , -0.06755713, ..., -0.0357924 ,\n",
       "         -0.04728948, -0.04001565],\n",
       "        [-0.08130896, -0.097055  , -0.06755496, ..., -0.03693556,\n",
       "         -0.04879533, -0.03997136]], dtype=float32),\n",
       " 'y_train': array([21,  7, 16, 14, 15,  6, 16, 14, 15, 16, 16, 11, 11,  7, 11, 11, 16,\n",
       "        18,  5, 16, 14, 11,  7, 12, 15, 15, 13, 15, 19, 11,  7, 15, 14, 12,\n",
       "        13, 16, 18, 16, 18, 15, 12,  8,  4,  6, 21,  3,  1, 11, 14,  4, 15,\n",
       "        14, 17, 11, 12, 12,  8, 12,  9,  4,  7,  7,  8, 13, 12, 11, 14,  4,\n",
       "        12, 13, 13, 16, 14, 16, 14,  2, 14, 14,  9, 11, 16, 15, 13, 16,  9,\n",
       "        14, 12,  4,  1, 15, 13, 14, 14, 13, 12, 13, 16, 10, 16, 12, 15, 16,\n",
       "        14, 14,  9, 15, 15, 10, 10, 12, 15, 16, 11,  8, 16, 11, 21, 16, 16,\n",
       "        16, 11, 14, 11,  4,  3, 13, 15, 16,  8,  9,  3,  8,  4,  9,  2, 13,\n",
       "        15, 14,  7, 20, 11,  4, 11, 16, 16, 13, 11, 18, 14,  7, 11,  4, 14,\n",
       "        12, 12, 12,  9, 13, 12, 15, 11, 16, 15, 20,  2, 13,  8, 12, 15, 15,\n",
       "        14, 13, 11,  9, 18,  7, 14, 12, 12, 14, 21, 17,  4, 13, 15, 13, 16,\n",
       "        12, 10, 13, 12, 12, 14, 12, 13,  8, 14, 12,  6, 13, 16, 11, 14, 16,\n",
       "        14,  3, 15, 12, 12, 10, 21, 13,  7,  8, 16,  7,  5,  7, 14, 19, 11,\n",
       "        14, 11, 11, 17,  8, 11,  4, 18, 11, 18, 13, 14, 12,  7, 16, 11, 10,\n",
       "        10, 12, 15, 16, 16, 13,  6, 14, 16, 14, 16, 12, 16, 14,  9, 10, 14,\n",
       "         9, 19, 17, 14, 15, 13, 16, 17, 10, 14, 14,  8, 17, 14, 16, 13,  8,\n",
       "         7,  4,  7, 18,  3, 15, 20, 11, 12, 10, 13, 11,  4, 19,  8, 16, 17,\n",
       "        15, 10,  6, 15, 12,  4, 16, 11, 15, 15,  8, 14, 10, 13,  3,  7,  7,\n",
       "        14, 10, 12, 13, 12,  3, 13, 15, 16, 16, 12, 12, 20, 11,  7, 12, 15,\n",
       "        10, 17, 16, 12, 10, 10, 21, 13, 11, 16, 13,  7, 15, 15, 13,  7, 12,\n",
       "        11, 14, 16,  4, 13, 12, 12, 10,  6, 21, 14, 15, 13, 21, 12,  1, 14,\n",
       "        19, 14, 12, 12, 13, 11, 16]),\n",
       " 'x_test': array([[-0.08137916, -0.0955077 , -0.06576303, ..., -0.05590741,\n",
       "         -0.06259099, -0.04636991],\n",
       "        [-0.07978958, -0.08874027, -0.06942713, ..., -0.06628695,\n",
       "         -0.06658577, -0.05102643],\n",
       "        [-0.09110972, -0.15789285, -0.12033649, ..., -0.1472575 ,\n",
       "         -0.189467  , -0.12298775],\n",
       "        ...,\n",
       "        [-0.08726089, -0.09682134, -0.0815029 , ..., -0.06801943,\n",
       "         -0.08027533, -0.08064202],\n",
       "        [-0.08130991, -0.09705899, -0.06755641, ..., -0.03993101,\n",
       "         -0.05182563, -0.03998537],\n",
       "        [-0.1281815 , -0.16900153, -0.17759235, ..., -0.17359293,\n",
       "         -0.23454134, -0.09843919]], dtype=float32),\n",
       " 'y_test': array([16, 17,  1, 13, 16, 10,  6,  7, 15, 18, 14, 12, 20, 13,  3,  4, 14,\n",
       "        12, 18,  9, 12, 16, 16, 12,  8,  4,  4,  3, 12, 14, 11, 13, 15, 15,\n",
       "        16, 12, 11,  4, 16,  7,  5, 12, 15, 11, 16, 14,  6, 12, 15, 12,  1,\n",
       "        12, 14, 11, 11, 17, 13, 14,  7, 13,  2,  9,  7, 13, 21, 21, 16, 11,\n",
       "         5,  5, 11,  7, 12, 13, 16, 14, 14, 14,  6, 16, 12,  4, 14, 13, 14,\n",
       "        15, 16, 11,  3,  6,  2]),\n",
       " 'model': LogisticRegression(),\n",
       " 'conf_matrix': array([[ 2,  0,  0,  0,  0,  0,  0,  0,  0,  0,  0,  0,  0,  0,  0,  0,\n",
       "          0,  0,  0,  0],\n",
       "        [ 0,  2,  0,  0,  0,  0,  0,  0,  0,  0,  0,  0,  0,  0,  0,  0,\n",
       "          0,  0,  0,  0],\n",
       "        [ 0,  0,  3,  0,  0,  0,  0,  0,  0,  0,  0,  0,  0,  0,  0,  0,\n",
       "          0,  0,  0,  0],\n",
       "        [ 0,  0,  0,  5,  0,  0,  0,  0,  0,  0,  0,  0,  0,  0,  0,  0,\n",
       "          0,  0,  0,  0],\n",
       "        [ 0,  0,  0,  0,  3,  0,  0,  0,  0,  0,  0,  0,  0,  0,  0,  0,\n",
       "          0,  0,  0,  0],\n",
       "        [ 0,  0,  0,  0,  0,  4,  0,  0,  0,  0,  0,  0,  0,  0,  0,  0,\n",
       "          0,  0,  0,  0],\n",
       "        [ 0,  0,  0,  0,  0,  0,  5,  0,  0,  0,  0,  0,  0,  0,  0,  0,\n",
       "          0,  0,  0,  0],\n",
       "        [ 0,  0,  0,  0,  0,  0,  0,  1,  0,  0,  0,  0,  0,  0,  0,  0,\n",
       "          0,  0,  0,  0],\n",
       "        [ 0,  0,  0,  0,  0,  0,  0,  0,  2,  0,  0,  0,  0,  0,  0,  0,\n",
       "          0,  0,  0,  0],\n",
       "        [ 0,  0,  0,  0,  0,  0,  0,  0,  0,  1,  0,  0,  0,  0,  0,  0,\n",
       "          0,  0,  0,  0],\n",
       "        [ 0,  0,  0,  0,  0,  0,  0,  0,  0,  0,  8,  0,  0,  0,  0,  0,\n",
       "          0,  0,  0,  0],\n",
       "        [ 0,  0,  0,  0,  0,  0,  0,  0,  0,  0,  0, 12,  0,  0,  0,  0,\n",
       "          0,  0,  0,  0],\n",
       "        [ 0,  0,  0,  0,  0,  0,  0,  0,  0,  0,  0,  0,  8,  0,  0,  0,\n",
       "          0,  0,  0,  0],\n",
       "        [ 0,  0,  0,  0,  0,  0,  0,  0,  0,  0,  0,  0,  0, 11,  0,  0,\n",
       "          0,  0,  0,  0],\n",
       "        [ 0,  0,  0,  0,  0,  0,  0,  0,  0,  0,  0,  0,  0,  0,  6,  0,\n",
       "          0,  0,  0,  0],\n",
       "        [ 0,  0,  0,  0,  0,  0,  0,  0,  0,  0,  0,  0,  0,  0,  0, 11,\n",
       "          0,  0,  0,  0],\n",
       "        [ 0,  0,  0,  0,  0,  0,  0,  0,  0,  0,  0,  0,  0,  0,  0,  0,\n",
       "          2,  0,  0,  0],\n",
       "        [ 0,  0,  0,  0,  0,  0,  0,  0,  0,  0,  0,  0,  0,  0,  0,  0,\n",
       "          0,  2,  0,  0],\n",
       "        [ 0,  0,  0,  0,  0,  0,  0,  0,  0,  0,  0,  0,  0,  0,  0,  0,\n",
       "          0,  0,  1,  0],\n",
       "        [ 0,  0,  0,  0,  0,  0,  0,  0,  0,  0,  0,  0,  0,  0,  0,  0,\n",
       "          0,  0,  0,  2]]),\n",
       " 'report': '              precision    recall  f1-score   support\\n\\n           1       1.00      1.00      1.00         2\\n           2       1.00      1.00      1.00         2\\n           3       1.00      1.00      1.00         3\\n           4       1.00      1.00      1.00         5\\n           5       1.00      1.00      1.00         3\\n           6       1.00      1.00      1.00         4\\n           7       1.00      1.00      1.00         5\\n           8       1.00      1.00      1.00         1\\n           9       1.00      1.00      1.00         2\\n          10       1.00      1.00      1.00         1\\n          11       1.00      1.00      1.00         8\\n          12       1.00      1.00      1.00        12\\n          13       1.00      1.00      1.00         8\\n          14       1.00      1.00      1.00        11\\n          15       1.00      1.00      1.00         6\\n          16       1.00      1.00      1.00        11\\n          17       1.00      1.00      1.00         2\\n          18       1.00      1.00      1.00         2\\n          20       1.00      1.00      1.00         1\\n          21       1.00      1.00      1.00         2\\n\\n    accuracy                           1.00        91\\n   macro avg       1.00      1.00      1.00        91\\nweighted avg       1.00      1.00      1.00        91\\n'}"
      ]
     },
     "execution_count": 69,
     "metadata": {},
     "output_type": "execute_result"
    }
   ],
   "source": [
    "prb.linear_probe(conv_layer_activations_3.detach().numpy(),cheese_positions.detach().numpy())"
   ]
  },
  {
   "cell_type": "code",
   "execution_count": null,
   "metadata": {},
   "outputs": [],
   "source": [
    "prb.linear_probe(conv_layer_activations_4.detach().numpy(),cheese_positions.detach().numpy())"
   ]
  }
 ],
 "metadata": {
  "colab": {
   "provenance": []
  },
  "kernelspec": {
   "display_name": "Python 3 (ipykernel)",
   "language": "python",
   "name": "python3"
  },
  "language_info": {
   "codemirror_mode": {
    "name": "ipython",
    "version": 3
   },
   "file_extension": ".py",
   "mimetype": "text/x-python",
   "name": "python",
   "nbconvert_exporter": "python",
   "pygments_lexer": "ipython3",
   "version": "3.10.11"
  }
 },
 "nbformat": 4,
 "nbformat_minor": 4
}
