{
 "cells": [
  {
   "cell_type": "code",
   "execution_count": 1,
   "metadata": {},
   "outputs": [
    {
     "name": "stdout",
     "output_type": "stream",
     "text": [
      "building procgen...done\n"
     ]
    }
   ],
   "source": [
    "import sys\n",
    "import os\n",
    "import torch.distributions\n",
    "import torch\n",
    "import gym\n",
    "import random\n",
    "import numpy as np\n",
    "from procgen import ProcgenGym3Env\n",
    "import imageio\n",
    "import matplotlib.pyplot as plt\n",
    "import typing\n",
    "import math\n",
    "from collections import defaultdict\n",
    "from typing import Tuple, Dict, Callable, List, Optional\n",
    "from dataclasses import dataclass\n",
    "# from src.policies_modified import ImpalaCNN\n",
    "from procgen_tools.procgen_wrappers import VecExtractDictObs, TransposeFrame, ScaledFloatFrame\n",
    "from gym3 import ToBaselinesVecEnv\n",
    "from sklearn.linear_model import LogisticRegression\n",
    "from sklearn.metrics import accuracy_score, classification_report, confusion_matrix, ConfusionMatrixDisplay\n",
    "from sklearn.model_selection import train_test_split\n",
    "import matplotlib.pyplot as plt\n",
    "import seaborn as sns\n",
    "\n",
    "\n",
    "# Import custom modules\n",
    "import heist\n",
    "import helpers\n",
    "from helpers import generate_action, load_model\n",
    "\n",
    "# Reload modules automatically\n",
    "%load_ext autoreload\n",
    "%autoreload 2\n",
    "\n"
   ]
  },
  {
   "cell_type": "code",
   "execution_count": 2,
   "metadata": {},
   "outputs": [],
   "source": [
    "# Load model and setup environment\n",
    "difficulty = 'hard'\n",
    "model = helpers.load_model(model_path=f\"../model_{difficulty}.pt\")\n",
    "model_activations = helpers.ModelActivations(model)\n",
    "layer_paths = helpers.get_model_layer_names(model)"
   ]
  },
  {
   "cell_type": "code",
   "execution_count": 3,
   "metadata": {},
   "outputs": [],
   "source": [
    "objective_activations_dataset = helpers.get_objective_activations(model_activations, layer_paths, 512)\n"
   ]
  },
  {
   "cell_type": "code",
   "execution_count": 4,
   "metadata": {},
   "outputs": [
    {
     "name": "stdout",
     "output_type": "stream",
     "text": [
      "dict_keys(['conv_seqs_0_conv', 'conv_seqs_0_max_pool2d', 'conv_seqs_0_res_block0_conv0', 'conv_seqs_0_res_block0_conv1', 'conv_seqs_0_res_block0', 'conv_seqs_0_res_block1_conv0', 'conv_seqs_0_res_block1_conv1', 'conv_seqs_0_res_block1', 'conv_seqs_0', 'conv_seqs_1_conv', 'conv_seqs_1_max_pool2d', 'conv_seqs_1_res_block0_conv0', 'conv_seqs_1_res_block0_conv1', 'conv_seqs_1_res_block0', 'conv_seqs_1_res_block1_conv0', 'conv_seqs_1_res_block1_conv1', 'conv_seqs_1_res_block1', 'conv_seqs_1', 'conv_seqs_2_conv', 'conv_seqs_2_max_pool2d', 'conv_seqs_2_res_block0_conv0', 'conv_seqs_2_res_block0_conv1', 'conv_seqs_2_res_block0', 'conv_seqs_2_res_block1_conv0', 'conv_seqs_2_res_block1_conv1', 'conv_seqs_2_res_block1', 'conv_seqs_2', 'hidden_fc', 'logits_fc', 'value_fc'])\n"
     ]
    }
   ],
   "source": [
    "print(objective_activations_dataset['gem'].keys())"
   ]
  },
  {
   "cell_type": "code",
   "execution_count": 5,
   "metadata": {},
   "outputs": [],
   "source": [
    "\n",
    "def train_probes(objective_activations_dataset: Dict[str, Dict[str, torch.Tensor]], layers_to_probe: Optional[List[str]] = None):\n",
    "    '''\n",
    "    Train probes on each layer to predict current objective from activations.\n",
    "\n",
    "    Args:\n",
    "    - objective_vectors: dict of dict of objective vectors, where each key is the name of the objective\n",
    "    (e.g. gem or red_lock) and each value is a dict whose keys are layer names and values are activations for that layer\n",
    "    that correspond to input images where the player is trying to get to that objective.\n",
    "\n",
    "    Returns:\n",
    "    - Accuracies: dict of dict of accuracies, where each key is the name of the objective, and each value is a dict\n",
    "    whose keys are layer names and values are the accuracy of the probe on that layer.\n",
    "    '''\n",
    "    accuracies = {}\n",
    "    class_accuracies = {}\n",
    "\n",
    "    # Loop over each layer\n",
    "    for layer in objective_activations_dataset['gem'].keys():\n",
    "        # Skip layers not in layers_to_probe\n",
    "        if layers_to_probe is not None and layer not in layers_to_probe:\n",
    "            continue\n",
    "        \n",
    "        # Get dataset of activation, objective pairs\n",
    "        activation_data = []\n",
    "        labels = []\n",
    "        for objective in objective_activations_dataset.keys():\n",
    "            activations = torch.stack(objective_activations_dataset[objective][layer]) # Normally tuple\n",
    "            activations = activations.view(activations.shape[0], -1)\n",
    "            activation_data.append(activations)\n",
    "            labels += [objective] * activations.shape[0]\n",
    "        \n",
    "        # Create train and test sets\n",
    "        train_data, test_data, train_labels, test_labels = train_test_split(torch.cat(activation_data), labels, test_size=0.3, random_state=42)\n",
    "\n",
    "        # Train logistic regression model\n",
    "        probe = LogisticRegression(random_state=42, max_iter=40000)\n",
    "        probe.fit(train_data, train_labels)\n",
    "\n",
    "        # Predict on test set\n",
    "        predictions = probe.predict(test_data)\n",
    "        accuracy = accuracy_score(test_labels, predictions)\n",
    "        accuracies[layer] = accuracy\n",
    "\n",
    "        # Calculate accuracy for each class\n",
    "        report = classification_report(test_labels, predictions, output_dict=True)\n",
    "        class_accuracies[layer] = {objective: report[objective]['precision'] for objective in objective_activations_dataset.keys() if objective in report}\n",
    "        \n",
    "        print(f'Layer: {layer}, Overall Accuracy: {accuracy}')\n",
    "        for objective in class_accuracies[layer]:\n",
    "            print(f'  Objective: {objective}, Accuracy: {class_accuracies[layer][objective]}')\n",
    "\n",
    "        # Plot confusion matrix\n",
    "        cm = confusion_matrix(test_labels, predictions, labels=list(objective_activations_dataset.keys()))\n",
    "        disp = ConfusionMatrixDisplay(confusion_matrix=cm, display_labels=list(objective_activations_dataset.keys()))\n",
    "        disp.plot(cmap=plt.cm.Blues)\n",
    "        plt.title(f'Confusion Matrix for Layer {layer}')\n",
    "        plt.xticks(rotation=45)\n",
    "        plt.show()\n",
    "\n",
    "    # Plot overall accuracies\n",
    "    plt.figure(figsize=(5, 5))\n",
    "    sns.barplot(x=list(accuracies.keys()), y=list(accuracies.values()))\n",
    "    plt.title('Probe Accuracies by Layer')\n",
    "    plt.ylabel('Accuracy')\n",
    "    plt.xlabel('Layer')\n",
    "    plt.xticks(rotation=45)\n",
    "    plt.show()\n",
    "\n",
    "    # Plot class accuracies for each layer\n",
    "    for layer in class_accuracies.keys():\n",
    "        plt.figure(figsize=(10, 5))\n",
    "        sns.barplot(x=list(class_accuracies[layer].keys()), y=list(class_accuracies[layer].values()))\n",
    "        plt.title(f'Class Accuracies for Layer {layer}')\n",
    "        plt.ylabel('Accuracy')\n",
    "        plt.xlabel('Objective')\n",
    "        plt.xticks(rotation=45)\n",
    "        plt.show()\n",
    "\n",
    "\n",
    "\n",
    "train_probes(objective_activations_dataset, objective_activations_dataset['gem'].keys())\n"
   ]
  }
 ],
 "metadata": {
  "kernelspec": {
   "display_name": "procgen",
   "language": "python",
   "name": "python3"
  },
  "language_info": {
   "codemirror_mode": {
    "name": "ipython",
    "version": 3
   },
   "file_extension": ".py",
   "mimetype": "text/x-python",
   "name": "python",
   "nbconvert_exporter": "python",
   "pygments_lexer": "ipython3",
   "version": "3.8.19"
  }
 },
 "nbformat": 4,
 "nbformat_minor": 2
}
