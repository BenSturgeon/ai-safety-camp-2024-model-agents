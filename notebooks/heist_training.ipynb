{
 "cells": [
  {
   "cell_type": "code",
   "execution_count": 1,
   "metadata": {},
   "outputs": [],
   "source": [
    "import gym\n",
    "from stable_baselines3 import PPO\n",
    "from stable_baselines3.common.vec_env import VecMonitor, VecFrameStack, DummyVecEnv\n",
    "from stable_baselines3.common.env_util import make_vec_env\n",
    "from stable_baselines3.common.evaluation import evaluate_policy\n",
    "from stable_baselines3.common.callbacks import CheckpointCallback\n",
    "\n",
    "def make_procgen_env(env_name, num_envs=1, start_level=0, num_levels=0):\n",
    "    def _init():\n",
    "        env = gym.make(env_name, start_level=start_level, num_levels=num_levels)\n",
    "        return env\n",
    "    return DummyVecEnv([_init] * num_envs)\n",
    "\n",
    "env_name = \"procgen:procgen-heist-v0\"  \n",
    "num_envs = 4 \n",
    "learning_rate = 3e-4\n",
    "n_steps = 2048\n",
    "batch_size = 64\n",
    "n_epochs = 10\n",
    "gamma = 0.99\n",
    "\n",
    "env = make_procgen_env(env_name, num_envs)\n",
    "env = VecMonitor(env)\n",
    "env = VecFrameStack(env, n_stack=4)\n",
    "\n",
    "model = PPO(\"CnnPolicy\", env, learning_rate=learning_rate, n_steps=n_steps, batch_size=batch_size, n_epochs=n_epochs, gamma=gamma, verbose=1, tensorboard_log=\"./procgen_tensorboard/\")\n",
    "\n",
    "checkpoint_callback = CheckpointCallback(save_freq=10000, save_path='./models/', name_prefix='ppo_procgen')\n",
    "\n",
    "total_timesteps = 1e6\n",
    "model.learn(total_timesteps=int(total_timesteps), callback=checkpoint_callback)\n",
    "\n",
    "model.save(\"ppo_procgen_final\")\n",
    "\n",
    "mean_reward, std_reward = evaluate_policy(model, env, n_eval_episodes=10)\n",
    "print(f\"Mean reward: {mean_reward}, Std Reward: {std_reward}\")\n",
    "\n",
    "env.close()\n",
    "\n"
   ]
  },
  {
   "cell_type": "code",
   "execution_count": null,
   "metadata": {},
   "outputs": [],
   "source": []
  }
 ],
 "metadata": {
  "kernelspec": {
   "display_name": "ai-safety-camp-Y8XZewIj-py3.10",
   "language": "python",
   "name": "python3"
  },
  "language_info": {
   "codemirror_mode": {
    "name": "ipython",
    "version": 3
   },
   "file_extension": ".py",
   "mimetype": "text/x-python",
   "name": "python",
   "nbconvert_exporter": "python",
   "pygments_lexer": "ipython3",
   "version": "3.10.12"
  }
 },
 "nbformat": 4,
 "nbformat_minor": 2
}
