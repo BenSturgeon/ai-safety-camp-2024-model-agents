{
 "cells": [
  {
   "cell_type": "code",
   "execution_count": 28,
   "metadata": {},
   "outputs": [
    {
     "name": "stderr",
     "output_type": "stream",
     "text": [
      "/Users/bensturgeon/Library/Caches/pypoetry/virtualenvs/ai-safety-camp-Y8XZewIj-py3.10/lib/python3.10/site-packages/stable_baselines3/common/vec_env/patch_gym.py:49: UserWarning: You provided an OpenAI Gym environment. We strongly recommend transitioning to Gymnasium environments. Stable-Baselines3 is automatically wrapping your environments in a compatibility layer, which could potentially cause issues.\n",
      "  warnings.warn(\n"
     ]
    }
   ],
   "source": [
    "import gym\n",
    "from stable_baselines3 import PPO\n",
    "from stable_baselines3.common.vec_env import VecMonitor, VecFrameStack, DummyVecEnv\n",
    "\n",
    "from stable_baselines3.common.env_util import make_vec_env\n",
    "from stable_baselines3.common.evaluation import evaluate_policy\n",
    "from stable_baselines3.common.callbacks import CheckpointCallback\n",
    "\n",
    "def make_procgen_env(env_name, num_envs=1, start_level=0, num_levels=0):\n",
    "    def _init():\n",
    "        env = gym.make(env_name, start_level=start_level, num_levels=num_levels, render_mode=\"rgb_array\")\n",
    "        return env\n",
    "    return DummyVecEnv([_init] * num_envs)\n",
    "\n",
    "env_name = \"procgen:procgen-heist-v0\"  \n",
    "num_envs = 4 \n",
    "learning_rate = 3e-4\n",
    "n_steps = 2048\n",
    "batch_size = 64\n",
    "n_epochs = 10\n",
    "gamma = 0.99\n",
    "\n",
    "env = make_procgen_env(env_name, num_envs)\n",
    "env = VecMonitor(env)\n",
    "env = VecFrameStack(env, n_stack=4)\n",
    "\n",
    "\n",
    "\n"
   ]
  },
  {
   "cell_type": "code",
   "execution_count": 9,
   "metadata": {},
   "outputs": [
    {
     "name": "stdout",
     "output_type": "stream",
     "text": [
      "State_dict:\n",
      "conv_seqs.0.conv.weight \t torch.Size([16, 3, 3, 3])\n",
      "conv_seqs.0.conv.bias \t torch.Size([16])\n",
      "conv_seqs.0.res_block0.conv0.weight \t torch.Size([16, 16, 3, 3])\n",
      "conv_seqs.0.res_block0.conv0.bias \t torch.Size([16])\n",
      "conv_seqs.0.res_block0.conv1.weight \t torch.Size([16, 16, 3, 3])\n",
      "conv_seqs.0.res_block0.conv1.bias \t torch.Size([16])\n",
      "conv_seqs.0.res_block1.conv0.weight \t torch.Size([16, 16, 3, 3])\n",
      "conv_seqs.0.res_block1.conv0.bias \t torch.Size([16])\n",
      "conv_seqs.0.res_block1.conv1.weight \t torch.Size([16, 16, 3, 3])\n",
      "conv_seqs.0.res_block1.conv1.bias \t torch.Size([16])\n",
      "conv_seqs.1.conv.weight \t torch.Size([32, 16, 3, 3])\n",
      "conv_seqs.1.conv.bias \t torch.Size([32])\n",
      "conv_seqs.1.res_block0.conv0.weight \t torch.Size([32, 32, 3, 3])\n",
      "conv_seqs.1.res_block0.conv0.bias \t torch.Size([32])\n",
      "conv_seqs.1.res_block0.conv1.weight \t torch.Size([32, 32, 3, 3])\n",
      "conv_seqs.1.res_block0.conv1.bias \t torch.Size([32])\n",
      "conv_seqs.1.res_block1.conv0.weight \t torch.Size([32, 32, 3, 3])\n",
      "conv_seqs.1.res_block1.conv0.bias \t torch.Size([32])\n",
      "conv_seqs.1.res_block1.conv1.weight \t torch.Size([32, 32, 3, 3])\n",
      "conv_seqs.1.res_block1.conv1.bias \t torch.Size([32])\n",
      "conv_seqs.2.conv.weight \t torch.Size([32, 32, 3, 3])\n",
      "conv_seqs.2.conv.bias \t torch.Size([32])\n",
      "conv_seqs.2.res_block0.conv0.weight \t torch.Size([32, 32, 3, 3])\n",
      "conv_seqs.2.res_block0.conv0.bias \t torch.Size([32])\n",
      "conv_seqs.2.res_block0.conv1.weight \t torch.Size([32, 32, 3, 3])\n",
      "conv_seqs.2.res_block0.conv1.bias \t torch.Size([32])\n",
      "conv_seqs.2.res_block1.conv0.weight \t torch.Size([32, 32, 3, 3])\n",
      "conv_seqs.2.res_block1.conv0.bias \t torch.Size([32])\n",
      "conv_seqs.2.res_block1.conv1.weight \t torch.Size([32, 32, 3, 3])\n",
      "conv_seqs.2.res_block1.conv1.bias \t torch.Size([32])\n",
      "hidden_fc.weight \t torch.Size([256, 2048])\n",
      "hidden_fc.bias \t torch.Size([256])\n",
      "logits_fc.weight \t torch.Size([15, 256])\n",
      "logits_fc.bias \t torch.Size([15])\n",
      "value_fc.weight \t torch.Size([1, 256])\n",
      "value_fc.bias \t torch.Size([1])\n"
     ]
    }
   ],
   "source": [
    "import torch\n",
    "\n",
    "# Load the model\n",
    "model = torch.load('../heist_model_final_easy.pt', map_location=torch.device('cpu'))\n",
    "\n",
    "print(\"State_dict:\")\n",
    "for param_tensor in model:\n",
    "    print(param_tensor, \"\\t\", model[param_tensor].size())"
   ]
  },
  {
   "cell_type": "code",
   "execution_count": 29,
   "metadata": {},
   "outputs": [],
   "source": [
    "import sys\n",
    "sys.path.append('../') \n",
    "\n",
    "from src.policies import ImpalaCNN\n",
    "\n",
    "observation_space = env.observation_space\n",
    "\n",
    "action_space = env.action_space.n"
   ]
  },
  {
   "cell_type": "code",
   "execution_count": 30,
   "metadata": {},
   "outputs": [],
   "source": [
    "\n",
    "\n",
    "model_struct = ImpalaCNN(observation_space, action_space)\n",
    "\n"
   ]
  },
  {
   "cell_type": "code",
   "execution_count": 31,
   "metadata": {},
   "outputs": [],
   "source": [
    "model_struct.state_dict = model\n"
   ]
  },
  {
   "cell_type": "code",
   "execution_count": 44,
   "metadata": {},
   "outputs": [
    {
     "name": "stdout",
     "output_type": "stream",
     "text": [
      "Warning: early reset ignored\n",
      "Warning: early reset ignored\n"
     ]
    },
    {
     "ename": "IndexError",
     "evalue": "tuple index out of range",
     "output_type": "error",
     "traceback": [
      "\u001b[0;31m---------------------------------------------------------------------------\u001b[0m",
      "\u001b[0;31mIndexError\u001b[0m                                Traceback (most recent call last)",
      "\u001b[1;32m/Users/bensturgeon/werk/ai-safety-camp-2024-model-agents/notebooks/heist_training.ipynb Cell 6\u001b[0m line \u001b[0;36m2\n\u001b[1;32m      <a href='vscode-notebook-cell:/Users/bensturgeon/werk/ai-safety-camp-2024-model-agents/notebooks/heist_training.ipynb#W6sZmlsZQ%3D%3D?line=0'>1</a>\u001b[0m state \u001b[39m=\u001b[39m env\u001b[39m.\u001b[39mreset()\n\u001b[0;32m----> <a href='vscode-notebook-cell:/Users/bensturgeon/werk/ai-safety-camp-2024-model-agents/notebooks/heist_training.ipynb#W6sZmlsZQ%3D%3D?line=1'>2</a>\u001b[0m obs, reward, done, information \u001b[39m=\u001b[39m env\u001b[39m.\u001b[39;49mstep((\u001b[39m1\u001b[39;49m,))\n",
      "File \u001b[0;32m~/Library/Caches/pypoetry/virtualenvs/ai-safety-camp-Y8XZewIj-py3.10/lib/python3.10/site-packages/stable_baselines3/common/vec_env/base_vec_env.py:206\u001b[0m, in \u001b[0;36mVecEnv.step\u001b[0;34m(self, actions)\u001b[0m\n\u001b[1;32m    199\u001b[0m \u001b[39m\u001b[39m\u001b[39m\"\"\"\u001b[39;00m\n\u001b[1;32m    200\u001b[0m \u001b[39mStep the environments with the given action\u001b[39;00m\n\u001b[1;32m    201\u001b[0m \n\u001b[1;32m    202\u001b[0m \u001b[39m:param actions: the action\u001b[39;00m\n\u001b[1;32m    203\u001b[0m \u001b[39m:return: observation, reward, done, information\u001b[39;00m\n\u001b[1;32m    204\u001b[0m \u001b[39m\"\"\"\u001b[39;00m\n\u001b[1;32m    205\u001b[0m \u001b[39mself\u001b[39m\u001b[39m.\u001b[39mstep_async(actions)\n\u001b[0;32m--> 206\u001b[0m \u001b[39mreturn\u001b[39;00m \u001b[39mself\u001b[39;49m\u001b[39m.\u001b[39;49mstep_wait()\n",
      "File \u001b[0;32m~/Library/Caches/pypoetry/virtualenvs/ai-safety-camp-Y8XZewIj-py3.10/lib/python3.10/site-packages/stable_baselines3/common/vec_env/vec_frame_stack.py:33\u001b[0m, in \u001b[0;36mVecFrameStack.step_wait\u001b[0;34m(self)\u001b[0m\n\u001b[1;32m     30\u001b[0m \u001b[39mdef\u001b[39;00m \u001b[39mstep_wait\u001b[39m(\n\u001b[1;32m     31\u001b[0m     \u001b[39mself\u001b[39m,\n\u001b[1;32m     32\u001b[0m ) \u001b[39m-\u001b[39m\u001b[39m>\u001b[39m Tuple[Union[np\u001b[39m.\u001b[39mndarray, Dict[\u001b[39mstr\u001b[39m, np\u001b[39m.\u001b[39mndarray]], np\u001b[39m.\u001b[39mndarray, np\u001b[39m.\u001b[39mndarray, List[Dict[\u001b[39mstr\u001b[39m, Any]],]:\n\u001b[0;32m---> 33\u001b[0m     observations, rewards, dones, infos \u001b[39m=\u001b[39m \u001b[39mself\u001b[39;49m\u001b[39m.\u001b[39;49mvenv\u001b[39m.\u001b[39;49mstep_wait()\n\u001b[1;32m     34\u001b[0m     observations, infos \u001b[39m=\u001b[39m \u001b[39mself\u001b[39m\u001b[39m.\u001b[39mstacked_obs\u001b[39m.\u001b[39mupdate(observations, dones, infos)  \u001b[39m# type: ignore[arg-type]\u001b[39;00m\n\u001b[1;32m     35\u001b[0m     \u001b[39mreturn\u001b[39;00m observations, rewards, dones, infos\n",
      "File \u001b[0;32m~/Library/Caches/pypoetry/virtualenvs/ai-safety-camp-Y8XZewIj-py3.10/lib/python3.10/site-packages/stable_baselines3/common/vec_env/vec_monitor.py:76\u001b[0m, in \u001b[0;36mVecMonitor.step_wait\u001b[0;34m(self)\u001b[0m\n\u001b[1;32m     75\u001b[0m \u001b[39mdef\u001b[39;00m \u001b[39mstep_wait\u001b[39m(\u001b[39mself\u001b[39m) \u001b[39m-\u001b[39m\u001b[39m>\u001b[39m VecEnvStepReturn:\n\u001b[0;32m---> 76\u001b[0m     obs, rewards, dones, infos \u001b[39m=\u001b[39m \u001b[39mself\u001b[39;49m\u001b[39m.\u001b[39;49mvenv\u001b[39m.\u001b[39;49mstep_wait()\n\u001b[1;32m     77\u001b[0m     \u001b[39mself\u001b[39m\u001b[39m.\u001b[39mepisode_returns \u001b[39m+\u001b[39m\u001b[39m=\u001b[39m rewards\n\u001b[1;32m     78\u001b[0m     \u001b[39mself\u001b[39m\u001b[39m.\u001b[39mepisode_lengths \u001b[39m+\u001b[39m\u001b[39m=\u001b[39m \u001b[39m1\u001b[39m\n",
      "File \u001b[0;32m~/Library/Caches/pypoetry/virtualenvs/ai-safety-camp-Y8XZewIj-py3.10/lib/python3.10/site-packages/stable_baselines3/common/vec_env/dummy_vec_env.py:59\u001b[0m, in \u001b[0;36mDummyVecEnv.step_wait\u001b[0;34m(self)\u001b[0m\n\u001b[1;32m     55\u001b[0m \u001b[39mdef\u001b[39;00m \u001b[39mstep_wait\u001b[39m(\u001b[39mself\u001b[39m) \u001b[39m-\u001b[39m\u001b[39m>\u001b[39m VecEnvStepReturn:\n\u001b[1;32m     56\u001b[0m     \u001b[39m# Avoid circular imports\u001b[39;00m\n\u001b[1;32m     57\u001b[0m     \u001b[39mfor\u001b[39;00m env_idx \u001b[39min\u001b[39;00m \u001b[39mrange\u001b[39m(\u001b[39mself\u001b[39m\u001b[39m.\u001b[39mnum_envs):\n\u001b[1;32m     58\u001b[0m         obs, \u001b[39mself\u001b[39m\u001b[39m.\u001b[39mbuf_rews[env_idx], terminated, truncated, \u001b[39mself\u001b[39m\u001b[39m.\u001b[39mbuf_infos[env_idx] \u001b[39m=\u001b[39m \u001b[39mself\u001b[39m\u001b[39m.\u001b[39menvs[env_idx]\u001b[39m.\u001b[39mstep(\n\u001b[0;32m---> 59\u001b[0m             \u001b[39mself\u001b[39;49m\u001b[39m.\u001b[39;49mactions[env_idx]\n\u001b[1;32m     60\u001b[0m         )\n\u001b[1;32m     61\u001b[0m         \u001b[39m# convert to SB3 VecEnv api\u001b[39;00m\n\u001b[1;32m     62\u001b[0m         \u001b[39mself\u001b[39m\u001b[39m.\u001b[39mbuf_dones[env_idx] \u001b[39m=\u001b[39m terminated \u001b[39mor\u001b[39;00m truncated\n",
      "\u001b[0;31mIndexError\u001b[0m: tuple index out of range"
     ]
    }
   ],
   "source": [
    "state = env.reset()\n",
    "obs, reward, done, information = env.step((1,))\n",
    "\n"
   ]
  },
  {
   "cell_type": "code",
   "execution_count": 34,
   "metadata": {},
   "outputs": [
    {
     "data": {
      "text/plain": [
       "9"
      ]
     },
     "execution_count": 34,
     "metadata": {},
     "output_type": "execute_result"
    }
   ],
   "source": [
    "env.action_space.sample()"
   ]
  },
  {
   "cell_type": "code",
   "execution_count": null,
   "metadata": {},
   "outputs": [],
   "source": []
  }
 ],
 "metadata": {
  "kernelspec": {
   "display_name": "ai-safety-camp-Y8XZewIj-py3.10",
   "language": "python",
   "name": "python3"
  },
  "language_info": {
   "codemirror_mode": {
    "name": "ipython",
    "version": 3
   },
   "file_extension": ".py",
   "mimetype": "text/x-python",
   "name": "python",
   "nbconvert_exporter": "python",
   "pygments_lexer": "ipython3",
   "version": "3.10.12"
  }
 },
 "nbformat": 4,
 "nbformat_minor": 2
}
