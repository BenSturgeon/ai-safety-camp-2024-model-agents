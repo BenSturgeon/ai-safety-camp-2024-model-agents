{
 "cells": [
  {
   "cell_type": "code",
   "execution_count": 9,
   "metadata": {},
   "outputs": [],
   "source": [
    "import heist\n",
    "import helpers\n",
    "import torch.distributions\n",
    "import torch\n",
    "\n",
    "import gym\n",
    "import random\n",
    "import numpy as np\n",
    "from helpers import generate_action, load_model\n",
    "from procgen import ProcgenGym3Env\n",
    "import imageio\n",
    "import matplotlib.pyplot as plt\n",
    "import typing\n",
    "import math\n",
    "\n",
    "from procgen import ProcgenGym3Env\n",
    "import struct\n",
    "import typing\n",
    "from typing import Tuple, Dict, Callable, List, Optional\n",
    "from dataclasses import dataclass\n",
    "from src.policies_modified import ImpalaCNN\n",
    "from procgen_tools.procgen_wrappers import VecExtractDictObs, TransposeFrame, ScaledFloatFrame\n",
    "\n",
    "from gym3 import ToBaselinesVecEnv"
   ]
  },
  {
   "cell_type": "code",
   "execution_count": 10,
   "metadata": {},
   "outputs": [],
   "source": [
    "\n",
    "env_name = \"procgen:procgen-heist-v0\"  \n",
    "\n",
    "env = gym.make(env_name, start_level=100, num_levels=200, render_mode=\"rgb_array\", distribution_mode=\"easy\") #remove render mode argument to go faster but not produce images \n",
    "\n",
    "model = load_model()"
   ]
  },
  {
   "cell_type": "code",
   "execution_count": 11,
   "metadata": {},
   "outputs": [],
   "source": [
    "class ModelActivations:\n",
    "    def __init__(self, model):\n",
    "        self.activations = {}\n",
    "        self.model = model\n",
    "        self.hooks = []  # To keep track of hooks\n",
    "\n",
    "    def clear_hooks(self):\n",
    "        # Remove all previously registered hooks\n",
    "        for hook in self.hooks:\n",
    "            hook.remove()\n",
    "        self.hooks = []\n",
    "        self.activations = {}\n",
    "\n",
    "    def get_activation(self, name):\n",
    "        def hook(model, input, output):\n",
    "            processed_output = []\n",
    "            for item in output:\n",
    "                if isinstance(item, torch.Tensor):\n",
    "                    processed_output.append(item.detach())\n",
    "                elif isinstance(item, torch.distributions.Categorical):\n",
    "                    processed_output.append(item.logits.detach())\n",
    "                else:\n",
    "                    processed_output.append(item)\n",
    "            self.activations[name] = tuple(processed_output)\n",
    "        return hook\n",
    "\n",
    "    def register_hook_by_path(self, path, name):\n",
    "        elements = path.split('.')\n",
    "        model = self.model\n",
    "        for i, element in enumerate(elements):\n",
    "            if '[' in element:\n",
    "                base, index = element.replace(']', '').split('[')\n",
    "                index = int(index)\n",
    "                model = getattr(model, base)[index]\n",
    "            else:\n",
    "                model = getattr(model, element)\n",
    "            if i == len(elements) - 1:\n",
    "                hook = model.register_forward_hook(self.get_activation(name))\n",
    "                self.hooks.append(hook)  # Keep track of the hook\n",
    "\n",
    "    def run_with_cache(self, input, layer_paths):\n",
    "        self.clear_hooks()  # Clear any existing hooks\n",
    "        self.activations = {}  # Reset activations\n",
    "        for path in layer_paths:\n",
    "            self.register_hook_by_path(path, path.replace('.', '_'))\n",
    "        output = self.model(input)\n",
    "        return output, self.activations\n",
    "\n"
   ]
  },
  {
   "cell_type": "code",
   "execution_count": 12,
   "metadata": {},
   "outputs": [
    {
     "data": {
      "image/png": "[encoded data removed]",
      "text/plain": [
       "<Figure size 1500x1200 with 3 Axes>"
      ]
     },
     "metadata": {},
     "output_type": "display_data"
    }
   ],
   "source": [
    "num_samples = 1\n",
    "num_levels = 100\n",
    "key_color_combinations = [['blue'], ['green'], ['blue', 'green']]\n",
    "observations_list = heist.create_key_states(key_color_combinations, num_samples, num_levels)\n",
    "\n",
    "\n",
    "import itertools\n",
    "fig, axs = plt.subplots(1, 3, figsize=(15, 12))  # Adjusted to create a 5x3 grid\n",
    "for ( j), obs in zip(itertools.product(range(3)), itertools.chain.from_iterable(observations_list)):\n",
    "    axs[ j].imshow(obs.transpose(1, 2, 0))\n",
    "    # axs[i, j].set_title(f\"Sample {j+1}, Obs {i+1}\")\n",
    "    axs[j].axis('off')\n",
    "plt.tight_layout()\n",
    "plt.show()"
   ]
  },
  {
   "cell_type": "code",
   "execution_count": 13,
   "metadata": {},
   "outputs": [
    {
     "data": {
      "text/plain": [
       "(3, 64, 64)"
      ]
     },
     "execution_count": 13,
     "metadata": {},
     "output_type": "execute_result"
    }
   ],
   "source": [
    "observations_list[0][0].shape"
   ]
  },
  {
   "cell_type": "code",
   "execution_count": 14,
   "metadata": {},
   "outputs": [],
   "source": [
    "layer_paths = [\n",
    "    'conv_seqs.0.conv',\n",
    "    'conv_seqs.0.res_block0.conv0',\n",
    "    'conv_seqs.0.res_block0.conv1',\n",
    "    'conv_seqs.0.res_block1.conv0',\n",
    "    'conv_seqs.0.res_block1.conv1',\n",
    "    'conv_seqs.1.conv',\n",
    "    'conv_seqs.1.res_block0.conv0',\n",
    "    'conv_seqs.1.res_block0.conv1',\n",
    "    'conv_seqs.1.res_block1.conv0',\n",
    "    'conv_seqs.1.res_block1.conv1',\n",
    "    'conv_seqs.2.conv',\n",
    "    'conv_seqs.2.res_block0.conv0',\n",
    "    'conv_seqs.2.res_block0.conv1',\n",
    "    'conv_seqs.2.res_block1.conv0',\n",
    "    'conv_seqs.2.res_block1.conv1',\n",
    "    # Add other layers as needed\n",
    "]"
   ]
  },
  {
   "cell_type": "code",
   "execution_count": 15,
   "metadata": {},
   "outputs": [],
   "source": [
    "model_activations = ModelActivations(model)\n",
    "model_activations.clear_hooks()\n",
    "blue_key_only = observations_list[0][0]\n",
    "blue_key_only =  blue_key_only.transpose(1,2,0)\n",
    "green_key_only = observations_list[0][1].transpose(1,2,0)\n",
    "blue_and_green_key = observations_list[0][2].transpose(1,2,0)\n",
    "\n",
    "obs1 = torch.tensor(blue_key_only, dtype=torch.float32).unsqueeze(0)\n",
    "obs2 = torch.tensor(blue_and_green_key, dtype=torch.float32).unsqueeze(0)\n",
    "\n",
    "output1, blue_key_only_activations = model_activations.run_with_cache(obs1, layer_paths)\n",
    "output2, blue_and_green_key_activations = model_activations.run_with_cache(obs2, layer_paths)\n",
    "\n"
   ]
  },
  {
   "cell_type": "code",
   "execution_count": null,
   "metadata": {},
   "outputs": [],
   "source": [
    "differences = helpers.compute_activation_differences(blue_and_green_key_activations,blue_key_only_activations)\n",
    "layer_paths = differences.keys()\n",
    "print(layer_paths)\n",
    "\n",
    "helpers.plot_activations_for_layers(differences, layer_paths)"
   ]
  },
  {
   "cell_type": "code",
   "execution_count": null,
   "metadata": {},
   "outputs": [],
   "source": []
  }
 ],
 "metadata": {
  "kernelspec": {
   "display_name": "ai-safety-camp-Y8XZewIj-py3.10",
   "language": "python",
   "name": "python3"
  },
  "language_info": {
   "codemirror_mode": {
    "name": "ipython",
    "version": 3
   },
   "file_extension": ".py",
   "mimetype": "text/x-python",
   "name": "python",
   "nbconvert_exporter": "python",
   "pygments_lexer": "ipython3",
   "version": "3.10.12"
  }
 },
 "nbformat": 4,
 "nbformat_minor": 2
}
