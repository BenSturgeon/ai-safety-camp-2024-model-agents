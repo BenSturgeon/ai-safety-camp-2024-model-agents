{
 "cells": [
  {
   "attachments": {},
   "cell_type": "markdown",
   "id": "90d2ded0",
   "metadata": {},
   "source": [
    "# Testing Procgen\n",
    "See if it works!"
   ]
  },
  {
   "cell_type": "code",
   "execution_count": 2,
   "id": "c43be786",
   "metadata": {},
   "outputs": [
    {
     "name": "stdout",
     "output_type": "stream",
     "text": [
      "first=0 steps=15 episode_steps=15 episode_return_delta=0.0 episode_return=0.0\n",
      "first=0 steps=30 episode_steps=30 episode_return_delta=0.0 episode_return=0.0\n",
      "first=0 steps=45 episode_steps=45 episode_return_delta=0.0 episode_return=0.0\n",
      "first=0 steps=60 episode_steps=60 episode_return_delta=0.0 episode_return=0.0\n",
      "first=0 steps=75 episode_steps=75 episode_return_delta=0.0 episode_return=0.0\n",
      "first=0 steps=90 episode_steps=90 episode_return_delta=0.0 episode_return=0.0\n",
      "first=0 steps=105 episode_steps=105 episode_return_delta=0.0 episode_return=0.0\n",
      "first=0 steps=120 episode_steps=120 episode_return_delta=0.0 episode_return=0.0\n",
      "first=0 steps=135 episode_steps=135 episode_return_delta=0.0 episode_return=0.0\n",
      "first=0 steps=150 episode_steps=150 episode_return_delta=0.0 episode_return=0.0\n",
      "first=0 steps=165 episode_steps=165 episode_return_delta=0.0 episode_return=0.0\n",
      "first=0 steps=180 episode_steps=180 episode_return_delta=0.0 episode_return=0.0\n",
      "first=0 steps=195 episode_steps=195 episode_return_delta=0.0 episode_return=0.0\n",
      "first=0 steps=210 episode_steps=210 episode_return_delta=0.0 episode_return=0.0\n",
      "first=0 steps=225 episode_steps=225 episode_return_delta=0.0 episode_return=0.0\n",
      "first=0 steps=240 episode_steps=240 episode_return_delta=0.0 episode_return=0.0\n",
      "first=0 steps=255 episode_steps=255 episode_return_delta=0.0 episode_return=0.0\n",
      "first=0 steps=270 episode_steps=270 episode_return_delta=0.0 episode_return=0.0\n",
      "first=0 steps=285 episode_steps=285 episode_return_delta=0.0 episode_return=0.0\n",
      "first=0 steps=300 episode_steps=300 episode_return_delta=0.0 episode_return=0.0\n",
      "first=1 steps=314 episode_steps=314 episode_return_delta=10.0 episode_return=10.0\n",
      "final info={'episode_steps': 314, 'episode_return': 10.0, 'prev_level_seed': 769594279, 'prev_level_complete': 1, 'level_seed': 968782899}\n",
      "first=0 steps=315 episode_steps=1 episode_return_delta=0.0 episode_return=0.0\n",
      "first=0 steps=330 episode_steps=16 episode_return_delta=0.0 episode_return=0.0\n",
      "first=0 steps=345 episode_steps=31 episode_return_delta=0.0 episode_return=0.0\n",
      "first=0 steps=360 episode_steps=46 episode_return_delta=0.0 episode_return=0.0\n",
      "first=0 steps=375 episode_steps=61 episode_return_delta=0.0 episode_return=0.0\n",
      "first=0 steps=390 episode_steps=76 episode_return_delta=0.0 episode_return=0.0\n",
      "first=0 steps=405 episode_steps=91 episode_return_delta=0.0 episode_return=0.0\n",
      "first=0 steps=420 episode_steps=106 episode_return_delta=0.0 episode_return=0.0\n",
      "first=0 steps=435 episode_steps=121 episode_return_delta=0.0 episode_return=0.0\n",
      "first=0 steps=450 episode_steps=136 episode_return_delta=0.0 episode_return=0.0\n",
      "first=0 steps=465 episode_steps=151 episode_return_delta=0.0 episode_return=0.0\n",
      "first=0 steps=480 episode_steps=166 episode_return_delta=0.0 episode_return=0.0\n",
      "first=0 steps=495 episode_steps=181 episode_return_delta=0.0 episode_return=0.0\n",
      "first=0 steps=510 episode_steps=196 episode_return_delta=0.0 episode_return=0.0\n",
      "first=0 steps=525 episode_steps=211 episode_return_delta=0.0 episode_return=0.0\n",
      "first=1 steps=533 episode_steps=219 episode_return_delta=10.0 episode_return=10.0\n",
      "final info={'episode_steps': 219, 'episode_return': 10.0, 'prev_level_seed': 968782899, 'prev_level_complete': 1, 'level_seed': 730425405}\n",
      "first=0 steps=540 episode_steps=7 episode_return_delta=0.0 episode_return=0.0\n",
      "first=0 steps=555 episode_steps=22 episode_return_delta=0.0 episode_return=0.0\n",
      "first=1 steps=559 episode_steps=26 episode_return_delta=10.0 episode_return=10.0\n",
      "final info={'episode_steps': 26, 'episode_return': 10.0, 'prev_level_seed': 730425405, 'prev_level_complete': 1, 'level_seed': 631876519}\n",
      "first=0 steps=570 episode_steps=11 episode_return_delta=0.0 episode_return=0.0\n"
     ]
    }
   ],
   "source": [
    "!python -m procgen.interactive --env-name heist\n",
    "\n"
   ]
  },
  {
   "cell_type": "code",
   "execution_count": null,
   "id": "109dcd67",
   "metadata": {},
   "outputs": [],
   "source": []
  }
 ],
 "metadata": {
  "kernelspec": {
   "display_name": "Python 3 (ipykernel)",
   "language": "python",
   "name": "python3"
  },
  "language_info": {
   "codemirror_mode": {
    "name": "ipython",
    "version": 3
   },
   "file_extension": ".py",
   "mimetype": "text/x-python",
   "name": "python",
   "nbconvert_exporter": "python",
   "pygments_lexer": "ipython3",
   "version": "3.10.12"
  }
 },
 "nbformat": 4,
 "nbformat_minor": 5
}
