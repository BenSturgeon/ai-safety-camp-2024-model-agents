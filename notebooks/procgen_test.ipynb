{
 "cells": [
  {
   "attachments": {},
   "cell_type": "markdown",
   "id": "90d2ded0",
   "metadata": {},
   "source": [
    "# Testing Procgen\n",
    "See if it works!"
   ]
  },
  {
   "cell_type": "code",
   "execution_count": 1,
   "id": "c43be786",
   "metadata": {},
   "outputs": [
    {
     "name": "stdout",
     "output_type": "stream",
     "text": [
      "first=0 steps=15 episode_steps=15 episode_return_delta=0.0 episode_return=0.0\n",
      "first=0 steps=30 episode_steps=30 episode_return_delta=0.0 episode_return=0.0\n",
      "first=0 steps=45 episode_steps=45 episode_return_delta=0.0 episode_return=0.0\n",
      "first=0 steps=60 episode_steps=60 episode_return_delta=0.0 episode_return=0.0\n",
      "first=0 steps=75 episode_steps=75 episode_return_delta=0.0 episode_return=0.0\n",
      "first=0 steps=90 episode_steps=90 episode_return_delta=0.0 episode_return=0.0\n",
      "first=0 steps=105 episode_steps=105 episode_return_delta=0.0 episode_return=0.0\n",
      "first=1 steps=110 episode_steps=110 episode_return_delta=0.0 episode_return=0.0\n",
      "final info={'episode_steps': 110, 'episode_return': 0.0, 'prev_level_seed': 826781092, 'prev_level_complete': 0, 'level_seed': 484922138}\n"
     ]
    }
   ],
   "source": [
    "!python -m procgen.interactive --env-name coinrun"
   ]
  },
  {
   "cell_type": "code",
   "execution_count": null,
   "id": "109dcd67",
   "metadata": {},
   "outputs": [],
   "source": []
  }
 ],
 "metadata": {
  "kernelspec": {
   "display_name": "Python 3 (ipykernel)",
   "language": "python",
   "name": "python3"
  },
  "language_info": {
   "codemirror_mode": {
    "name": "ipython",
    "version": 3
   },
   "file_extension": ".py",
   "mimetype": "text/x-python",
   "name": "python",
   "nbconvert_exporter": "python",
   "pygments_lexer": "ipython3",
   "version": "3.9.18"
  }
 },
 "nbformat": 4,
 "nbformat_minor": 5
}
