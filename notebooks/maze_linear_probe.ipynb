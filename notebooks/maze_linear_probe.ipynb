{
 "cells": [
  {
   "cell_type": "markdown",
   "metadata": {},
   "source": [
    "# Linear Probe Experiments\n",
    "A first try at generating data in a procgen maze environment, and using that to construct a linear probe to detect a \"cheese signal\" in the neural network layers of a pre-trained RL agent. \n",
    "\n",
    "## Initialize Gym Environment"
   ]
  },
  {
   "cell_type": "code",
   "execution_count": 51,
   "metadata": {},
   "outputs": [],
   "source": [
    "import torch\n",
    "import numpy as np\n",
    "from procgen import ProcgenGym3Env\n",
    "from procgen_tools import maze\n",
    "from procgen_tools.models import load_policy\n",
    "from procgen_tools import maze as maze_api"
   ]
  },
  {
   "cell_type": "code",
   "execution_count": 52,
   "metadata": {},
   "outputs": [
    {
     "data": {
      "text/plain": [
       "<CEnv lib_path=/home/gearspark/Projects/ai-safety-camp-2024-model-agents/venv/lib/python3.10/site-packages/procgen/data/prebuilt/libenv.so options={'center_agent': True, 'use_generated_assets': False, 'use_monochrome_assets': False, 'restrict_themes': False, 'use_backgrounds': True, 'paint_vel_info': False, 'distribution_mode': 1, 'env_name': 'maze', 'num_levels': 1, 'start_level': 4242, 'num_actions': 15, 'use_sequential_levels': False, 'debug_mode': 0, 'rand_seed': 1383589431, 'num_threads': 4, 'render_human': True, 'resource_root': '/home/gearspark/Projects/ai-safety-camp-2024-model-agents/venv/lib/python3.10/site-packages/procgen/data/assets/'}>"
      ]
     },
     "execution_count": 52,
     "metadata": {},
     "output_type": "execute_result"
    }
   ],
   "source": [
    "seed = 4242\n",
    "maze_test_env = ProcgenGym3Env(\n",
    "    num=1,\n",
    "    env_name='maze', num_levels=1, start_level=seed,\n",
    "    distribution_mode='hard', num_threads=4, render_mode=\"rgb_array\",\n",
    ")\n",
    "maze_test_env"
   ]
  },
  {
   "cell_type": "markdown",
   "metadata": {},
   "source": [
    "## Load Agent"
   ]
  },
  {
   "cell_type": "code",
   "execution_count": 53,
   "metadata": {},
   "outputs": [],
   "source": [
    "policy = load_policy('model_rand.pth', action_size=15, device=torch.device('cpu'))"
   ]
  },
  {
   "cell_type": "markdown",
   "metadata": {},
   "source": [
    "## Run Episodes"
   ]
  },
  {
   "cell_type": "code",
   "execution_count": 58,
   "metadata": {},
   "outputs": [],
   "source": [
    "def run_episode(model, maze_environment, argmax=True, max_time_steps=256):\n",
    "    assert maze_test_env.options[\"env_name\"] == \"maze\"  # Only maze is supported because of the use of the maze wrapper\n",
    "    venv = maze_api.wrap_venv(maze_environment)\n",
    "\n",
    "    observations = []\n",
    "    rewards = []\n",
    "    dones = []\n",
    "    info_list = []\n",
    "    \n",
    "    def log(o, r, d, i):\n",
    "        observations.append(o)\n",
    "        rewards.append(r)\n",
    "        dones.append(d)\n",
    "        info_list.append(i)\n",
    "\n",
    "    model.eval()  # Switch off gradient tracking and other training time mechanisms\n",
    "    obs = venv.reset()\n",
    "\n",
    "    for step in range(max_time_steps):\n",
    "        out, _ = model(torch.FloatTensor(obs))\n",
    "        if argmax:\n",
    "            act = out.probs.argmax(dim=-1).numpy()\n",
    "        else:\n",
    "            act = out.sample().numpy()\n",
    "        obs, rew, done, info = venv.step(act)\n",
    "        log(obs, rew, done, info)\n",
    "        if done:\n",
    "            break\n",
    "\n",
    "    return observations, rewards, dones, info_list\n",
    "\n"
   ]
  },
  {
   "cell_type": "code",
   "execution_count": 59,
   "metadata": {},
   "outputs": [],
   "source": [
    "# Run a test episode\n",
    "obs, rews, ds, infs = run_episode(policy, maze_test_env)"
   ]
  },
  {
   "cell_type": "code",
   "execution_count": 63,
   "metadata": {},
   "outputs": [
    {
     "name": "stdout",
     "output_type": "stream",
     "text": [
      "n obs: 7, n rewards: 7, total reward: [10.], level complete: [ True], seed: 4242\n"
     ]
    }
   ],
   "source": [
    "print(f\"n obs: {len(obs)}, n rewards: {len(rews)}, total reward: {sum(rews)}, level complete: {ds[-1]}, seed: {seed}\")"
   ]
  },
  {
   "cell_type": "code",
   "execution_count": null,
   "metadata": {},
   "outputs": [],
   "source": []
  }
 ],
 "metadata": {
  "kernelspec": {
   "display_name": "Python 3 (ipykernel)",
   "language": "python",
   "name": "python3"
  },
  "language_info": {
   "codemirror_mode": {
    "name": "ipython",
    "version": 3
   },
   "file_extension": ".py",
   "mimetype": "text/x-python",
   "name": "python",
   "nbconvert_exporter": "python",
   "pygments_lexer": "ipython3",
   "version": "3.10.13"
  }
 },
 "nbformat": 4,
 "nbformat_minor": 4
}
