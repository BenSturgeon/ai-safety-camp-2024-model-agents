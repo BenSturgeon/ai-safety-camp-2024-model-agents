{
 "cells": [
  {
   "cell_type": "markdown",
   "metadata": {},
   "source": [
    "# Linear Probe Experiments\n",
    "A first try at generating data in a procgen maze environment, and using that to construct a linear probe to detect a \"cheese signal\" in the neural network layers of a pre-trained RL agent. \n",
    "\n",
    "## Initialize Environment "
   ]
  },
  {
   "cell_type": "code",
   "execution_count": 16,
   "metadata": {},
   "outputs": [],
   "source": [
    "import torch\n",
    "import numpy as np\n",
    "from tqdm import tqdm\n",
    "from procgen import ProcgenGym3Env\n",
    "from procgen_tools import maze\n",
    "from procgen_tools.models import load_policy\n",
    "from procgen_tools import maze as maze_api"
   ]
  },
  {
   "cell_type": "markdown",
   "metadata": {},
   "source": [
    "The gym environment will be created through `procgen-tools`. It provides a wrapper around the original procgen environment to make it compatible with gym. "
   ]
  },
  {
   "cell_type": "code",
   "execution_count": 19,
   "metadata": {},
   "outputs": [
    {
     "data": {
      "text/plain": [
       "dict_keys(['prev_level_seed', 'prev_level_complete', 'level_seed', 'rgb'])"
      ]
     },
     "execution_count": 19,
     "metadata": {},
     "output_type": "execute_result"
    }
   ],
   "source": [
    "seed = 4242\n",
    "wrapped_venv = maze_api.create_venv(\n",
    "    num=1, start_level=int(seed), num_levels=0, num_threads = 4\n",
    ")\n",
    "wrapped_venv.env.get_info()[0].keys()"
   ]
  },
  {
   "cell_type": "code",
   "execution_count": 20,
   "metadata": {},
   "outputs": [
    {
     "data": {
      "text/plain": [
       "<CEnv lib_path=/home/gearspark/Projects/ai-safety-camp-2024-model-agents/venv/lib/python3.10/site-packages/procgen/data/prebuilt/libenv.so options={'center_agent': True, 'use_generated_assets': False, 'use_monochrome_assets': False, 'restrict_themes': False, 'use_backgrounds': True, 'paint_vel_info': False, 'distribution_mode': 1, 'env_name': 'maze', 'num_levels': 0, 'start_level': 4242, 'num_actions': 15, 'use_sequential_levels': False, 'debug_mode': 0, 'rand_seed': 1024729401, 'num_threads': 4, 'render_human': True, 'resource_root': '/home/gearspark/Projects/ai-safety-camp-2024-model-agents/venv/lib/python3.10/site-packages/procgen/data/assets/'}>"
      ]
     },
     "execution_count": 20,
     "metadata": {},
     "output_type": "execute_result"
    }
   ],
   "source": [
    "# Get the gym env directly like so\n",
    "wrapped_venv.env"
   ]
  },
  {
   "cell_type": "markdown",
   "metadata": {},
   "source": [
    "## Load Agent\n",
    "Download one of the agents from the [trained model files](https://drive.google.com/drive/folders/1Ig7bzRlieyYFcdKL_PM-guSWR8WryDOL). I used `maze_I/model_rand_region_5` without knowing about the performance of this agent. Do not forget to rename the model file or change the filename below."
   ]
  },
  {
   "cell_type": "code",
   "execution_count": 21,
   "metadata": {},
   "outputs": [],
   "source": [
    "policy = load_policy('model_rand.pth', action_size=15, device=torch.device('cpu'))"
   ]
  },
  {
   "cell_type": "markdown",
   "metadata": {},
   "source": [
    "## Run Episodes"
   ]
  },
  {
   "cell_type": "code",
   "execution_count": 36,
   "metadata": {},
   "outputs": [],
   "source": [
    "def dummy_log(model, environment, step, act, obs, rew, done, info):\n",
    "    \"\"\"Just a dummy log method\"\"\"\n",
    "\n",
    "\n",
    "def run_episode(model, maze_environment, argmax=True, max_time_steps=256, on_step=dummy_log):\n",
    "    model.eval()  # Switch off gradient tracking and other training time mechanisms\n",
    "    obs = maze_environment.reset()\n",
    "\n",
    "    for step in range(max_time_steps):\n",
    "        out, _ = model(torch.FloatTensor(obs))\n",
    "        if argmax:\n",
    "            act = out.probs.argmax(dim=-1).numpy()\n",
    "        else:\n",
    "            act = out.sample().numpy()\n",
    "        obs, rew, done, info = maze_environment.step(act)\n",
    "        on_step(model, maze_environment, step, act, obs, rew, done, info)\n",
    "        if done:\n",
    "            break\n",
    "\n"
   ]
  },
  {
   "cell_type": "code",
   "execution_count": 37,
   "metadata": {},
   "outputs": [
    {
     "name": "stdout",
     "output_type": "stream",
     "text": [
      "Warning: manual reset ignored\n"
     ]
    }
   ],
   "source": [
    "# Run a test episode\n",
    "run_episode(policy, wrapped_venv)"
   ]
  },
  {
   "cell_type": "code",
   "execution_count": 38,
   "metadata": {},
   "outputs": [
    {
     "ename": "UnboundLocalError",
     "evalue": "local variable 'observations' referenced before assignment",
     "output_type": "error",
     "traceback": [
      "\u001b[0;31m---------------------------------------------------------------------------\u001b[0m",
      "\u001b[0;31mUnboundLocalError\u001b[0m                         Traceback (most recent call last)",
      "\u001b[1;32m/home/gearspark/Projects/ai-safety-camp-2024-model-agents/notebooks/maze_linear_probe.ipynb Cell 11\u001b[0m line \u001b[0;36m9\n\u001b[1;32m      <a href='vscode-notebook-cell:/home/gearspark/Projects/ai-safety-camp-2024-model-agents/notebooks/maze_linear_probe.ipynb#X42sZmlsZQ%3D%3D?line=5'>6</a>\u001b[0m     observations \u001b[39m+\u001b[39m\u001b[39m=\u001b[39m obs\n\u001b[1;32m      <a href='vscode-notebook-cell:/home/gearspark/Projects/ai-safety-camp-2024-model-agents/notebooks/maze_linear_probe.ipynb#X42sZmlsZQ%3D%3D?line=6'>7</a>\u001b[0m     rewards \u001b[39m+\u001b[39m\u001b[39m=\u001b[39m rews\n\u001b[0;32m----> <a href='vscode-notebook-cell:/home/gearspark/Projects/ai-safety-camp-2024-model-agents/notebooks/maze_linear_probe.ipynb#X42sZmlsZQ%3D%3D?line=8'>9</a>\u001b[0m run_episode(policy, wrapped_venv, on_step\u001b[39m=\u001b[39;49mcustom_log)\n",
      "\u001b[1;32m/home/gearspark/Projects/ai-safety-camp-2024-model-agents/notebooks/maze_linear_probe.ipynb Cell 11\u001b[0m line \u001b[0;36m1\n\u001b[1;32m     <a href='vscode-notebook-cell:/home/gearspark/Projects/ai-safety-camp-2024-model-agents/notebooks/maze_linear_probe.ipynb#X42sZmlsZQ%3D%3D?line=13'>14</a>\u001b[0m     act \u001b[39m=\u001b[39m out\u001b[39m.\u001b[39msample()\u001b[39m.\u001b[39mnumpy()\n\u001b[1;32m     <a href='vscode-notebook-cell:/home/gearspark/Projects/ai-safety-camp-2024-model-agents/notebooks/maze_linear_probe.ipynb#X42sZmlsZQ%3D%3D?line=14'>15</a>\u001b[0m obs, rew, done, info \u001b[39m=\u001b[39m maze_environment\u001b[39m.\u001b[39mstep(act)\n\u001b[0;32m---> <a href='vscode-notebook-cell:/home/gearspark/Projects/ai-safety-camp-2024-model-agents/notebooks/maze_linear_probe.ipynb#X42sZmlsZQ%3D%3D?line=15'>16</a>\u001b[0m on_step(model, maze_environment, step, act, obs, rew, done, info)\n\u001b[1;32m     <a href='vscode-notebook-cell:/home/gearspark/Projects/ai-safety-camp-2024-model-agents/notebooks/maze_linear_probe.ipynb#X42sZmlsZQ%3D%3D?line=16'>17</a>\u001b[0m \u001b[39mif\u001b[39;00m done:\n\u001b[1;32m     <a href='vscode-notebook-cell:/home/gearspark/Projects/ai-safety-camp-2024-model-agents/notebooks/maze_linear_probe.ipynb#X42sZmlsZQ%3D%3D?line=17'>18</a>\u001b[0m     \u001b[39mbreak\u001b[39;00m\n",
      "\u001b[1;32m/home/gearspark/Projects/ai-safety-camp-2024-model-agents/notebooks/maze_linear_probe.ipynb Cell 11\u001b[0m line \u001b[0;36m6\n\u001b[1;32m      <a href='vscode-notebook-cell:/home/gearspark/Projects/ai-safety-camp-2024-model-agents/notebooks/maze_linear_probe.ipynb#X42sZmlsZQ%3D%3D?line=4'>5</a>\u001b[0m \u001b[39mdef\u001b[39;00m \u001b[39mcustom_log\u001b[39m(model, environment, step, act, obs, rew, done, info):\n\u001b[0;32m----> <a href='vscode-notebook-cell:/home/gearspark/Projects/ai-safety-camp-2024-model-agents/notebooks/maze_linear_probe.ipynb#X42sZmlsZQ%3D%3D?line=5'>6</a>\u001b[0m     observations \u001b[39m+\u001b[39m\u001b[39m=\u001b[39m obs\n\u001b[1;32m      <a href='vscode-notebook-cell:/home/gearspark/Projects/ai-safety-camp-2024-model-agents/notebooks/maze_linear_probe.ipynb#X42sZmlsZQ%3D%3D?line=6'>7</a>\u001b[0m     rewards \u001b[39m+\u001b[39m\u001b[39m=\u001b[39m rews\n",
      "\u001b[0;31mUnboundLocalError\u001b[0m: local variable 'observations' referenced before assignment"
     ]
    }
   ],
   "source": [
    "# Define a custom logging function\n",
    "observations = []\n",
    "rewards = []\n",
    "\n",
    "def custom_log(model, environment, step, act, obs, rew, done, info):\n",
    "    observations += obs\n",
    "    rewards += rews\n",
    "\n",
    "run_episode(policy, wrapped_venv, on_step=custom_log)"
   ]
  },
  {
   "cell_type": "code",
   "execution_count": 25,
   "metadata": {},
   "outputs": [
    {
     "name": "stdout",
     "output_type": "stream",
     "text": [
      "n obs: 256, n rewards: 256, total reward: [0.], level complete: [False], seed: 4242\n"
     ]
    }
   ],
   "source": [
    "print(f\"n obs: {len(obs)}, n rewards: {len(rews)}, total reward: {sum(rews)}\")"
   ]
  },
  {
   "cell_type": "markdown",
   "metadata": {},
   "source": [
    "## Logging Model Activations\n",
    "Activations can be logged with `circrl`. The hook manager logs a single activation by default. Since we want to have activations spread over the entire eposide we will use a custom hook manager that can be reset between episodes."
   ]
  },
  {
   "cell_type": "markdown",
   "metadata": {},
   "source": [
    "## Gathering Training Data\n",
    "To gather training data we need to run multiple episodes and store the activations of the model alongside the environment parameters. Procgen-tools provides some convenience functions to make this easier."
   ]
  },
  {
   "cell_type": "code",
   "execution_count": 28,
   "metadata": {},
   "outputs": [],
   "source": [
    "def generate_maze_training_data(model, n_episodes):\n",
    "    max_seed = int(1e9)\n",
    "    seeds = np.random.default_rng().choice(max_seed, size=n_episodes, replace=False)\n",
    "\n",
    "    for seed in tqdm(seeds):\n",
    "        wrapped_venv = maze_api.create_venv(\n",
    "            num=1, start_level=int(seed), num_levels=0, num_threads = 4\n",
    "        )  # Convenience functions\n",
    "        state = maze_api.state_from_venv(wrapped_venv)\n",
    "        grid = maze_api.get_grid(state.state_vals)\n",
    "        cheese_pos = maze_api.get_cheese_pos(grid)\n",
    "\n",
    "        obs, rews, ds, infs = run_episode(model, wrapped_venv)  \n",
    "\n",
    "    print(cheese_pos)\n",
    "    print(len(grid))"
   ]
  },
  {
   "cell_type": "code",
   "execution_count": 29,
   "metadata": {},
   "outputs": [
    {
     "name": "stderr",
     "output_type": "stream",
     "text": [
      "100%|██████████| 1/1 [00:02<00:00,  2.85s/it]"
     ]
    },
    {
     "name": "stdout",
     "output_type": "stream",
     "text": [
      "(10, 3)\n",
      "25\n"
     ]
    },
    {
     "name": "stderr",
     "output_type": "stream",
     "text": [
      "\n"
     ]
    }
   ],
   "source": [
    "generate_maze_training_data(policy, 1)"
   ]
  },
  {
   "cell_type": "markdown",
   "metadata": {},
   "source": [
    "## Training A Linear Probe"
   ]
  }
 ],
 "metadata": {
  "kernelspec": {
   "display_name": "Python 3 (ipykernel)",
   "language": "python",
   "name": "python3"
  },
  "language_info": {
   "codemirror_mode": {
    "name": "ipython",
    "version": 3
   },
   "file_extension": ".py",
   "mimetype": "text/x-python",
   "name": "python",
   "nbconvert_exporter": "python",
   "pygments_lexer": "ipython3",
   "version": "3.10.13"
  }
 },
 "nbformat": 4,
 "nbformat_minor": 4
}
