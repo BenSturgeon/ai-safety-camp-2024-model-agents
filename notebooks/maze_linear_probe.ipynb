{
 "cells": [
  {
   "cell_type": "markdown",
   "metadata": {},
   "source": [
    "# Linear Probe Experiments\n",
    "A first try at generating data in a procgen maze environment, and using that to construct a linear probe to detect a \"cheese signal\" in the neural network layers of a pre-trained RL agent. \n",
    "\n",
    "## Initialize Gym Environment"
   ]
  },
  {
   "cell_type": "code",
   "execution_count": 1,
   "metadata": {},
   "outputs": [],
   "source": [
    "import torch\n",
    "from procgen import ProcgenGym3Env\n",
    "from procgen_tools import maze\n",
    "from procgen_tools.models import load_policy"
   ]
  },
  {
   "cell_type": "code",
   "execution_count": 2,
   "metadata": {},
   "outputs": [
    {
     "data": {
      "text/plain": [
       "<CEnv lib_path=/home/gearspark/Projects/ai-safety-camp-2024-model-agents/venv/lib/python3.10/site-packages/procgen/data/prebuilt/libenv.so options={'center_agent': True, 'use_generated_assets': False, 'use_monochrome_assets': False, 'restrict_themes': False, 'use_backgrounds': True, 'paint_vel_info': False, 'distribution_mode': 1, 'env_name': 'maze', 'num_levels': 1, 'start_level': 42, 'num_actions': 15, 'use_sequential_levels': False, 'debug_mode': 0, 'rand_seed': 775288443, 'num_threads': 4, 'render_human': True, 'resource_root': '/home/gearspark/Projects/ai-safety-camp-2024-model-agents/venv/lib/python3.10/site-packages/procgen/data/assets/'}>"
      ]
     },
     "execution_count": 2,
     "metadata": {},
     "output_type": "execute_result"
    }
   ],
   "source": [
    "seed =42\n",
    "maze_test_env = ProcgenGym3Env(\n",
    "    num=1,\n",
    "    env_name='maze', num_levels=1, start_level=seed,\n",
    "    distribution_mode='hard', num_threads=4, render_mode=\"rgb_array\",\n",
    ")\n",
    "maze_test_env"
   ]
  },
  {
   "cell_type": "markdown",
   "metadata": {},
   "source": [
    "## Load Agent"
   ]
  },
  {
   "cell_type": "code",
   "execution_count": 3,
   "metadata": {},
   "outputs": [],
   "source": [
    "policy = load_policy('model_rand.pth', action_size=15, device=torch.device('cpu'))"
   ]
  },
  {
   "cell_type": "code",
   "execution_count": 4,
   "metadata": {},
   "outputs": [],
   "source": [
    "from procgen_tools import maze as maze_api\n",
    "\n",
    "\n",
    "def run_episode(model, maze_environment, argmax=True, max_time_steps=256):\n",
    "    assert maze_test_env.options[\"env_name\"] == \"maze\"  # Only maze is supported because of the use of the maze wrapper\n",
    "    venv = maze_api.wrap_venv(maze_environment)\n",
    "    \n",
    "    model.eval()  # Switch off gradient tracking and other training time mechanisms\n",
    "    obs = venv.reset()\n",
    "    for step in range(max_time_steps):\n",
    "        out, _ = model(torch.FloatTensor(obs))\n",
    "        if argmax:\n",
    "            act = out.probs.argmax(dim=-1).numpy()\n",
    "        else:\n",
    "            act = out.sample().numpy()\n",
    "        obs, rew, done, info = venv.step(act)\n",
    "        if done:\n",
    "            break\n",
    "\n"
   ]
  },
  {
   "cell_type": "code",
   "execution_count": 6,
   "metadata": {},
   "outputs": [
    {
     "ename": "NameError",
     "evalue": "name 'p' is not defined",
     "output_type": "error",
     "traceback": [
      "\u001b[0;31m---------------------------------------------------------------------------\u001b[0m",
      "\u001b[0;31mNameError\u001b[0m                                 Traceback (most recent call last)",
      "\u001b[1;32m/home/gearspark/Projects/ai-safety-camp-2024-model-agents/notebooks/maze_linear_probe.ipynb Cell 7\u001b[0m line \u001b[0;36m2\n\u001b[1;32m      <a href='vscode-notebook-cell:/home/gearspark/Projects/ai-safety-camp-2024-model-agents/notebooks/maze_linear_probe.ipynb#X12sZmlsZQ%3D%3D?line=0'>1</a>\u001b[0m \u001b[39m# Run a test episode\u001b[39;00m\n\u001b[0;32m----> <a href='vscode-notebook-cell:/home/gearspark/Projects/ai-safety-camp-2024-model-agents/notebooks/maze_linear_probe.ipynb#X12sZmlsZQ%3D%3D?line=1'>2</a>\u001b[0m run_episode(policy, maze_test_env)\n",
      "\u001b[1;32m/home/gearspark/Projects/ai-safety-camp-2024-model-agents/notebooks/maze_linear_probe.ipynb Cell 7\u001b[0m line \u001b[0;36m1\n\u001b[1;32m     <a href='vscode-notebook-cell:/home/gearspark/Projects/ai-safety-camp-2024-model-agents/notebooks/maze_linear_probe.ipynb#X12sZmlsZQ%3D%3D?line=10'>11</a>\u001b[0m probs, _ \u001b[39m=\u001b[39m model(torch\u001b[39m.\u001b[39mFloatTensor(obs))\n\u001b[1;32m     <a href='vscode-notebook-cell:/home/gearspark/Projects/ai-safety-camp-2024-model-agents/notebooks/maze_linear_probe.ipynb#X12sZmlsZQ%3D%3D?line=11'>12</a>\u001b[0m \u001b[39mif\u001b[39;00m argmax:\n\u001b[0;32m---> <a href='vscode-notebook-cell:/home/gearspark/Projects/ai-safety-camp-2024-model-agents/notebooks/maze_linear_probe.ipynb#X12sZmlsZQ%3D%3D?line=12'>13</a>\u001b[0m     act \u001b[39m=\u001b[39m p\u001b[39m.\u001b[39mprobs\u001b[39m.\u001b[39margmax(dim\u001b[39m=\u001b[39m\u001b[39m-\u001b[39m\u001b[39m1\u001b[39m)\u001b[39m.\u001b[39mnumpy()\n\u001b[1;32m     <a href='vscode-notebook-cell:/home/gearspark/Projects/ai-safety-camp-2024-model-agents/notebooks/maze_linear_probe.ipynb#X12sZmlsZQ%3D%3D?line=13'>14</a>\u001b[0m \u001b[39melse\u001b[39;00m:\n\u001b[1;32m     <a href='vscode-notebook-cell:/home/gearspark/Projects/ai-safety-camp-2024-model-agents/notebooks/maze_linear_probe.ipynb#X12sZmlsZQ%3D%3D?line=14'>15</a>\u001b[0m     act \u001b[39m=\u001b[39m p\u001b[39m.\u001b[39msample()\u001b[39m.\u001b[39mnumpy()\n",
      "\u001b[0;31mNameError\u001b[0m: name 'p' is not defined"
     ]
    }
   ],
   "source": [
    "# Run a test episode\n",
    "run_episode(policy, maze_test_env)"
   ]
  },
  {
   "cell_type": "code",
   "execution_count": null,
   "metadata": {},
   "outputs": [],
   "source": []
  }
 ],
 "metadata": {
  "kernelspec": {
   "display_name": "Python 3 (ipykernel)",
   "language": "python",
   "name": "python3"
  },
  "language_info": {
   "codemirror_mode": {
    "name": "ipython",
    "version": 3
   },
   "file_extension": ".py",
   "mimetype": "text/x-python",
   "name": "python",
   "nbconvert_exporter": "python",
   "pygments_lexer": "ipython3",
   "version": "3.10.13"
  }
 },
 "nbformat": 4,
 "nbformat_minor": 4
}
