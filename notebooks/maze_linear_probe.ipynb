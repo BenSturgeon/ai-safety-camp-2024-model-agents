{
 "cells": [
  {
   "cell_type": "markdown",
   "metadata": {},
   "source": [
    "# Linear Probe Experiments\n",
    "A first try at generating data in a procgen maze environment, and using that to construct a linear probe to detect a \"cheese signal\" in the neural network layers of a pre-trained RL agent. \n",
    "\n",
    "## Initialize Gym Environment"
   ]
  },
  {
   "cell_type": "code",
   "execution_count": 66,
   "metadata": {},
   "outputs": [],
   "source": [
    "import torch\n",
    "import numpy as np\n",
    "from tqdm import tqdm\n",
    "from procgen import ProcgenGym3Env\n",
    "from procgen_tools import maze\n",
    "from procgen_tools.models import load_policy\n",
    "from procgen_tools import maze as maze_api"
   ]
  },
  {
   "cell_type": "code",
   "execution_count": 107,
   "metadata": {},
   "outputs": [
    {
     "data": {
      "text/plain": [
       "dict_keys(['prev_level_seed', 'prev_level_complete', 'level_seed', 'rgb'])"
      ]
     },
     "execution_count": 107,
     "metadata": {},
     "output_type": "execute_result"
    }
   ],
   "source": [
    "seed = 4242\n",
    "maze_test_env = ProcgenGym3Env(\n",
    "    num=1,\n",
    "    env_name='maze', num_levels=1, start_level=seed,\n",
    "    distribution_mode='hard', num_threads=4, render_mode=\"rgb_array\",\n",
    ")\n",
    "maze_test_env.get_info()[0].keys()"
   ]
  },
  {
   "cell_type": "markdown",
   "metadata": {},
   "source": [
    "## Load Agent\n",
    "Download one of the agents from the [trained model files](https://drive.google.com/drive/folders/1Ig7bzRlieyYFcdKL_PM-guSWR8WryDOL). I used `maze_I/model_rand_region_5` without knowing about the performance of this agent. Do not forget to rename the model file or change the filename below."
   ]
  },
  {
   "cell_type": "code",
   "execution_count": 64,
   "metadata": {},
   "outputs": [],
   "source": [
    "policy = load_policy('model_rand.pth', action_size=15, device=torch.device('cpu'))"
   ]
  },
  {
   "cell_type": "markdown",
   "metadata": {},
   "source": [
    "## Run Episodes"
   ]
  },
  {
   "cell_type": "code",
   "execution_count": 65,
   "metadata": {},
   "outputs": [],
   "source": [
    "def run_episode(model, maze_environment, argmax=True, max_time_steps=256):\n",
    "    observations = []\n",
    "    rewards = []\n",
    "    dones = []\n",
    "    info_list = []\n",
    "    \n",
    "    def log(o, r, d, i):\n",
    "        observations.append(o)\n",
    "        rewards.append(r)\n",
    "        dones.append(d)\n",
    "        info_list.append(i)\n",
    "\n",
    "    model.eval()  # Switch off gradient tracking and other training time mechanisms\n",
    "    obs = venv.reset()\n",
    "\n",
    "    for step in range(max_time_steps):\n",
    "        out, _ = model(torch.FloatTensor(obs))\n",
    "        if argmax:\n",
    "            act = out.probs.argmax(dim=-1).numpy()\n",
    "        else:\n",
    "            act = out.sample().numpy()\n",
    "        obs, rew, done, info = venv.step(act)\n",
    "        log(obs, rew, done, info)\n",
    "        if done:\n",
    "            break\n",
    "\n",
    "    return observations, rewards, dones, info_list\n",
    "\n"
   ]
  },
  {
   "cell_type": "code",
   "execution_count": 59,
   "metadata": {},
   "outputs": [],
   "source": [
    "# Run a test episode\n",
    "obs, rews, ds, infs = run_episode(policy, maze_test_env)"
   ]
  },
  {
   "cell_type": "code",
   "execution_count": 63,
   "metadata": {},
   "outputs": [
    {
     "name": "stdout",
     "output_type": "stream",
     "text": [
      "n obs: 7, n rewards: 7, total reward: [10.], level complete: [ True], seed: 4242\n"
     ]
    }
   ],
   "source": [
    "print(f\"n obs: {len(obs)}, n rewards: {len(rews)}, total reward: {sum(rews)}, level complete: {ds[-1]}, seed: {seed}\")"
   ]
  },
  {
   "cell_type": "markdown",
   "metadata": {},
   "source": [
    "## Gathering Training Data\n",
    "To gather training data we need to run multiple episodes and store the activations of the model alongside the environment parameters. Procgen-tools provides some convenience functions to make this easier."
   ]
  },
  {
   "cell_type": "code",
   "execution_count": 108,
   "metadata": {},
   "outputs": [],
   "source": [
    "def generate_maze_training_data(model, n_episodes):\n",
    "    max_seed = int(1e9)\n",
    "    seeds = np.random.default_rng().choice(max_seed, size=n_episodes, replace=False)\n",
    "\n",
    "    for seed in tqdm(seeds):\n",
    "        environment = ProcgenGym3Env(\n",
    "            num=1, env_name='maze', num_levels=1, start_level=int(seed),\n",
    "            distribution_mode='hard', num_threads=4, render_mode=\"rgb_array\"\n",
    "        )\n",
    "        assert environment.options[\"env_name\"] == \"maze\"  # Only maze is supported because of maze wrapper\n",
    "        environment = maze_api.wrap_venv(environment)\n",
    "\n",
    "        obs, rews, ds, infs = run_episode(model, environment)        \n"
   ]
  },
  {
   "cell_type": "code",
   "execution_count": 109,
   "metadata": {},
   "outputs": [
    {
     "name": "stderr",
     "output_type": "stream",
     "text": [
      "  0%|          | 0/10 [00:00<?, ?it/s]\n"
     ]
    },
    {
     "ename": "AttributeError",
     "evalue": "'ToBaselinesVecEnv' object has no attribute 'ob_space'",
     "output_type": "error",
     "traceback": [
      "\u001b[0;31m---------------------------------------------------------------------------\u001b[0m",
      "\u001b[0;31mAttributeError\u001b[0m                            Traceback (most recent call last)",
      "\u001b[1;32m/home/gearspark/Projects/ai-safety-camp-2024-model-agents/notebooks/maze_linear_probe.ipynb Cell 12\u001b[0m line \u001b[0;36m1\n\u001b[0;32m----> <a href='vscode-notebook-cell:/home/gearspark/Projects/ai-safety-camp-2024-model-agents/notebooks/maze_linear_probe.ipynb#X23sZmlsZQ%3D%3D?line=0'>1</a>\u001b[0m generate_maze_training_data(policy, \u001b[39m10\u001b[39;49m)\n",
      "\u001b[1;32m/home/gearspark/Projects/ai-safety-camp-2024-model-agents/notebooks/maze_linear_probe.ipynb Cell 12\u001b[0m line \u001b[0;36m1\n\u001b[1;32m     <a href='vscode-notebook-cell:/home/gearspark/Projects/ai-safety-camp-2024-model-agents/notebooks/maze_linear_probe.ipynb#X23sZmlsZQ%3D%3D?line=9'>10</a>\u001b[0m \u001b[39massert\u001b[39;00m environment\u001b[39m.\u001b[39moptions[\u001b[39m\"\u001b[39m\u001b[39menv_name\u001b[39m\u001b[39m\"\u001b[39m] \u001b[39m==\u001b[39m \u001b[39m\"\u001b[39m\u001b[39mmaze\u001b[39m\u001b[39m\"\u001b[39m  \u001b[39m# Only maze is supported because of maze wrapper\u001b[39;00m\n\u001b[1;32m     <a href='vscode-notebook-cell:/home/gearspark/Projects/ai-safety-camp-2024-model-agents/notebooks/maze_linear_probe.ipynb#X23sZmlsZQ%3D%3D?line=10'>11</a>\u001b[0m environment \u001b[39m=\u001b[39m maze_api\u001b[39m.\u001b[39mwrap_venv(environment)\n\u001b[0;32m---> <a href='vscode-notebook-cell:/home/gearspark/Projects/ai-safety-camp-2024-model-agents/notebooks/maze_linear_probe.ipynb#X23sZmlsZQ%3D%3D?line=12'>13</a>\u001b[0m obs, rews, ds, infs \u001b[39m=\u001b[39m run_episode(model, environment)\n",
      "\u001b[1;32m/home/gearspark/Projects/ai-safety-camp-2024-model-agents/notebooks/maze_linear_probe.ipynb Cell 12\u001b[0m line \u001b[0;36m3\n\u001b[1;32m      <a href='vscode-notebook-cell:/home/gearspark/Projects/ai-safety-camp-2024-model-agents/notebooks/maze_linear_probe.ipynb#X23sZmlsZQ%3D%3D?line=0'>1</a>\u001b[0m \u001b[39mdef\u001b[39;00m \u001b[39mrun_episode\u001b[39m(model, maze_environment, argmax\u001b[39m=\u001b[39m\u001b[39mTrue\u001b[39;00m, max_time_steps\u001b[39m=\u001b[39m\u001b[39m256\u001b[39m):\n\u001b[1;32m      <a href='vscode-notebook-cell:/home/gearspark/Projects/ai-safety-camp-2024-model-agents/notebooks/maze_linear_probe.ipynb#X23sZmlsZQ%3D%3D?line=1'>2</a>\u001b[0m     \u001b[39massert\u001b[39;00m maze_test_env\u001b[39m.\u001b[39moptions[\u001b[39m\"\u001b[39m\u001b[39menv_name\u001b[39m\u001b[39m\"\u001b[39m] \u001b[39m==\u001b[39m \u001b[39m\"\u001b[39m\u001b[39mmaze\u001b[39m\u001b[39m\"\u001b[39m  \u001b[39m# Only maze is supported because of maze wrapper\u001b[39;00m\n\u001b[0;32m----> <a href='vscode-notebook-cell:/home/gearspark/Projects/ai-safety-camp-2024-model-agents/notebooks/maze_linear_probe.ipynb#X23sZmlsZQ%3D%3D?line=2'>3</a>\u001b[0m     venv \u001b[39m=\u001b[39m maze_api\u001b[39m.\u001b[39;49mwrap_venv(maze_environment)\n\u001b[1;32m      <a href='vscode-notebook-cell:/home/gearspark/Projects/ai-safety-camp-2024-model-agents/notebooks/maze_linear_probe.ipynb#X23sZmlsZQ%3D%3D?line=4'>5</a>\u001b[0m     observations \u001b[39m=\u001b[39m []\n\u001b[1;32m      <a href='vscode-notebook-cell:/home/gearspark/Projects/ai-safety-camp-2024-model-agents/notebooks/maze_linear_probe.ipynb#X23sZmlsZQ%3D%3D?line=5'>6</a>\u001b[0m     rewards \u001b[39m=\u001b[39m []\n",
      "File \u001b[0;32m~/Projects/ai-safety-camp-2024-model-agents/venv/lib/python3.10/site-packages/procgen_tools/maze.py:1252\u001b[0m, in \u001b[0;36mwrap_venv\u001b[0;34m(venv)\u001b[0m\n\u001b[1;32m   1249\u001b[0m \u001b[39m\"\u001b[39m\u001b[39mWrap a vectorized env, making it compatible with the gym apis, transposing, scaling, etc.\u001b[39m\u001b[39m\"\u001b[39m\n\u001b[1;32m   1250\u001b[0m \u001b[39m# TODO: Move this to another file (same thing is used for coinrun)\u001b[39;00m\n\u001b[0;32m-> 1252\u001b[0m venv \u001b[39m=\u001b[39m ToBaselinesVecEnv(venv)  \u001b[39m# gym3 env to gym env converter\u001b[39;00m\n\u001b[1;32m   1253\u001b[0m venv \u001b[39m=\u001b[39m VecExtractDictObs(venv, \u001b[39m\"\u001b[39m\u001b[39mrgb\u001b[39m\u001b[39m\"\u001b[39m)\n\u001b[1;32m   1255\u001b[0m venv \u001b[39m=\u001b[39m TransposeFrame(venv)\n",
      "File \u001b[0;32m~/Projects/ai-safety-camp-2024-model-agents/venv/lib/python3.10/site-packages/gym3/interop.py:310\u001b[0m, in \u001b[0;36mToBaselinesVecEnv.__init__\u001b[0;34m(self, env)\u001b[0m\n\u001b[1;32m    308\u001b[0m \u001b[39mdef\u001b[39;00m \u001b[39m__init__\u001b[39m(\u001b[39mself\u001b[39m, env):\n\u001b[1;32m    309\u001b[0m     \u001b[39mself\u001b[39m\u001b[39m.\u001b[39menv \u001b[39m=\u001b[39m env\n\u001b[0;32m--> 310\u001b[0m     \u001b[39mself\u001b[39m\u001b[39m.\u001b[39mobservation_space \u001b[39m=\u001b[39m _vt2space(env\u001b[39m.\u001b[39;49mob_space)\n\u001b[1;32m    311\u001b[0m     \u001b[39mself\u001b[39m\u001b[39m.\u001b[39maction_space \u001b[39m=\u001b[39m _vt2space(env\u001b[39m.\u001b[39mac_space)\n",
      "File \u001b[0;32m~/Projects/ai-safety-camp-2024-model-agents/venv/lib/python3.10/site-packages/procgen_tools/procgen_wrappers.py:182\u001b[0m, in \u001b[0;36mVecEnvWrapper.__getattr__\u001b[0;34m(self, name)\u001b[0m\n\u001b[1;32m    180\u001b[0m \u001b[39mif\u001b[39;00m name\u001b[39m.\u001b[39mstartswith(\u001b[39m'\u001b[39m\u001b[39m_\u001b[39m\u001b[39m'\u001b[39m):\n\u001b[1;32m    181\u001b[0m     \u001b[39mraise\u001b[39;00m \u001b[39mAttributeError\u001b[39;00m(\u001b[39m\"\u001b[39m\u001b[39mattempted to get missing private attribute \u001b[39m\u001b[39m'\u001b[39m\u001b[39m{}\u001b[39;00m\u001b[39m'\u001b[39m\u001b[39m\"\u001b[39m\u001b[39m.\u001b[39mformat(name))\n\u001b[0;32m--> 182\u001b[0m \u001b[39mreturn\u001b[39;00m \u001b[39mgetattr\u001b[39;49m(\u001b[39mself\u001b[39;49m\u001b[39m.\u001b[39;49mvenv, name)\n",
      "File \u001b[0;32m~/Projects/ai-safety-camp-2024-model-agents/venv/lib/python3.10/site-packages/procgen_tools/procgen_wrappers.py:182\u001b[0m, in \u001b[0;36mVecEnvWrapper.__getattr__\u001b[0;34m(self, name)\u001b[0m\n\u001b[1;32m    180\u001b[0m \u001b[39mif\u001b[39;00m name\u001b[39m.\u001b[39mstartswith(\u001b[39m'\u001b[39m\u001b[39m_\u001b[39m\u001b[39m'\u001b[39m):\n\u001b[1;32m    181\u001b[0m     \u001b[39mraise\u001b[39;00m \u001b[39mAttributeError\u001b[39;00m(\u001b[39m\"\u001b[39m\u001b[39mattempted to get missing private attribute \u001b[39m\u001b[39m'\u001b[39m\u001b[39m{}\u001b[39;00m\u001b[39m'\u001b[39m\u001b[39m\"\u001b[39m\u001b[39m.\u001b[39mformat(name))\n\u001b[0;32m--> 182\u001b[0m \u001b[39mreturn\u001b[39;00m \u001b[39mgetattr\u001b[39;49m(\u001b[39mself\u001b[39;49m\u001b[39m.\u001b[39;49mvenv, name)\n",
      "File \u001b[0;32m~/Projects/ai-safety-camp-2024-model-agents/venv/lib/python3.10/site-packages/procgen_tools/procgen_wrappers.py:182\u001b[0m, in \u001b[0;36mVecEnvWrapper.__getattr__\u001b[0;34m(self, name)\u001b[0m\n\u001b[1;32m    180\u001b[0m \u001b[39mif\u001b[39;00m name\u001b[39m.\u001b[39mstartswith(\u001b[39m'\u001b[39m\u001b[39m_\u001b[39m\u001b[39m'\u001b[39m):\n\u001b[1;32m    181\u001b[0m     \u001b[39mraise\u001b[39;00m \u001b[39mAttributeError\u001b[39;00m(\u001b[39m\"\u001b[39m\u001b[39mattempted to get missing private attribute \u001b[39m\u001b[39m'\u001b[39m\u001b[39m{}\u001b[39;00m\u001b[39m'\u001b[39m\u001b[39m\"\u001b[39m\u001b[39m.\u001b[39mformat(name))\n\u001b[0;32m--> 182\u001b[0m \u001b[39mreturn\u001b[39;00m \u001b[39mgetattr\u001b[39;49m(\u001b[39mself\u001b[39;49m\u001b[39m.\u001b[39;49mvenv, name)\n",
      "\u001b[0;31mAttributeError\u001b[0m: 'ToBaselinesVecEnv' object has no attribute 'ob_space'"
     ]
    }
   ],
   "source": [
    "generate_maze_training_data(policy, 10)"
   ]
  },
  {
   "cell_type": "code",
   "execution_count": null,
   "metadata": {},
   "outputs": [],
   "source": []
  }
 ],
 "metadata": {
  "kernelspec": {
   "display_name": "Python 3 (ipykernel)",
   "language": "python",
   "name": "python3"
  },
  "language_info": {
   "codemirror_mode": {
    "name": "ipython",
    "version": 3
   },
   "file_extension": ".py",
   "mimetype": "text/x-python",
   "name": "python",
   "nbconvert_exporter": "python",
   "pygments_lexer": "ipython3",
   "version": "3.10.13"
  }
 },
 "nbformat": 4,
 "nbformat_minor": 4
}
