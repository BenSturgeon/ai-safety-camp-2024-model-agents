{
 "cells": [
  {
   "cell_type": "code",
   "execution_count": 1,
   "metadata": {},
   "outputs": [],
   "source": [
    "import gym\n",
    "from stable_baselines3 import PPO\n",
    "from stable_baselines3.common.vec_env import VecMonitor, VecFrameStack, DummyVecEnv\n",
    "\n",
    "from stable_baselines3.common.env_util import make_vec_env\n",
    "from stable_baselines3.common.evaluation import evaluate_policy\n",
    "from stable_baselines3.common.callbacks import CheckpointCallback\n",
    "import torch\n",
    "\n",
    "\n",
    "import sys\n",
    "sys.path.append('../') #This is added so we can import from the source folder\n",
    "from src.policies import ImpalaCNN\n",
    "\n",
    "def make_procgen_env(env_name, num_envs=1, start_level=0, num_levels=0):\n",
    "    def _init():\n",
    "        \n",
    "        return env\n",
    "    return DummyVecEnv([_init] * num_envs)\n",
    "\n",
    "env_name = \"procgen:procgen-heist-v0\"  \n",
    "\n",
    "\n",
    "\n",
    "env = gym.make(env_name, start_level=100, num_levels=200, render_mode=\"rgb_array\", distribution_mode=\"easy\") #remove render mode argument to go faster but not produce images \n",
    "\n"
   ]
  },
  {
   "cell_type": "code",
   "execution_count": 72,
   "metadata": {},
   "outputs": [],
   "source": [
    "def load_model(model_path = '../model_1400_latest.pt'):\n",
    "    observation_space = env.observation_space\n",
    "    action_space = env.action_space.n\n",
    "    model = ImpalaCNN(observation_space, action_space)\n",
    "    model.load_from_file(model_path, device=\"cpu\")\n",
    "    return model\n"
   ]
  },
  {
   "cell_type": "code",
   "execution_count": 51,
   "metadata": {},
   "outputs": [],
   "source": [
    "@torch.no_grad()\n",
    "def generate_action(model, observation):\n",
    "    observation = torch.tensor(observation, dtype=torch.float32).unsqueeze(0)\n",
    "\n",
    "    model_output = model(observation)\n",
    "    \n",
    "    logits = model_output[0].logits  # discard the output of the critic in our actor critic network\n",
    "    \n",
    "    probabilities = torch.softmax(logits, dim=-1)\n",
    "    \n",
    "    action = torch.multinomial(probabilities, 1).item() \n",
    "    return action\n"
   ]
  },
  {
   "cell_type": "code",
   "execution_count": null,
   "metadata": {},
   "outputs": [],
   "source": [
    "\n"
   ]
  },
  {
   "cell_type": "code",
   "execution_count": 52,
   "metadata": {},
   "outputs": [
    {
     "name": "stdout",
     "output_type": "stream",
     "text": [
      "Episode 1 finished with total reward: 10.0\n",
      "Episode 2 finished with total reward: 10.0\n",
      "Episode 3 finished with total reward: 10.0\n"
     ]
    }
   ],
   "source": [
    "import torch\n",
    "import imageio\n",
    "\n",
    "\n",
    "frames = []\n",
    "observations =[]\n",
    "def run_episode_and_save_as_gif(env, model, filepath='../gifs/run.gif', save_gif=False):\n",
    "\n",
    "    observation = env.reset()\n",
    "    done = False\n",
    "    total_reward = 0\n",
    "    observations.append(observation)\n",
    "\n",
    "    while not done:\n",
    "        if save_gif:\n",
    "            frames.append(env.render(mode='rgb_array'))  \n",
    "        action = generate_action(model, observation)  \n",
    "        observation, reward, done, info = env.step(action)\n",
    "        total_reward += reward\n",
    "\n",
    "    if save_gif:\n",
    "        imageio.mimsave(filepath, frames, fps=30) \n",
    "\n",
    "    return total_reward, frames \n",
    "\n",
    "\n",
    "save_gif_option = True  \n",
    "\n",
    "for episode in range(3):\n",
    "    total_reward, _ = run_episode_and_save_as_gif(env, model, filepath=f'episode_mod_2_{episode+1}.gif', save_gif=save_gif_option)\n",
    "    print(f\"Episode {episode + 1} finished with total reward: {total_reward}\")\n"
   ]
  },
  {
   "cell_type": "code",
   "execution_count": 61,
   "metadata": {},
   "outputs": [
    {
     "data": {
      "text/plain": [
       "ImpalaCNN(\n",
       "  (conv_seqs): ModuleList(\n",
       "    (0): ConvSequence(\n",
       "      (conv): Conv2d(3, 16, kernel_size=(3, 3), stride=(1, 1), padding=(1, 1))\n",
       "      (max_pool2d): MaxPool2d(kernel_size=3, stride=2, padding=1, dilation=1, ceil_mode=False)\n",
       "      (res_block0): ResidualBlock(\n",
       "        (conv0): Conv2d(16, 16, kernel_size=(3, 3), stride=(1, 1), padding=(1, 1))\n",
       "        (conv1): Conv2d(16, 16, kernel_size=(3, 3), stride=(1, 1), padding=(1, 1))\n",
       "      )\n",
       "      (res_block1): ResidualBlock(\n",
       "        (conv0): Conv2d(16, 16, kernel_size=(3, 3), stride=(1, 1), padding=(1, 1))\n",
       "        (conv1): Conv2d(16, 16, kernel_size=(3, 3), stride=(1, 1), padding=(1, 1))\n",
       "      )\n",
       "    )\n",
       "    (1): ConvSequence(\n",
       "      (conv): Conv2d(16, 32, kernel_size=(3, 3), stride=(1, 1), padding=(1, 1))\n",
       "      (max_pool2d): MaxPool2d(kernel_size=3, stride=2, padding=1, dilation=1, ceil_mode=False)\n",
       "      (res_block0): ResidualBlock(\n",
       "        (conv0): Conv2d(32, 32, kernel_size=(3, 3), stride=(1, 1), padding=(1, 1))\n",
       "        (conv1): Conv2d(32, 32, kernel_size=(3, 3), stride=(1, 1), padding=(1, 1))\n",
       "      )\n",
       "      (res_block1): ResidualBlock(\n",
       "        (conv0): Conv2d(32, 32, kernel_size=(3, 3), stride=(1, 1), padding=(1, 1))\n",
       "        (conv1): Conv2d(32, 32, kernel_size=(3, 3), stride=(1, 1), padding=(1, 1))\n",
       "      )\n",
       "    )\n",
       "    (2): ConvSequence(\n",
       "      (conv): Conv2d(32, 32, kernel_size=(3, 3), stride=(1, 1), padding=(1, 1))\n",
       "      (max_pool2d): MaxPool2d(kernel_size=3, stride=2, padding=1, dilation=1, ceil_mode=False)\n",
       "      (res_block0): ResidualBlock(\n",
       "        (conv0): Conv2d(32, 32, kernel_size=(3, 3), stride=(1, 1), padding=(1, 1))\n",
       "        (conv1): Conv2d(32, 32, kernel_size=(3, 3), stride=(1, 1), padding=(1, 1))\n",
       "      )\n",
       "      (res_block1): ResidualBlock(\n",
       "        (conv0): Conv2d(32, 32, kernel_size=(3, 3), stride=(1, 1), padding=(1, 1))\n",
       "        (conv1): Conv2d(32, 32, kernel_size=(3, 3), stride=(1, 1), padding=(1, 1))\n",
       "      )\n",
       "    )\n",
       "  )\n",
       "  (hidden_fc): Linear(in_features=2048, out_features=256, bias=True)\n",
       "  (logits_fc): Linear(in_features=256, out_features=15, bias=True)\n",
       "  (value_fc): Linear(in_features=256, out_features=1, bias=True)\n",
       ")"
      ]
     },
     "execution_count": 61,
     "metadata": {},
     "output_type": "execute_result"
    }
   ],
   "source": [
    "model"
   ]
  },
  {
   "cell_type": "code",
   "execution_count": 102,
   "metadata": {},
   "outputs": [],
   "source": [
    "import torch\n",
    "\n",
    "activations = {}\n",
    "\n",
    "def get_activation(name):\n",
    "    def hook(model, input, output):\n",
    "        # Initialize a placeholder for processed output\n",
    "        processed_output = []\n",
    "        \n",
    "        for item in output:\n",
    "            # Check if the item is a tensor and detach it\n",
    "            if isinstance(item, torch.Tensor):\n",
    "                processed_output.append(item.detach())\n",
    "            # If the item is a Categorical, you might want to extract its logits or probs\n",
    "            elif isinstance(item, torch.distributions.Categorical):\n",
    "                processed_output.append(item.logits.detach())\n",
    "            else:\n",
    "                # Handle other types as necessary\n",
    "                processed_output.append(item)\n",
    "        \n",
    "        # Save the processed output in the activations dictionary\n",
    "        activations[name] = tuple(processed_output)\n",
    "    return hook\n",
    "\n",
    "\n",
    "model = load_model()\n",
    "\n",
    "\n",
    "# Attach the hook to a specific layer, e.g., model.layer1\n",
    "# model.register_forward_hook(get_activation('conv_seqs.0'))\n",
    "model.conv_seqs[0].conv.register_forward_hook(get_activation('conv_seqs.0.conv'))\n",
    "\n",
    "# Adjust the layer path to match the next layer you are interested in\n",
    "model.conv_seqs[1].max_pool2d.register_forward_hook(get_activation('max_pool2d'))\n",
    "\n",
    "\n",
    "\n",
    "# Run your data through the model\n",
    "observation = torch.tensor(observations[0], dtype=torch.float32).unsqueeze(0)\n",
    "\n",
    "\n",
    "output = model(observation)\n",
    "\n",
    "# Now, activations['layer1'] contains the activations from layer1\n"
   ]
  },
  {
   "cell_type": "code",
   "execution_count": 106,
   "metadata": {},
   "outputs": [
    {
     "data": {
      "image/png": "[encoded data removed]",
      "text/plain": [
       "<Figure size 6400x200 with 32 Axes>"
      ]
     },
     "metadata": {},
     "output_type": "display_data"
    }
   ],
   "source": [
    "import matplotlib.pyplot as plt\n",
    "import seaborn as sns\n",
    "\n",
    "# Get the activations for the first item in the batch from the specified layer\n",
    "activations_tensor = activations['max_pool2d'][0].cpu().numpy()\n",
    "\n",
    "# Assuming the tensor is 4D, iterate over the filters/channels\n",
    "num_filters = activations_tensor.shape[0]\n",
    "fig, axes = plt.subplots(1, num_filters, figsize=(num_filters * 2, 2))\n",
    "\n",
    "for i in range(num_filters):\n",
    "    activation_map = activations_tensor[i, :, :]\n",
    "    sns.heatmap(activation_map, ax=axes[i], cbar=False)\n",
    "    axes[i].axis('off')  # Turn off the axis labels\n",
    "    axes[i].set_title(f'Filter {i+1}')  # Set title to be the filter number\n",
    "\n",
    "plt.tight_layout()\n",
    "plt.show()\n"
   ]
  },
  {
   "cell_type": "code",
   "execution_count": 62,
   "metadata": {},
   "outputs": [
    {
     "name": "stdout",
     "output_type": "stream",
     "text": [
      "['', 'conv_seqs', 'conv_seqs.0', 'conv_seqs.0.conv', 'conv_seqs.0.max_pool2d', 'conv_seqs.0.res_block0', 'conv_seqs.0.res_block0.conv0', 'conv_seqs.0.res_block0.conv1', 'conv_seqs.0.res_block1', 'conv_seqs.0.res_block1.conv0', 'conv_seqs.0.res_block1.conv1', 'conv_seqs.1', 'conv_seqs.1.conv', 'conv_seqs.1.max_pool2d', 'conv_seqs.1.res_block0', 'conv_seqs.1.res_block0.conv0', 'conv_seqs.1.res_block0.conv1', 'conv_seqs.1.res_block1', 'conv_seqs.1.res_block1.conv0', 'conv_seqs.1.res_block1.conv1', 'conv_seqs.2', 'conv_seqs.2.conv', 'conv_seqs.2.max_pool2d', 'conv_seqs.2.res_block0', 'conv_seqs.2.res_block0.conv0', 'conv_seqs.2.res_block0.conv1', 'conv_seqs.2.res_block1', 'conv_seqs.2.res_block1.conv0', 'conv_seqs.2.res_block1.conv1', 'hidden_fc']\n"
     ]
    }
   ],
   "source": [
    "def get_model_layer_names(model):\n",
    "    return [name for name, module in model.named_modules()]\n",
    "names = get_model_layer_names(model)\n",
    "print(names[:30])"
   ]
  },
  {
   "cell_type": "code",
   "execution_count": 25,
   "metadata": {},
   "outputs": [
    {
     "name": "stdout",
     "output_type": "stream",
     "text": [
      "Parameter name: conv_seqs.0.conv.weight, shape: torch.Size([16, 3, 3, 3])\n",
      "Parameter name: conv_seqs.0.conv.bias, shape: torch.Size([16])\n",
      "Parameter name: conv_seqs.0.res_block0.conv0.weight, shape: torch.Size([16, 16, 3, 3])\n",
      "Parameter name: conv_seqs.0.res_block0.conv0.bias, shape: torch.Size([16])\n",
      "Parameter name: conv_seqs.0.res_block0.conv1.weight, shape: torch.Size([16, 16, 3, 3])\n",
      "Parameter name: conv_seqs.0.res_block0.conv1.bias, shape: torch.Size([16])\n",
      "Parameter name: conv_seqs.0.res_block1.conv0.weight, shape: torch.Size([16, 16, 3, 3])\n",
      "Parameter name: conv_seqs.0.res_block1.conv0.bias, shape: torch.Size([16])\n",
      "Parameter name: conv_seqs.0.res_block1.conv1.weight, shape: torch.Size([16, 16, 3, 3])\n",
      "Parameter name: conv_seqs.0.res_block1.conv1.bias, shape: torch.Size([16])\n",
      "Parameter name: conv_seqs.1.conv.weight, shape: torch.Size([32, 16, 3, 3])\n",
      "Parameter name: conv_seqs.1.conv.bias, shape: torch.Size([32])\n",
      "Parameter name: conv_seqs.1.res_block0.conv0.weight, shape: torch.Size([32, 32, 3, 3])\n",
      "Parameter name: conv_seqs.1.res_block0.conv0.bias, shape: torch.Size([32])\n",
      "Parameter name: conv_seqs.1.res_block0.conv1.weight, shape: torch.Size([32, 32, 3, 3])\n",
      "Parameter name: conv_seqs.1.res_block0.conv1.bias, shape: torch.Size([32])\n",
      "Parameter name: conv_seqs.1.res_block1.conv0.weight, shape: torch.Size([32, 32, 3, 3])\n",
      "Parameter name: conv_seqs.1.res_block1.conv0.bias, shape: torch.Size([32])\n",
      "Parameter name: conv_seqs.1.res_block1.conv1.weight, shape: torch.Size([32, 32, 3, 3])\n",
      "Parameter name: conv_seqs.1.res_block1.conv1.bias, shape: torch.Size([32])\n",
      "Parameter name: conv_seqs.2.conv.weight, shape: torch.Size([32, 32, 3, 3])\n",
      "Parameter name: conv_seqs.2.conv.bias, shape: torch.Size([32])\n",
      "Parameter name: conv_seqs.2.res_block0.conv0.weight, shape: torch.Size([32, 32, 3, 3])\n",
      "Parameter name: conv_seqs.2.res_block0.conv0.bias, shape: torch.Size([32])\n",
      "Parameter name: conv_seqs.2.res_block0.conv1.weight, shape: torch.Size([32, 32, 3, 3])\n",
      "Parameter name: conv_seqs.2.res_block0.conv1.bias, shape: torch.Size([32])\n",
      "Parameter name: conv_seqs.2.res_block1.conv0.weight, shape: torch.Size([32, 32, 3, 3])\n",
      "Parameter name: conv_seqs.2.res_block1.conv0.bias, shape: torch.Size([32])\n",
      "Parameter name: conv_seqs.2.res_block1.conv1.weight, shape: torch.Size([32, 32, 3, 3])\n",
      "Parameter name: conv_seqs.2.res_block1.conv1.bias, shape: torch.Size([32])\n",
      "Parameter name: hidden_fc.weight, shape: torch.Size([256, 2048])\n",
      "Parameter name: hidden_fc.bias, shape: torch.Size([256])\n",
      "Parameter name: logits_fc.weight, shape: torch.Size([15, 256])\n",
      "Parameter name: logits_fc.bias, shape: torch.Size([15])\n",
      "Parameter name: value_fc.weight, shape: torch.Size([1, 256])\n",
      "Parameter name: value_fc.bias, shape: torch.Size([1])\n"
     ]
    }
   ],
   "source": [
    "for name, param in model.named_parameters():\n",
    "    print(f\"Parameter name: {name}, shape: {param.size()}\")"
   ]
  },
  {
   "cell_type": "code",
   "execution_count": null,
   "metadata": {},
   "outputs": [],
   "source": []
  }
 ],
 "metadata": {
  "kernelspec": {
   "display_name": "ai-safety-camp-Y8XZewIj-py3.10",
   "language": "python",
   "name": "python3"
  },
  "language_info": {
   "codemirror_mode": {
    "name": "ipython",
    "version": 3
   },
   "file_extension": ".py",
   "mimetype": "text/x-python",
   "name": "python",
   "nbconvert_exporter": "python",
   "pygments_lexer": "ipython3",
   "version": "3.10.12"
  }
 },
 "nbformat": 4,
 "nbformat_minor": 2
}
