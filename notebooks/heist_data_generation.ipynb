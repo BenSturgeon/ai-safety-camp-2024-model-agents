{
 "cells": [
  {
   "cell_type": "code",
   "execution_count": 13,
   "metadata": {},
   "outputs": [],
   "source": [
    "import gym\n",
    "from stable_baselines3 import PPO\n",
    "from stable_baselines3.common.vec_env import VecMonitor, VecFrameStack, DummyVecEnv\n",
    "\n",
    "from stable_baselines3.common.env_util import make_vec_env\n",
    "from stable_baselines3.common.evaluation import evaluate_policy\n",
    "from stable_baselines3.common.callbacks import CheckpointCallback\n",
    "import torch\n",
    "\n",
    "def make_procgen_env(env_name, num_envs=1, start_level=0, num_levels=0):\n",
    "    def _init():\n",
    "        \n",
    "        return env\n",
    "    return DummyVecEnv([_init] * num_envs)\n",
    "\n",
    "env_name = \"procgen:procgen-heist-v0\"  \n",
    "num_envs = 4 \n",
    "learning_rate = 3e-4\n",
    "n_steps = 2048\n",
    "batch_size = 64\n",
    "n_epochs = 10\n",
    "gamma = 0.99\n",
    "\n",
    "env = gym.make(env_name, start_level=0, num_levels=1, render_mode=\"rgb_array\")\n",
    "# env = make_procgen_env(env_name, num_envs)\n",
    "\n",
    "\n",
    "\n",
    "\n"
   ]
  },
  {
   "cell_type": "code",
   "execution_count": 14,
   "metadata": {},
   "outputs": [],
   "source": [
    "import sys\n",
    "sys.path.append('../') \n",
    "\n",
    "from src.policies import ImpalaCNN\n",
    "\n",
    "observation_space = env.observation_space\n",
    "\n",
    "action_space = env.action_space.n"
   ]
  },
  {
   "cell_type": "code",
   "execution_count": 15,
   "metadata": {},
   "outputs": [],
   "source": [
    "def load_pretrained_model(model_path):\n",
    "    model = ImpalaCNN(observation_space, action_space)\n",
    "    model_state_dict = torch.load(model_path, map_location=torch.device('cpu'))\n",
    "    model.state_dict = model_state_dict\n",
    "    model.eval()  \n",
    "    return model\n",
    "\n",
    "model_path = '../heist_model_final_easy.pt'\n",
    "model = load_pretrained_model(model_path)\n",
    "\n"
   ]
  },
  {
   "cell_type": "code",
   "execution_count": 19,
   "metadata": {},
   "outputs": [],
   "source": [
    "\n",
    "def generate_action(model, observation, device='cpu'):\n",
    "    observation = torch.tensor(observation, dtype=torch.float32).unsqueeze(0).to(device)\n",
    "    logits = model(observation)\n",
    "    print(logits)\n",
    "    probabilities = torch.softmax(logits, dim=-1)\n",
    "    action = probabilities.multinomial(num_samples=1).item()  # For single observation\n",
    "    return action\n",
    "\n"
   ]
  },
  {
   "cell_type": "code",
   "execution_count": 20,
   "metadata": {},
   "outputs": [
    {
     "data": {
      "text/plain": [
       "8"
      ]
     },
     "execution_count": 20,
     "metadata": {},
     "output_type": "execute_result"
    }
   ],
   "source": [
    "env.action_space.sample()"
   ]
  },
  {
   "cell_type": "code",
   "execution_count": 21,
   "metadata": {},
   "outputs": [
    {
     "name": "stdout",
     "output_type": "stream",
     "text": [
      "Warning: early reset ignored\n",
      "0\n",
      "(Categorical(logits: torch.Size([1, 15])), tensor([[0.0004]], grad_fn=<AddmmBackward0>))\n"
     ]
    },
    {
     "ename": "TypeError",
     "evalue": "softmax() received an invalid combination of arguments - got (tuple, dim=int), but expected one of:\n * (Tensor input, int dim, torch.dtype dtype, *, Tensor out)\n * (Tensor input, name dim, *, torch.dtype dtype)\n",
     "output_type": "error",
     "traceback": [
      "\u001b[0;31m---------------------------------------------------------------------------\u001b[0m",
      "\u001b[0;31mTypeError\u001b[0m                                 Traceback (most recent call last)",
      "\u001b[1;32m/Users/bensturgeon/werk/ai-safety-camp-2024-model-agents/notebooks/heist_training.ipynb Cell 6\u001b[0m line \u001b[0;36m1\n\u001b[1;32m     <a href='vscode-notebook-cell:/Users/bensturgeon/werk/ai-safety-camp-2024-model-agents/notebooks/heist_training.ipynb#X15sZmlsZQ%3D%3D?line=9'>10</a>\u001b[0m \u001b[39m# Generate a random action\u001b[39;00m\n\u001b[1;32m     <a href='vscode-notebook-cell:/Users/bensturgeon/werk/ai-safety-camp-2024-model-agents/notebooks/heist_training.ipynb#X15sZmlsZQ%3D%3D?line=10'>11</a>\u001b[0m \n\u001b[1;32m     <a href='vscode-notebook-cell:/Users/bensturgeon/werk/ai-safety-camp-2024-model-agents/notebooks/heist_training.ipynb#X15sZmlsZQ%3D%3D?line=11'>12</a>\u001b[0m \u001b[39m# Apply the action to the environment\u001b[39;00m\n\u001b[1;32m     <a href='vscode-notebook-cell:/Users/bensturgeon/werk/ai-safety-camp-2024-model-agents/notebooks/heist_training.ipynb#X15sZmlsZQ%3D%3D?line=12'>13</a>\u001b[0m observation, reward, done, info \u001b[39m=\u001b[39m env\u001b[39m.\u001b[39mstep(action)\n\u001b[0;32m---> <a href='vscode-notebook-cell:/Users/bensturgeon/werk/ai-safety-camp-2024-model-agents/notebooks/heist_training.ipynb#X15sZmlsZQ%3D%3D?line=13'>14</a>\u001b[0m action \u001b[39m=\u001b[39m generate_action(model, observation\u001b[39m=\u001b[39;49mobservation)\n\u001b[1;32m     <a href='vscode-notebook-cell:/Users/bensturgeon/werk/ai-safety-camp-2024-model-agents/notebooks/heist_training.ipynb#X15sZmlsZQ%3D%3D?line=16'>17</a>\u001b[0m \u001b[39m# Optionally render the environment\u001b[39;00m\n\u001b[1;32m     <a href='vscode-notebook-cell:/Users/bensturgeon/werk/ai-safety-camp-2024-model-agents/notebooks/heist_training.ipynb#X15sZmlsZQ%3D%3D?line=17'>18</a>\u001b[0m env\u001b[39m.\u001b[39mrender()\n",
      "\u001b[1;32m/Users/bensturgeon/werk/ai-safety-camp-2024-model-agents/notebooks/heist_training.ipynb Cell 6\u001b[0m line \u001b[0;36m5\n\u001b[1;32m      <a href='vscode-notebook-cell:/Users/bensturgeon/werk/ai-safety-camp-2024-model-agents/notebooks/heist_training.ipynb#X15sZmlsZQ%3D%3D?line=2'>3</a>\u001b[0m logits \u001b[39m=\u001b[39m model(observation)\n\u001b[1;32m      <a href='vscode-notebook-cell:/Users/bensturgeon/werk/ai-safety-camp-2024-model-agents/notebooks/heist_training.ipynb#X15sZmlsZQ%3D%3D?line=3'>4</a>\u001b[0m \u001b[39mprint\u001b[39m(logits)\n\u001b[0;32m----> <a href='vscode-notebook-cell:/Users/bensturgeon/werk/ai-safety-camp-2024-model-agents/notebooks/heist_training.ipynb#X15sZmlsZQ%3D%3D?line=4'>5</a>\u001b[0m probabilities \u001b[39m=\u001b[39m torch\u001b[39m.\u001b[39;49msoftmax(logits, dim\u001b[39m=\u001b[39;49m\u001b[39m-\u001b[39;49m\u001b[39m1\u001b[39;49m)\n\u001b[1;32m      <a href='vscode-notebook-cell:/Users/bensturgeon/werk/ai-safety-camp-2024-model-agents/notebooks/heist_training.ipynb#X15sZmlsZQ%3D%3D?line=5'>6</a>\u001b[0m action \u001b[39m=\u001b[39m probabilities\u001b[39m.\u001b[39mmultinomial(num_samples\u001b[39m=\u001b[39m\u001b[39m1\u001b[39m)\u001b[39m.\u001b[39mitem()  \u001b[39m# For single observation\u001b[39;00m\n\u001b[1;32m      <a href='vscode-notebook-cell:/Users/bensturgeon/werk/ai-safety-camp-2024-model-agents/notebooks/heist_training.ipynb#X15sZmlsZQ%3D%3D?line=6'>7</a>\u001b[0m \u001b[39mreturn\u001b[39;00m action\n",
      "\u001b[0;31mTypeError\u001b[0m: softmax() received an invalid combination of arguments - got (tuple, dim=int), but expected one of:\n * (Tensor input, int dim, torch.dtype dtype, *, Tensor out)\n * (Tensor input, name dim, *, torch.dtype dtype)\n"
     ]
    }
   ],
   "source": [
    "observation = env.reset()\n",
    "done = False\n",
    "\n",
    "action = env.action_space.sample()\n",
    "\n",
    "\n",
    "counter = 0 \n",
    "while not done:\n",
    "    print(counter)\n",
    "    # Generate a random action\n",
    "    \n",
    "    # Apply the action to the environment\n",
    "    observation, reward, done, info = env.step(action)\n",
    "    action = generate_action(model, observation=observation)\n",
    "\n",
    "    \n",
    "    # Optionaly render the environment\n",
    "    env.render()\n",
    "    "
   ]
  },
  {
   "cell_type": "code",
   "execution_count": null,
   "metadata": {},
   "outputs": [],
   "source": []
  }
 ],
 "metadata": {
  "kernelspec": {
   "display_name": "ai-safety-camp-Y8XZewIj-py3.10",
   "language": "python",
   "name": "python3"
  },
  "language_info": {
   "codemirror_mode": {
    "name": "ipython",
    "version": 3
   },
   "file_extension": ".py",
   "mimetype": "text/x-python",
   "name": "python",
   "nbconvert_exporter": "python",
   "pygments_lexer": "ipython3",
   "version": "3.10.12"
  }
 },
 "nbformat": 4,
 "nbformat_minor": 2
}
