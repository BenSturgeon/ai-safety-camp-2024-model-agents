{
 "cells": [
  {
   "cell_type": "code",
   "execution_count": 5,
   "metadata": {},
   "outputs": [],
   "source": [
    "import gym\n",
    "from stable_baselines3 import PPO\n",
    "from stable_baselines3.common.vec_env import VecMonitor, VecFrameStack, DummyVecEnv\n",
    "\n",
    "from stable_baselines3.common.env_util import make_vec_env\n",
    "from stable_baselines3.common.evaluation import evaluate_policy\n",
    "from stable_baselines3.common.callbacks import CheckpointCallback\n",
    "import torch\n",
    "\n",
    "\n",
    "import sys\n",
    "sys.path.append('../') #This is added so we can import from the source folder\n",
    "from src.policies import ImpalaCNN\n",
    "\n",
    "def make_procgen_env(env_name, num_envs=1, start_level=0, num_levels=0):\n",
    "    def _init():\n",
    "        \n",
    "        return env\n",
    "    return DummyVecEnv([_init] * num_envs)\n",
    "\n",
    "env_name = \"procgen:procgen-heist-v0\"  \n",
    "\n",
    "\n",
    "\n",
    "env = gym.make(env_name, start_level=100, num_levels=200, render_mode=\"rgb_array\", distribution_mode=\"easy\") #remove render mode argument to go faster but not produce images \n",
    "\n"
   ]
  },
  {
   "cell_type": "code",
   "execution_count": 6,
   "metadata": {},
   "outputs": [],
   "source": [
    "model_path = '../model_1400_latest.pt'\n",
    "observation_space = env.observation_space\n",
    "action_space = env.action_space.n\n",
    "model = ImpalaCNN(observation_space, action_space)\n",
    "model.load_from_file(model_path, device=\"cpu\")\n"
   ]
  },
  {
   "cell_type": "code",
   "execution_count": 7,
   "metadata": {},
   "outputs": [],
   "source": [
    "@torch.no_grad()\n",
    "def generate_action(model, observation):\n",
    "    observation = torch.tensor(observation, dtype=torch.float32).unsqueeze(0)\n",
    "\n",
    "    model_output = model(observation)\n",
    "    \n",
    "    logits = model_output[0].logits  # discard the output of the critic in our actor critic network\n",
    "    \n",
    "    probabilities = torch.softmax(logits, dim=-1)\n",
    "    \n",
    "    action = torch.multinomial(probabilities, 1).item() \n",
    "    return action\n"
   ]
  },
  {
   "cell_type": "code",
   "execution_count": 8,
   "metadata": {},
   "outputs": [
    {
     "name": "stdout",
     "output_type": "stream",
     "text": [
      "Episode 1 finished with total reward: 10.0\n",
      "Episode 2 finished with total reward: 10.0\n",
      "Episode 3 finished with total reward: 10.0\n",
      "Episode 4 finished with total reward: 10.0\n",
      "Episode 5 finished with total reward: 10.0\n",
      "Episode 6 finished with total reward: 10.0\n",
      "Episode 7 finished with total reward: 10.0\n",
      "Episode 8 finished with total reward: 10.0\n",
      "Episode 9 finished with total reward: 10.0\n",
      "Episode 10 finished with total reward: 10.0\n",
      "Episode 11 finished with total reward: 10.0\n",
      "Episode 12 finished with total reward: 10.0\n",
      "Episode 13 finished with total reward: 10.0\n",
      "Episode 14 finished with total reward: 10.0\n",
      "Episode 15 finished with total reward: 10.0\n",
      "Episode 16 finished with total reward: 10.0\n",
      "Episode 17 finished with total reward: 10.0\n"
     ]
    },
    {
     "ename": "KeyboardInterrupt",
     "evalue": "",
     "output_type": "error",
     "traceback": [
      "\u001b[0;31m---------------------------------------------------------------------------\u001b[0m",
      "\u001b[0;31mKeyboardInterrupt\u001b[0m                         Traceback (most recent call last)",
      "\u001b[1;32m/Users/bensturgeon/werk/ai-safety-camp-2024-model-agents/notebooks/heist_data_generation.ipynb Cell 5\u001b[0m line \u001b[0;36m2\n\u001b[1;32m     <a href='vscode-notebook-cell:/Users/bensturgeon/werk/ai-safety-camp-2024-model-agents/notebooks/heist_data_generation.ipynb#W4sZmlsZQ%3D%3D?line=22'>23</a>\u001b[0m save_gif_option \u001b[39m=\u001b[39m \u001b[39mTrue\u001b[39;00m  \u001b[39m# Set to True if you want to save the episode as a GIF\u001b[39;00m\n\u001b[1;32m     <a href='vscode-notebook-cell:/Users/bensturgeon/werk/ai-safety-camp-2024-model-agents/notebooks/heist_data_generation.ipynb#W4sZmlsZQ%3D%3D?line=24'>25</a>\u001b[0m \u001b[39mfor\u001b[39;00m episode \u001b[39min\u001b[39;00m \u001b[39mrange\u001b[39m(\u001b[39m20\u001b[39m):\n\u001b[0;32m---> <a href='vscode-notebook-cell:/Users/bensturgeon/werk/ai-safety-camp-2024-model-agents/notebooks/heist_data_generation.ipynb#W4sZmlsZQ%3D%3D?line=25'>26</a>\u001b[0m     total_reward, _ \u001b[39m=\u001b[39m run_episode_and_save_as_gif(env, model, filepath\u001b[39m=\u001b[39;49m\u001b[39mf\u001b[39;49m\u001b[39m'\u001b[39;49m\u001b[39mepisode_mod_2_\u001b[39;49m\u001b[39m{\u001b[39;49;00mepisode\u001b[39m+\u001b[39;49m\u001b[39m1\u001b[39;49m\u001b[39m}\u001b[39;49;00m\u001b[39m.gif\u001b[39;49m\u001b[39m'\u001b[39;49m, save_gif\u001b[39m=\u001b[39;49msave_gif_option)\n\u001b[1;32m     <a href='vscode-notebook-cell:/Users/bensturgeon/werk/ai-safety-camp-2024-model-agents/notebooks/heist_data_generation.ipynb#W4sZmlsZQ%3D%3D?line=26'>27</a>\u001b[0m     \u001b[39mprint\u001b[39m(\u001b[39mf\u001b[39m\u001b[39m\"\u001b[39m\u001b[39mEpisode \u001b[39m\u001b[39m{\u001b[39;00mepisode\u001b[39m \u001b[39m\u001b[39m+\u001b[39m\u001b[39m \u001b[39m\u001b[39m1\u001b[39m\u001b[39m}\u001b[39;00m\u001b[39m finished with total reward: \u001b[39m\u001b[39m{\u001b[39;00mtotal_reward\u001b[39m}\u001b[39;00m\u001b[39m\"\u001b[39m)\n",
      "\u001b[1;32m/Users/bensturgeon/werk/ai-safety-camp-2024-model-agents/notebooks/heist_data_generation.ipynb Cell 5\u001b[0m line \u001b[0;36m1\n\u001b[1;32m     <a href='vscode-notebook-cell:/Users/bensturgeon/werk/ai-safety-camp-2024-model-agents/notebooks/heist_data_generation.ipynb#W4sZmlsZQ%3D%3D?line=14'>15</a>\u001b[0m     total_reward \u001b[39m+\u001b[39m\u001b[39m=\u001b[39m reward\n\u001b[1;32m     <a href='vscode-notebook-cell:/Users/bensturgeon/werk/ai-safety-camp-2024-model-agents/notebooks/heist_data_generation.ipynb#W4sZmlsZQ%3D%3D?line=16'>17</a>\u001b[0m \u001b[39mif\u001b[39;00m save_gif:\n\u001b[0;32m---> <a href='vscode-notebook-cell:/Users/bensturgeon/werk/ai-safety-camp-2024-model-agents/notebooks/heist_data_generation.ipynb#W4sZmlsZQ%3D%3D?line=17'>18</a>\u001b[0m     imageio\u001b[39m.\u001b[39;49mmimsave(filepath, frames, fps\u001b[39m=\u001b[39;49m\u001b[39m30\u001b[39;49m)  \u001b[39m# Adjust fps as needed\u001b[39;00m\n\u001b[1;32m     <a href='vscode-notebook-cell:/Users/bensturgeon/werk/ai-safety-camp-2024-model-agents/notebooks/heist_data_generation.ipynb#W4sZmlsZQ%3D%3D?line=19'>20</a>\u001b[0m \u001b[39mreturn\u001b[39;00m total_reward, frames\n",
      "File \u001b[0;32m~/Library/Caches/pypoetry/virtualenvs/ai-safety-camp-Y8XZewIj-py3.10/lib/python3.10/site-packages/imageio/v2.py:494\u001b[0m, in \u001b[0;36mmimwrite\u001b[0;34m(uri, ims, format, **kwargs)\u001b[0m\n\u001b[1;32m    492\u001b[0m imopen_args \u001b[39m=\u001b[39m decypher_format_arg(\u001b[39mformat\u001b[39m)\n\u001b[1;32m    493\u001b[0m imopen_args[\u001b[39m\"\u001b[39m\u001b[39mlegacy_mode\u001b[39m\u001b[39m\"\u001b[39m] \u001b[39m=\u001b[39m \u001b[39mTrue\u001b[39;00m\n\u001b[0;32m--> 494\u001b[0m \u001b[39mwith\u001b[39;00m imopen(uri, \u001b[39m\"\u001b[39m\u001b[39mwI\u001b[39m\u001b[39m\"\u001b[39m, \u001b[39m*\u001b[39m\u001b[39m*\u001b[39mimopen_args) \u001b[39mas\u001b[39;00m file:\n\u001b[1;32m    495\u001b[0m     \u001b[39mreturn\u001b[39;00m file\u001b[39m.\u001b[39mwrite(ims, is_batch\u001b[39m=\u001b[39m\u001b[39mTrue\u001b[39;00m, \u001b[39m*\u001b[39m\u001b[39m*\u001b[39mkwargs)\n",
      "File \u001b[0;32m~/Library/Caches/pypoetry/virtualenvs/ai-safety-camp-Y8XZewIj-py3.10/lib/python3.10/site-packages/imageio/core/v3_plugin_api.py:367\u001b[0m, in \u001b[0;36mPluginV3.__exit__\u001b[0;34m(self, type, value, traceback)\u001b[0m\n\u001b[1;32m    366\u001b[0m \u001b[39mdef\u001b[39;00m \u001b[39m__exit__\u001b[39m(\u001b[39mself\u001b[39m, \u001b[39mtype\u001b[39m, value, traceback) \u001b[39m-\u001b[39m\u001b[39m>\u001b[39m \u001b[39mNone\u001b[39;00m:\n\u001b[0;32m--> 367\u001b[0m     \u001b[39mself\u001b[39;49m\u001b[39m.\u001b[39;49mclose()\n",
      "File \u001b[0;32m~/Library/Caches/pypoetry/virtualenvs/ai-safety-camp-Y8XZewIj-py3.10/lib/python3.10/site-packages/imageio/plugins/pillow.py:144\u001b[0m, in \u001b[0;36mPillowPlugin.close\u001b[0;34m(self)\u001b[0m\n\u001b[1;32m    143\u001b[0m \u001b[39mdef\u001b[39;00m \u001b[39mclose\u001b[39m(\u001b[39mself\u001b[39m) \u001b[39m-\u001b[39m\u001b[39m>\u001b[39m \u001b[39mNone\u001b[39;00m:\n\u001b[0;32m--> 144\u001b[0m     \u001b[39mself\u001b[39;49m\u001b[39m.\u001b[39;49m_flush_writer()\n\u001b[1;32m    146\u001b[0m     \u001b[39mif\u001b[39;00m \u001b[39mself\u001b[39m\u001b[39m.\u001b[39m_image:\n\u001b[1;32m    147\u001b[0m         \u001b[39mself\u001b[39m\u001b[39m.\u001b[39m_image\u001b[39m.\u001b[39mclose()\n",
      "File \u001b[0;32m~/Library/Caches/pypoetry/virtualenvs/ai-safety-camp-Y8XZewIj-py3.10/lib/python3.10/site-packages/imageio/plugins/pillow.py:485\u001b[0m, in \u001b[0;36mPillowPlugin._flush_writer\u001b[0;34m(self)\u001b[0m\n\u001b[1;32m    482\u001b[0m     \u001b[39mself\u001b[39m\u001b[39m.\u001b[39msave_args[\u001b[39m\"\u001b[39m\u001b[39msave_all\u001b[39m\u001b[39m\"\u001b[39m] \u001b[39m=\u001b[39m \u001b[39mTrue\u001b[39;00m\n\u001b[1;32m    483\u001b[0m     \u001b[39mself\u001b[39m\u001b[39m.\u001b[39msave_args[\u001b[39m\"\u001b[39m\u001b[39mappend_images\u001b[39m\u001b[39m\"\u001b[39m] \u001b[39m=\u001b[39m \u001b[39mself\u001b[39m\u001b[39m.\u001b[39mimages_to_write\n\u001b[0;32m--> 485\u001b[0m primary_image\u001b[39m.\u001b[39;49msave(\u001b[39mself\u001b[39;49m\u001b[39m.\u001b[39;49m_request\u001b[39m.\u001b[39;49mget_file(), \u001b[39m*\u001b[39;49m\u001b[39m*\u001b[39;49m\u001b[39mself\u001b[39;49m\u001b[39m.\u001b[39;49msave_args)\n\u001b[1;32m    486\u001b[0m \u001b[39mself\u001b[39m\u001b[39m.\u001b[39mimages_to_write\u001b[39m.\u001b[39mclear()\n\u001b[1;32m    487\u001b[0m \u001b[39mself\u001b[39m\u001b[39m.\u001b[39msave_args\u001b[39m.\u001b[39mclear()\n",
      "File \u001b[0;32m~/Library/Caches/pypoetry/virtualenvs/ai-safety-camp-Y8XZewIj-py3.10/lib/python3.10/site-packages/PIL/Image.py:2439\u001b[0m, in \u001b[0;36mImage.save\u001b[0;34m(self, fp, format, **params)\u001b[0m\n\u001b[1;32m   2436\u001b[0m         fp \u001b[39m=\u001b[39m builtins\u001b[39m.\u001b[39mopen(filename, \u001b[39m\"\u001b[39m\u001b[39mw+b\u001b[39m\u001b[39m\"\u001b[39m)\n\u001b[1;32m   2438\u001b[0m \u001b[39mtry\u001b[39;00m:\n\u001b[0;32m-> 2439\u001b[0m     save_handler(\u001b[39mself\u001b[39;49m, fp, filename)\n\u001b[1;32m   2440\u001b[0m \u001b[39mexcept\u001b[39;00m \u001b[39mException\u001b[39;00m:\n\u001b[1;32m   2441\u001b[0m     \u001b[39mif\u001b[39;00m open_fp:\n",
      "File \u001b[0;32m~/Library/Caches/pypoetry/virtualenvs/ai-safety-camp-Y8XZewIj-py3.10/lib/python3.10/site-packages/PIL/GifImagePlugin.py:704\u001b[0m, in \u001b[0;36m_save_all\u001b[0;34m(im, fp, filename)\u001b[0m\n\u001b[1;32m    703\u001b[0m \u001b[39mdef\u001b[39;00m \u001b[39m_save_all\u001b[39m(im, fp, filename):\n\u001b[0;32m--> 704\u001b[0m     _save(im, fp, filename, save_all\u001b[39m=\u001b[39;49m\u001b[39mTrue\u001b[39;49;00m)\n",
      "File \u001b[0;32m~/Library/Caches/pypoetry/virtualenvs/ai-safety-camp-Y8XZewIj-py3.10/lib/python3.10/site-packages/PIL/GifImagePlugin.py:715\u001b[0m, in \u001b[0;36m_save\u001b[0;34m(im, fp, filename, save_all)\u001b[0m\n\u001b[1;32m    712\u001b[0m     palette \u001b[39m=\u001b[39m \u001b[39mNone\u001b[39;00m\n\u001b[1;32m    713\u001b[0m     im\u001b[39m.\u001b[39mencoderinfo\u001b[39m.\u001b[39msetdefault(\u001b[39m\"\u001b[39m\u001b[39moptimize\u001b[39m\u001b[39m\"\u001b[39m, \u001b[39mTrue\u001b[39;00m)\n\u001b[0;32m--> 715\u001b[0m \u001b[39mif\u001b[39;00m \u001b[39mnot\u001b[39;00m save_all \u001b[39mor\u001b[39;00m \u001b[39mnot\u001b[39;00m _write_multiple_frames(im, fp, palette):\n\u001b[1;32m    716\u001b[0m     _write_single_frame(im, fp, palette)\n\u001b[1;32m    718\u001b[0m fp\u001b[39m.\u001b[39mwrite(\u001b[39mb\u001b[39m\u001b[39m\"\u001b[39m\u001b[39m;\u001b[39m\u001b[39m\"\u001b[39m)  \u001b[39m# end of file\u001b[39;00m\n",
      "File \u001b[0;32m~/Library/Caches/pypoetry/virtualenvs/ai-safety-camp-Y8XZewIj-py3.10/lib/python3.10/site-packages/PIL/GifImagePlugin.py:602\u001b[0m, in \u001b[0;36m_write_multiple_frames\u001b[0;34m(im, fp, palette)\u001b[0m\n\u001b[1;32m    599\u001b[0m \u001b[39mfor\u001b[39;00m imSequence \u001b[39min\u001b[39;00m itertools\u001b[39m.\u001b[39mchain([im], im\u001b[39m.\u001b[39mencoderinfo\u001b[39m.\u001b[39mget(\u001b[39m\"\u001b[39m\u001b[39mappend_images\u001b[39m\u001b[39m\"\u001b[39m, [])):\n\u001b[1;32m    600\u001b[0m     \u001b[39mfor\u001b[39;00m im_frame \u001b[39min\u001b[39;00m ImageSequence\u001b[39m.\u001b[39mIterator(imSequence):\n\u001b[1;32m    601\u001b[0m         \u001b[39m# a copy is required here since seek can still mutate the image\u001b[39;00m\n\u001b[0;32m--> 602\u001b[0m         im_frame \u001b[39m=\u001b[39m _normalize_mode(im_frame\u001b[39m.\u001b[39;49mcopy())\n\u001b[1;32m    603\u001b[0m         \u001b[39mif\u001b[39;00m frame_count \u001b[39m==\u001b[39m \u001b[39m0\u001b[39m:\n\u001b[1;32m    604\u001b[0m             \u001b[39mfor\u001b[39;00m k, v \u001b[39min\u001b[39;00m im_frame\u001b[39m.\u001b[39minfo\u001b[39m.\u001b[39mitems():\n",
      "File \u001b[0;32m~/Library/Caches/pypoetry/virtualenvs/ai-safety-camp-Y8XZewIj-py3.10/lib/python3.10/site-packages/PIL/GifImagePlugin.py:492\u001b[0m, in \u001b[0;36m_normalize_mode\u001b[0;34m(im)\u001b[0m\n\u001b[1;32m    490\u001b[0m     \u001b[39mreturn\u001b[39;00m im\n\u001b[1;32m    491\u001b[0m \u001b[39mif\u001b[39;00m Image\u001b[39m.\u001b[39mgetmodebase(im\u001b[39m.\u001b[39mmode) \u001b[39m==\u001b[39m \u001b[39m\"\u001b[39m\u001b[39mRGB\u001b[39m\u001b[39m\"\u001b[39m:\n\u001b[0;32m--> 492\u001b[0m     im \u001b[39m=\u001b[39m im\u001b[39m.\u001b[39;49mconvert(\u001b[39m\"\u001b[39;49m\u001b[39mP\u001b[39;49m\u001b[39m\"\u001b[39;49m, palette\u001b[39m=\u001b[39;49mImage\u001b[39m.\u001b[39;49mPalette\u001b[39m.\u001b[39;49mADAPTIVE)\n\u001b[1;32m    493\u001b[0m     \u001b[39mif\u001b[39;00m im\u001b[39m.\u001b[39mpalette\u001b[39m.\u001b[39mmode \u001b[39m==\u001b[39m \u001b[39m\"\u001b[39m\u001b[39mRGBA\u001b[39m\u001b[39m\"\u001b[39m:\n\u001b[1;32m    494\u001b[0m         \u001b[39mfor\u001b[39;00m rgba \u001b[39min\u001b[39;00m im\u001b[39m.\u001b[39mpalette\u001b[39m.\u001b[39mcolors:\n",
      "File \u001b[0;32m~/Library/Caches/pypoetry/virtualenvs/ai-safety-camp-Y8XZewIj-py3.10/lib/python3.10/site-packages/PIL/Image.py:1029\u001b[0m, in \u001b[0;36mImage.convert\u001b[0;34m(self, mode, matrix, dither, palette, colors)\u001b[0m\n\u001b[1;32m   1026\u001b[0m             \u001b[39mraise\u001b[39;00m \u001b[39mValueError\u001b[39;00m(msg)\n\u001b[1;32m   1028\u001b[0m \u001b[39mif\u001b[39;00m mode \u001b[39m==\u001b[39m \u001b[39m\"\u001b[39m\u001b[39mP\u001b[39m\u001b[39m\"\u001b[39m \u001b[39mand\u001b[39;00m palette \u001b[39m==\u001b[39m Palette\u001b[39m.\u001b[39mADAPTIVE:\n\u001b[0;32m-> 1029\u001b[0m     im \u001b[39m=\u001b[39m \u001b[39mself\u001b[39;49m\u001b[39m.\u001b[39;49mim\u001b[39m.\u001b[39;49mquantize(colors)\n\u001b[1;32m   1030\u001b[0m     new_im \u001b[39m=\u001b[39m \u001b[39mself\u001b[39m\u001b[39m.\u001b[39m_new(im)\n\u001b[1;32m   1031\u001b[0m     \u001b[39mfrom\u001b[39;00m \u001b[39m.\u001b[39;00m \u001b[39mimport\u001b[39;00m ImagePalette\n",
      "\u001b[0;31mKeyboardInterrupt\u001b[0m: "
     ]
    }
   ],
   "source": [
    "import torch\n",
    "import imageio\n",
    "\n",
    "def run_episode_and_save_as_gif(env, model, filepath='../gifs/run.gif', save_gif=False):\n",
    "    frames = []  \n",
    "    observation = env.reset()\n",
    "    done = False\n",
    "    total_reward = 0\n",
    "\n",
    "    while not done:\n",
    "        if save_gif:\n",
    "            frames.append(env.render(mode='rgb_array'))  \n",
    "        action = generate_action(model, observation)  \n",
    "        observation, reward, done, info = env.step(action)\n",
    "        total_reward += reward\n",
    "\n",
    "    if save_gif:\n",
    "        imageio.mimsave(filepath, frames, fps=30) \n",
    "\n",
    "    return total_reward, frames \n",
    "\n",
    "\n",
    "save_gif_option = True  \n",
    "\n",
    "for episode in range(20):\n",
    "    total_reward, _ = run_episode_and_save_as_gif(env, model, filepath=f'episode_mod_2_{episode+1}.gif', save_gif=save_gif_option)\n",
    "    print(f\"Episode {episode + 1} finished with total reward: {total_reward}\")\n"
   ]
  },
  {
   "cell_type": "code",
   "execution_count": null,
   "metadata": {},
   "outputs": [],
   "source": []
  }
 ],
 "metadata": {
  "kernelspec": {
   "display_name": "ai-safety-camp-Y8XZewIj-py3.10",
   "language": "python",
   "name": "python3"
  },
  "language_info": {
   "codemirror_mode": {
    "name": "ipython",
    "version": 3
   },
   "file_extension": ".py",
   "mimetype": "text/x-python",
   "name": "python",
   "nbconvert_exporter": "python",
   "pygments_lexer": "ipython3",
   "version": "3.10.12"
  }
 },
 "nbformat": 4,
 "nbformat_minor": 2
}
